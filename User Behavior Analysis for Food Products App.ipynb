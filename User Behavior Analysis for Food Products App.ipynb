{
 "cells": [
  {
   "cell_type": "markdown",
   "metadata": {},
   "source": [
    "# User Behavior Analysis and Evaluation of a Design Change through an A/A/B Test in an Emerging Food Products Company"
   ]
  },
  {
   "cell_type": "markdown",
   "metadata": {},
   "source": [
    "## Introduction\n",
    "\n",
    "In the dynamic landscape of a burgeoning company specializing in food product sales, understanding user behavior and evaluating the impact of design changes in the mobile application are essential for optimizing the customer experience and enhancing conversion rates. This project is designed to address two key aspects: a comprehensive sales funnel analysis and the assessment of a typographic redesign through an A/A/B test.\n",
    "\n",
    "The sales funnel analysis offers valuable insights into user interactions within the application. It identifies critical stages where users drop off and quantifies the proportion of users who complete the purchase process. This analysis is crucial for pinpointing areas for improvement and refining the customer journey to maximize conversions.\n",
    "\n",
    "Simultaneously, the design team has proposed a typographic change aimed at improving the visual appeal and usability of the application. There is, however, a concern that the new design may be perceived as overwhelming by users. To address this concern, we implemented an A/A/B experiment. In this setup, users are divided into three groups: two control groups that retain the original typography and one test group that experiences the new typographic design. This experimental design allows us to assess whether the new typography influences user behavior and whether any observed differences are statistically significant.\n",
    "\n",
    "The data analysis encompasses the following key steps:\n",
    "1. **Importing Libraries and Loading Data:** Selecting and importing the necessary libraries, followed by a preliminary analysis of the dataset.\n",
    "2. **Data Preparation:** Renaming columns, handling missing values, and creating additional columns to facilitate a thorough analysis.\n",
    "3. **Data Exploration and Validation:** Counting events and users, and analyzing the temporal distribution of data to ensure data integrity.\n",
    "4. **Sales Funnel Analysis:** Identifying critical events, calculating conversion rates, and detecting stages where users encounter issues.\n",
    "5. **A/A/B Experiment Evaluation:** Comparing the control groups with the test group to determine if the typographic change significantly impacts user behavior.\n",
    "\n",
    "Through this project, we aim to gain a deep understanding of user behavior within the application and make data-driven decisions to enhance design and functionality. The insights derived from this rigorous analysis will help guide future design improvements and optimize the user experience."
   ]
  },
  {
   "cell_type": "markdown",
   "metadata": {},
   "source": [
    "### Library Importation"
   ]
  },
  {
   "cell_type": "code",
   "execution_count": 1,
   "metadata": {},
   "outputs": [],
   "source": [
    "# Importing libraries for data analysis and visualization\n",
    "\n",
    "# Libraries for data manipulation\n",
    "import pandas as pd\n",
    "import numpy as np\n",
    "\n",
    "# Libraries for data visualization\n",
    "import matplotlib.pyplot as plt\n",
    "%matplotlib inline\n",
    "import seaborn as sns\n",
    "import plotly.express as px\n",
    "from plotly import graph_objects as go\n",
    "\n",
    "# Libraries for statistical tests\n",
    "from scipy import stats as st\n",
    "from statsmodels.stats.proportion import proportions_ztest\n",
    "from scipy.stats import chi2_contingency, ttest_ind\n",
    "import statsmodels.stats.multitest as smm\n",
    "\n",
    "# Libraries for date handling\n",
    "import datetime as dt\n",
    "from datetime import datetime\n",
    "\n",
    "# Configuring the styles for the charts\n",
    "sns.set(style=\"whitegrid\")\n",
    "\n",
    "# Libraries for displaying warnings\n",
    "import warnings\n",
    "warnings.filterwarnings('ignore')"
   ]
  },
  {
   "cell_type": "markdown",
   "metadata": {},
   "source": [
    "### Data Loading"
   ]
  },
  {
   "cell_type": "code",
   "execution_count": 2,
   "metadata": {},
   "outputs": [
    {
     "name": "stdout",
     "output_type": "stream",
     "text": [
      "Preliminary view of the data:\n"
     ]
    },
    {
     "data": {
      "text/html": [
       "<div>\n",
       "<style scoped>\n",
       "    .dataframe tbody tr th:only-of-type {\n",
       "        vertical-align: middle;\n",
       "    }\n",
       "\n",
       "    .dataframe tbody tr th {\n",
       "        vertical-align: top;\n",
       "    }\n",
       "\n",
       "    .dataframe thead th {\n",
       "        text-align: right;\n",
       "    }\n",
       "</style>\n",
       "<table border=\"1\" class=\"dataframe\">\n",
       "  <thead>\n",
       "    <tr style=\"text-align: right;\">\n",
       "      <th></th>\n",
       "      <th>EventName</th>\n",
       "      <th>DeviceIDHash</th>\n",
       "      <th>EventTimestamp</th>\n",
       "      <th>ExpId</th>\n",
       "    </tr>\n",
       "  </thead>\n",
       "  <tbody>\n",
       "    <tr>\n",
       "      <th>0</th>\n",
       "      <td>MainScreenAppear</td>\n",
       "      <td>4575588528974610257</td>\n",
       "      <td>1564029816</td>\n",
       "      <td>246</td>\n",
       "    </tr>\n",
       "    <tr>\n",
       "      <th>1</th>\n",
       "      <td>MainScreenAppear</td>\n",
       "      <td>7416695313311560658</td>\n",
       "      <td>1564053102</td>\n",
       "      <td>246</td>\n",
       "    </tr>\n",
       "    <tr>\n",
       "      <th>2</th>\n",
       "      <td>PaymentScreenSuccessful</td>\n",
       "      <td>3518123091307005509</td>\n",
       "      <td>1564054127</td>\n",
       "      <td>248</td>\n",
       "    </tr>\n",
       "    <tr>\n",
       "      <th>3</th>\n",
       "      <td>CartScreenAppear</td>\n",
       "      <td>3518123091307005509</td>\n",
       "      <td>1564054127</td>\n",
       "      <td>248</td>\n",
       "    </tr>\n",
       "    <tr>\n",
       "      <th>4</th>\n",
       "      <td>PaymentScreenSuccessful</td>\n",
       "      <td>6217807653094995999</td>\n",
       "      <td>1564055322</td>\n",
       "      <td>248</td>\n",
       "    </tr>\n",
       "  </tbody>\n",
       "</table>\n",
       "</div>"
      ],
      "text/plain": [
       "                 EventName         DeviceIDHash  EventTimestamp  ExpId\n",
       "0         MainScreenAppear  4575588528974610257      1564029816    246\n",
       "1         MainScreenAppear  7416695313311560658      1564053102    246\n",
       "2  PaymentScreenSuccessful  3518123091307005509      1564054127    248\n",
       "3         CartScreenAppear  3518123091307005509      1564054127    248\n",
       "4  PaymentScreenSuccessful  6217807653094995999      1564055322    248"
      ]
     },
     "metadata": {},
     "output_type": "display_data"
    }
   ],
   "source": [
    "# File path for the data\n",
    "file_path = r'C:\\Users\\Barbs\\Documents\\GitHub\\English\\User Behavior Analysis for Food Products App\\logs_exp_us.csv'\n",
    "\n",
    "# Load the data into a pandas DataFrame\n",
    "data = pd.read_csv(file_path, delimiter='\\t')\n",
    "\n",
    "# Display the first few rows of the DataFrame to verify data loading\n",
    "print(\"Preliminary view of the data:\")\n",
    "display(data.head())"
   ]
  },
  {
   "cell_type": "markdown",
   "metadata": {},
   "source": [
    "After reviewing the preliminary view of the data, we noticed that the column headers are separated by tabs instead of commas, which makes the initial reading of the data more challenging. We suggest renaming the columns to lowercase with underscores for better readability and consistency. Additionally, it would be beneficial to conduct a more detailed exploration of the unique values in each column to better understand the variability and distribution of the data.\n",
    "\n",
    "Regarding the content of the data, we can observe that the dataset contains records of events, each associated with an event name, a unique device ID, a timestamp, and an experiment ID. The most common events include the appearance of the main screen, offers, shopping cart, and successful payments. Some users experience multiple events, such as the main screen appearing followed by a purchase. Additionally, the data seems to be divided into different experimental groups identified by a specific ID. This tabular structure provides an initial insight into the content and organization of the data."
   ]
  },
  {
   "cell_type": "markdown",
   "metadata": {},
   "source": [
    "## Data Preparation"
   ]
  },
  {
   "cell_type": "code",
   "execution_count": 3,
   "metadata": {},
   "outputs": [
    {
     "name": "stdout",
     "output_type": "stream",
     "text": [
      "Data types and missing values before correction:\n",
      "\n",
      "event_name         object\n",
      "device_id_hash      int64\n",
      "event_timestamp     int64\n",
      "exp_id              int64\n",
      "dtype: object\n",
      "\n",
      "Missing values by column:\n",
      "\n",
      "event_name         0\n",
      "device_id_hash     0\n",
      "event_timestamp    0\n",
      "exp_id             0\n",
      "dtype: int64\n",
      "\n",
      "--------------------------------------------------\n",
      "\n",
      "Data types and missing values after correction:\n",
      "\n",
      "event_name                 object\n",
      "device_id_hash              int64\n",
      "event_timestamp    datetime64[ns]\n",
      "exp_id                      int64\n",
      "date                       object\n",
      "time                       object\n",
      "dtype: object\n",
      "\n",
      "Missing values by column:\n",
      "\n",
      "event_name         0\n",
      "device_id_hash     0\n",
      "event_timestamp    0\n",
      "exp_id             0\n",
      "date               0\n",
      "time               0\n",
      "dtype: int64\n",
      "\n",
      "--------------------------------------------------\n",
      "\n",
      "Number of duplicate rows: 413\n",
      "\n",
      "--------------------------------------------------\n",
      "\n",
      "Preliminary view of the prepared data:\n",
      "\n"
     ]
    },
    {
     "data": {
      "text/html": [
       "<div>\n",
       "<style scoped>\n",
       "    .dataframe tbody tr th:only-of-type {\n",
       "        vertical-align: middle;\n",
       "    }\n",
       "\n",
       "    .dataframe tbody tr th {\n",
       "        vertical-align: top;\n",
       "    }\n",
       "\n",
       "    .dataframe thead th {\n",
       "        text-align: right;\n",
       "    }\n",
       "</style>\n",
       "<table border=\"1\" class=\"dataframe\">\n",
       "  <thead>\n",
       "    <tr style=\"text-align: right;\">\n",
       "      <th></th>\n",
       "      <th>event_name</th>\n",
       "      <th>device_id_hash</th>\n",
       "      <th>event_timestamp</th>\n",
       "      <th>exp_id</th>\n",
       "      <th>date</th>\n",
       "      <th>time</th>\n",
       "    </tr>\n",
       "  </thead>\n",
       "  <tbody>\n",
       "    <tr>\n",
       "      <th>0</th>\n",
       "      <td>MainScreenAppear</td>\n",
       "      <td>4575588528974610257</td>\n",
       "      <td>2019-07-25 04:43:36</td>\n",
       "      <td>246</td>\n",
       "      <td>2019-07-25</td>\n",
       "      <td>04:43:36</td>\n",
       "    </tr>\n",
       "    <tr>\n",
       "      <th>1</th>\n",
       "      <td>MainScreenAppear</td>\n",
       "      <td>7416695313311560658</td>\n",
       "      <td>2019-07-25 11:11:42</td>\n",
       "      <td>246</td>\n",
       "      <td>2019-07-25</td>\n",
       "      <td>11:11:42</td>\n",
       "    </tr>\n",
       "    <tr>\n",
       "      <th>2</th>\n",
       "      <td>PaymentScreenSuccessful</td>\n",
       "      <td>3518123091307005509</td>\n",
       "      <td>2019-07-25 11:28:47</td>\n",
       "      <td>248</td>\n",
       "      <td>2019-07-25</td>\n",
       "      <td>11:28:47</td>\n",
       "    </tr>\n",
       "    <tr>\n",
       "      <th>3</th>\n",
       "      <td>CartScreenAppear</td>\n",
       "      <td>3518123091307005509</td>\n",
       "      <td>2019-07-25 11:28:47</td>\n",
       "      <td>248</td>\n",
       "      <td>2019-07-25</td>\n",
       "      <td>11:28:47</td>\n",
       "    </tr>\n",
       "    <tr>\n",
       "      <th>4</th>\n",
       "      <td>PaymentScreenSuccessful</td>\n",
       "      <td>6217807653094995999</td>\n",
       "      <td>2019-07-25 11:48:42</td>\n",
       "      <td>248</td>\n",
       "      <td>2019-07-25</td>\n",
       "      <td>11:48:42</td>\n",
       "    </tr>\n",
       "  </tbody>\n",
       "</table>\n",
       "</div>"
      ],
      "text/plain": [
       "                event_name       device_id_hash     event_timestamp  exp_id  \\\n",
       "0         MainScreenAppear  4575588528974610257 2019-07-25 04:43:36     246   \n",
       "1         MainScreenAppear  7416695313311560658 2019-07-25 11:11:42     246   \n",
       "2  PaymentScreenSuccessful  3518123091307005509 2019-07-25 11:28:47     248   \n",
       "3         CartScreenAppear  3518123091307005509 2019-07-25 11:28:47     248   \n",
       "4  PaymentScreenSuccessful  6217807653094995999 2019-07-25 11:48:42     248   \n",
       "\n",
       "         date      time  \n",
       "0  2019-07-25  04:43:36  \n",
       "1  2019-07-25  11:11:42  \n",
       "2  2019-07-25  11:28:47  \n",
       "3  2019-07-25  11:28:47  \n",
       "4  2019-07-25  11:48:42  "
      ]
     },
     "metadata": {},
     "output_type": "display_data"
    }
   ],
   "source": [
    "def prepare_data(df):\n",
    "    \"\"\"\n",
    "    Function to prepare the DataFrame for analysis.\n",
    "    \n",
    "    Parameters:\n",
    "    df (DataFrame): The DataFrame to prepare.\n",
    "    \n",
    "    Returns:\n",
    "    DataFrame: The prepared DataFrame.\n",
    "    \"\"\"\n",
    "    # Check if the expected columns are in the DataFrame\n",
    "    expected_columns = {'EventName', 'DeviceIDHash', 'EventTimestamp', 'ExpId'}\n",
    "    if not expected_columns.issubset(df.columns):\n",
    "        missing_cols = expected_columns - set(df.columns)\n",
    "        raise ValueError(f\"The following columns are missing in the DataFrame: {missing_cols}\")\n",
    "\n",
    "    # Rename the columns to lowercase with underscores\n",
    "    df = df.rename(columns={\n",
    "        'EventName': 'event_name',\n",
    "        'DeviceIDHash': 'device_id_hash',\n",
    "        'EventTimestamp': 'event_timestamp',\n",
    "        'ExpId': 'exp_id'\n",
    "    })\n",
    "\n",
    "    # Check data types and missing values\n",
    "    print(\"Data types and missing values before correction:\\n\")\n",
    "    print(df.dtypes)\n",
    "    print(\"\\nMissing values by column:\\n\")\n",
    "    print(df.isnull().sum())\n",
    "    print(\"\\n\" + \"-\"*50 + \"\\n\")\n",
    "\n",
    "    # Correct missing values if necessary\n",
    "    df = df.fillna({\n",
    "        'event_name': 'unknown_event',\n",
    "        'device_id_hash': 0,\n",
    "        'event_timestamp': 0,\n",
    "        'exp_id': -1\n",
    "    })\n",
    "\n",
    "    # Convert the timestamp column to datetime type\n",
    "    try:\n",
    "        df['event_timestamp'] = pd.to_datetime(df['event_timestamp'], unit='s', errors='coerce')\n",
    "    except Exception as e:\n",
    "        print(f\"Error converting the event_timestamp column to datetime: {e}\")\n",
    "\n",
    "    # Remove rows with unconverted dates if they exist\n",
    "    df = df.dropna(subset=['event_timestamp'])\n",
    "\n",
    "    # Add date and time columns, as well as a separate column for dates\n",
    "    df['date'] = df['event_timestamp'].dt.date\n",
    "    df['time'] = df['event_timestamp'].dt.time\n",
    "\n",
    "    # Check data types and missing values after correction\n",
    "    print(\"Data types and missing values after correction:\\n\")\n",
    "    print(df.dtypes)\n",
    "    print(\"\\nMissing values by column:\\n\")\n",
    "    print(df.isnull().sum())\n",
    "    print(\"\\n\" + \"-\"*50 + \"\\n\")\n",
    "    \n",
    "    # Check for duplicate values\n",
    "    duplicates = df.duplicated()\n",
    "    print(\"Number of duplicate rows:\", duplicates.sum()) # Displays the number of duplicate rows\n",
    "    print(\"\\n\" + \"-\"*50 + \"\\n\")\n",
    "\n",
    "    # Remove duplicate rows if any\n",
    "    df = df.drop_duplicates()\n",
    "\n",
    "    return df\n",
    "\n",
    "# Prepare the data\n",
    "prepared_data = prepare_data(data)\n",
    "\n",
    "# Display the first few rows of the prepared DataFrame\n",
    "print(\"Preliminary view of the prepared data:\\n\")\n",
    "display(prepared_data.head())"
   ]
  },
  {
   "cell_type": "markdown",
   "metadata": {},
   "source": [
    "After correcting the data types and reviewing the missing values in the dataset, we observe that all columns now have the appropriate data types, and no missing values are present. Before the correction, the timestamp and date columns were represented as integers instead of datetime objects, which complicated time series analysis and date manipulation. After the correction, the date and time columns have been added correctly, making it easier to understand the time period covered by the data. \n",
    "\n",
    "In the preliminary view of the prepared data, we can see that each event is now associated with an accurate timestamp and has been properly split into separate columns for date and time. This enhances readability and facilitates future analyses.\n"
   ]
  },
  {
   "cell_type": "markdown",
   "metadata": {},
   "source": [
    "## Data Exploration and Validation"
   ]
  },
  {
   "cell_type": "markdown",
   "metadata": {},
   "source": [
    "### How Many Events Are in the Records?"
   ]
  },
  {
   "cell_type": "code",
   "execution_count": 4,
   "metadata": {},
   "outputs": [
    {
     "name": "stdout",
     "output_type": "stream",
     "text": [
      "Total number of events in the records: 243713\n",
      "\n",
      "Events by type:\n",
      "event_name\n",
      "MainScreenAppear           119101\n",
      "OffersScreenAppear          46808\n",
      "CartScreenAppear            42668\n",
      "PaymentScreenSuccessful     34118\n",
      "Tutorial                     1018\n",
      "Name: count, dtype: int64\n",
      "\n"
     ]
    }
   ],
   "source": [
    "# Total number of events in the records\n",
    "total_events = prepared_data.shape[0]\n",
    "print(f\"Total number of events in the records: {total_events}\\n\")\n",
    "\n",
    "# Breakdown of events by type\n",
    "events_by_type = prepared_data['event_name'].value_counts()\n",
    "print(f\"Events by type:\\n{events_by_type}\\n\")"
   ]
  },
  {
   "cell_type": "markdown",
   "metadata": {},
   "source": [
    "After reviewing the quantity and types of events in the records, we observe that there is a total of 244,126 events logged, distributed across five different event types. The event types include `MainScreenAppear`, `OffersScreenAppear`, `CartScreenAppear`, `PaymentScreenSuccessful`, and `Tutorial`. This diversity of events provides a broad view of user interactions with the platform or application in question."
   ]
  },
  {
   "cell_type": "markdown",
   "metadata": {},
   "source": [
    "### How Many Users Are in the Records?"
   ]
  },
  {
   "cell_type": "code",
   "execution_count": 5,
   "metadata": {},
   "outputs": [
    {
     "name": "stdout",
     "output_type": "stream",
     "text": [
      "Total number of users in the records: 7551\n"
     ]
    }
   ],
   "source": [
    "# Total number of users in the records\n",
    "total_users = prepared_data['device_id_hash'].nunique()\n",
    "print(f\"Total number of users in the records: {total_users}\")"
   ]
  },
  {
   "cell_type": "markdown",
   "metadata": {},
   "source": [
    "After analyzing the dataset, we identified a total of 7,551 unique users recorded in the system. This number represents the total number of unique users who participated in the logged events during the considered time period."
   ]
  },
  {
   "cell_type": "markdown",
   "metadata": {},
   "source": [
    "### What Is the Average Number of Events per User?"
   ]
  },
  {
   "cell_type": "code",
   "execution_count": 6,
   "metadata": {},
   "outputs": [
    {
     "name": "stdout",
     "output_type": "stream",
     "text": [
      "Average number of events per user: 32.28\n"
     ]
    }
   ],
   "source": [
    "# Average number of events per user\n",
    "events_per_user = prepared_data.groupby('device_id_hash')['event_name'].count().reset_index()\n",
    "events_per_user.columns = ['user_id', 'count']\n",
    "average_events_per_user = events_per_user['count'].mean()\n",
    "print(f\"Average number of events per user: {average_events_per_user:.2f}\")"
   ]
  },
  {
   "cell_type": "markdown",
   "metadata": {},
   "source": [
    "After calculating the average number of events per user, we found that each user participated in approximately 32.33 events during the considered time period. This value provides a general measure of user activity on the platform during the analyzed period."
   ]
  },
  {
   "cell_type": "markdown",
   "metadata": {},
   "source": [
    "### What Time Period Is Covered by the Data? Maximum and Minimum Dates."
   ]
  },
  {
   "cell_type": "code",
   "execution_count": 7,
   "metadata": {},
   "outputs": [
    {
     "name": "stdout",
     "output_type": "stream",
     "text": [
      "Time period covered by the data: from 2019-07-25 04:43:36 to 2019-08-07 21:15:17\n"
     ]
    }
   ],
   "source": [
    "# Find the minimum and maximum dates\n",
    "min_date = prepared_data['event_timestamp'].min()\n",
    "max_date = prepared_data['event_timestamp'].max()\n",
    "print(f\"Time period covered by the data: from {min_date} to {max_date}\")\n"
   ]
  },
  {
   "cell_type": "markdown",
   "metadata": {},
   "source": [
    "The dataset covers a period from July 25, 2019, at 04:43:36 to August 7, 2019, at 21:15:17. This time range represents the interval during which events were recorded on the platform."
   ]
  },
  {
   "cell_type": "markdown",
   "metadata": {},
   "source": [
    "### Histogram by Date and Time"
   ]
  },
  {
   "cell_type": "code",
   "execution_count": 8,
   "metadata": {},
   "outputs": [
    {
     "data": {
      "image/png": "[encoded data removed]",
      "text/plain": [
       "<Figure size 1200x600 with 1 Axes>"
      ]
     },
     "metadata": {},
     "output_type": "display_data"
    }
   ],
   "source": [
    "# Plot histogram by date and time\n",
    "plt.figure(figsize=(12, 6))\n",
    "sns.histplot(prepared_data['event_timestamp'], bins=50, kde=True)\n",
    "plt.xlabel('Date and Time')\n",
    "plt.ylabel('Number of Events')\n",
    "plt.title('Histogram of Events by Date and Time')\n",
    "plt.xticks(rotation=45)\n",
    "plt.show()\n",
    "\n"
   ]
  },
  {
   "cell_type": "markdown",
   "metadata": {},
   "source": [
    "After analyzing the data, we observed that the minimum date in our records is July 25, 2019, at 04:43:36. However, when examining the histogram of events by date and time, we noticed a lack of uniformity in the distribution of data throughout the entire period. This disparity suggests that the data is not equally complete for the entire time interval. From August 1, 2019, onwards, the data begins to show more consistency and completeness, up until August 7, 2019. Therefore, we decided to disregard data prior to August 1, 2019, to ensure the integrity of our analysis and avoid biases in the overall picture.\n",
    "\n",
    "Additionally, when plotting the histogram of events by date and time, we observed a significant increase in the number of events recorded towards the end of July and the beginning of August, indicating higher activity during this period. To investigate this sudden spike in more detail, it is necessary to generate another visualization that allows us to examine this peak in event frequency with greater precision.\n"
   ]
  },
  {
   "cell_type": "markdown",
   "metadata": {},
   "source": [
    "### Moment When the Data Becomes Complete\n"
   ]
  },
  {
   "cell_type": "code",
   "execution_count": 9,
   "metadata": {},
   "outputs": [
    {
     "data": {
      "image/png": "[encoded data removed]",
      "text/plain": [
       "<Figure size 1200x600 with 1 Axes>"
      ]
     },
     "metadata": {},
     "output_type": "display_data"
    }
   ],
   "source": [
    "# Group the data by date to see the daily event frequency\n",
    "daily_frequency = prepared_data['date'].value_counts().sort_index()\n",
    "\n",
    "# Plot the daily event frequency\n",
    "plt.figure(figsize=(12, 6))\n",
    "daily_frequency.plot(kind='bar')\n",
    "plt.xlabel('Date')\n",
    "plt.ylabel('Number of Events')\n",
    "plt.title('Daily Event Frequency')\n",
    "plt.xticks(rotation=90)\n",
    "plt.show()\n",
    "\n",
    "# Determine the date from which the data becomes consistent\n",
    "# We assume that data is complete starting from a date where the frequency is stable.\n",
    "complete_data_start_date = daily_frequency[daily_frequency > 100].index[0]  # Adjust the threshold as needed\n",
    "complete_data = prepared_data[prepared_data['date'] >= complete_data_start_date]"
   ]
  },
  {
   "cell_type": "markdown",
   "metadata": {},
   "source": [
    "After grouping the data by date and plotting the daily event frequency, we identified a pattern in the distribution of events over time. By examining the daily frequency chart, we noticed that starting from a specific date, the event frequency becomes more stable, indicating that the data is consistent from that point onward. Using a threshold of 100 events per day, we determined the start date of this stability in the data. Therefore, we created a new dataset called \"complete_data,\" which includes only the records from this date onward, ensuring the integrity and reliability of our subsequent analyses."
   ]
  },
  {
   "cell_type": "markdown",
   "metadata": {},
   "source": [
    "### Are Many Events and Users Lost by Excluding the Older Data?"
   ]
  },
  {
   "cell_type": "code",
   "execution_count": 10,
   "metadata": {},
   "outputs": [
    {
     "name": "stdout",
     "output_type": "stream",
     "text": [
      "Lost events by excluding older data: 2826\n",
      "Percentage of lost events: 1.16%\n",
      "\n",
      "--------------------------------------------------\n",
      "\n",
      "Lost users by excluding older data: 17\n",
      "Percentage of lost users: 0.23%\n"
     ]
    }
   ],
   "source": [
    "# Convert the string to a datetime.date object\n",
    "start_date = datetime.strptime('2019-08-01', '%Y-%m-%d').date()\n",
    "\n",
    "# Filter the DataFrame to include only data from August 1, 2019, onwards\n",
    "complete_data = prepared_data[prepared_data['date'] >= start_date]\n",
    "\n",
    "# Calculate lost events and users by excluding older data\n",
    "lost_events = total_events - complete_data.shape[0]\n",
    "lost_users = total_users - complete_data['device_id_hash'].nunique()\n",
    "\n",
    "# Calculate the percentage of lost events and users\n",
    "percentage_lost_events = (lost_events / total_events) * 100\n",
    "percentage_lost_users = (lost_users / total_users) * 100\n",
    "\n",
    "# Print results\n",
    "print(f\"Lost events by excluding older data: {lost_events}\")\n",
    "print(f\"Percentage of lost events: {percentage_lost_events:.2f}%\")\n",
    "print(\"\\n\" + \"-\"*50 + \"\\n\")\n",
    "print(f\"Lost users by excluding older data: {lost_users}\")\n",
    "print(f\"Percentage of lost users: {percentage_lost_users:.2f}%\")"
   ]
  },
  {
   "cell_type": "markdown",
   "metadata": {},
   "source": [
    "After applying the filter to exclude the older data, a minimal loss in both events and users was observed. Specifically, 2,826 events were lost, which represents approximately 1.16% of the total events, and 17 users were lost, equivalent to 0.23% of the total users. Although these figures are not significant in absolute terms, it is crucial to consider them when interpreting the analysis results. This filtering may influence the representativeness of the sample and, consequently, the conclusions drawn from the study. Therefore, it is recommended to take these losses into account when conducting subsequent analyses and interpreting the results to ensure their validity and reliability."
   ]
  },
  {
   "cell_type": "markdown",
   "metadata": {},
   "source": [
    "### Users in the Three Experimental Groups"
   ]
  },
  {
   "cell_type": "code",
   "execution_count": 11,
   "metadata": {},
   "outputs": [
    {
     "name": "stdout",
     "output_type": "stream",
     "text": [
      "Experimental groups present in the data: [246 247 248]\n",
      "\n",
      "--------------------------------------------------\n",
      "\n",
      "Number of users per experimental group:\n",
      "exp_id\n",
      "246    2484\n",
      "247    2513\n",
      "248    2537\n",
      "Name: device_id_hash, dtype: int64\n",
      "\n",
      "--------------------------------------------------\n",
      "\n",
      "Number of events per experiment:\n",
      "exp_id\n",
      "246    79302\n",
      "247    77022\n",
      "248    84563\n",
      "Name: event_name, dtype: int64\n"
     ]
    }
   ],
   "source": [
    "# Check that users exist in all three experimental groups\n",
    "experimental_groups = complete_data['exp_id'].unique()\n",
    "print(f\"Experimental groups present in the data: {experimental_groups}\")\n",
    "\n",
    "print(\"\\n\" + \"-\"*50 + \"\\n\")\n",
    "\n",
    "# Number of users per experimental group\n",
    "users_per_group = complete_data.groupby('exp_id')['device_id_hash'].nunique()\n",
    "print(f\"Number of users per experimental group:\\n{users_per_group}\")\n",
    "\n",
    "print(\"\\n\" + \"-\"*50 + \"\\n\")\n",
    "\n",
    "# Count events by experiment\n",
    "events_per_experiment = complete_data.groupby('exp_id')['event_name'].count()\n",
    "print(f\"Number of events per experiment:\\n{events_per_experiment}\")"
   ]
  },
  {
   "cell_type": "markdown",
   "metadata": {},
   "source": [
    "After conducting the analysis, it was found that the data includes users from all three experimental groups, identified as 246, 247, and 248. Additionally, the number of users per experimental group varies slightly, with 2,484 users in group 246, 2,513 in group 247, and 2,537 in group 248. Similarly, when examining the number of events recorded in each experiment, a similar distribution was observed, with 79,302 events in group 246, 77,022 in group 247, and 84,563 in group 248. These figures suggest an equitable distribution of users and events across the different experimental groups, providing a solid basis for comparative analysis between them."
   ]
  },
  {
   "cell_type": "markdown",
   "metadata": {},
   "source": [
    "## Event Funnel"
   ]
  },
  {
   "cell_type": "markdown",
   "metadata": {},
   "source": [
    "### Events and Occurrence Frequency: Ordered by Frequency"
   ]
  },
  {
   "cell_type": "code",
   "execution_count": 12,
   "metadata": {},
   "outputs": [
    {
     "name": "stdout",
     "output_type": "stream",
     "text": [
      "Events and their occurrence frequency:\n"
     ]
    },
    {
     "data": {
      "text/html": [
       "<div>\n",
       "<style scoped>\n",
       "    .dataframe tbody tr th:only-of-type {\n",
       "        vertical-align: middle;\n",
       "    }\n",
       "\n",
       "    .dataframe tbody tr th {\n",
       "        vertical-align: top;\n",
       "    }\n",
       "\n",
       "    .dataframe thead th {\n",
       "        text-align: right;\n",
       "    }\n",
       "</style>\n",
       "<table border=\"1\" class=\"dataframe\">\n",
       "  <thead>\n",
       "    <tr style=\"text-align: right;\">\n",
       "      <th></th>\n",
       "      <th>Event</th>\n",
       "      <th>Frequency</th>\n",
       "    </tr>\n",
       "  </thead>\n",
       "  <tbody>\n",
       "    <tr>\n",
       "      <th>0</th>\n",
       "      <td>MainScreenAppear</td>\n",
       "      <td>117328</td>\n",
       "    </tr>\n",
       "    <tr>\n",
       "      <th>1</th>\n",
       "      <td>OffersScreenAppear</td>\n",
       "      <td>46333</td>\n",
       "    </tr>\n",
       "    <tr>\n",
       "      <th>2</th>\n",
       "      <td>CartScreenAppear</td>\n",
       "      <td>42303</td>\n",
       "    </tr>\n",
       "    <tr>\n",
       "      <th>3</th>\n",
       "      <td>PaymentScreenSuccessful</td>\n",
       "      <td>33918</td>\n",
       "    </tr>\n",
       "    <tr>\n",
       "      <th>4</th>\n",
       "      <td>Tutorial</td>\n",
       "      <td>1005</td>\n",
       "    </tr>\n",
       "  </tbody>\n",
       "</table>\n",
       "</div>"
      ],
      "text/plain": [
       "                     Event  Frequency\n",
       "0         MainScreenAppear     117328\n",
       "1       OffersScreenAppear      46333\n",
       "2         CartScreenAppear      42303\n",
       "3  PaymentScreenSuccessful      33918\n",
       "4                 Tutorial       1005"
      ]
     },
     "metadata": {},
     "output_type": "display_data"
    },
    {
     "name": "stdout",
     "output_type": "stream",
     "text": [
      "\n",
      "--------------------------------------------------\n",
      "\n"
     ]
    },
    {
     "data": {
      "application/vnd.plotly.v1+json": {
       "config": {
        "plotlyServerURL": "https://plot.ly"
       },
       "data": [
        {
         "marker": {
          "color": [
           "#99ccff",
           "#85b3ff",
           "#709bff",
           "#5c82ff",
           "#476aff"
          ]
         },
         "type": "bar",
         "x": [
          "MainScreenAppear",
          "OffersScreenAppear",
          "CartScreenAppear",
          "PaymentScreenSuccessful",
          "Tutorial"
         ],
         "y": [
          117328,
          46333,
          42303,
          33918,
          1005
         ]
        }
       ],
       "layout": {
        "margin": {
         "b": 50,
         "l": 150,
         "r": 50,
         "t": 50
        },
        "template": {
         "data": {
          "bar": [
           {
            "error_x": {
             "color": "#2a3f5f"
            },
            "error_y": {
             "color": "#2a3f5f"
            },
            "marker": {
             "line": {
              "color": "#E5ECF6",
              "width": 0.5
             },
             "pattern": {
              "fillmode": "overlay",
              "size": 10,
              "solidity": 0.2
             }
            },
            "type": "bar"
           }
          ],
          "barpolar": [
           {
            "marker": {
             "line": {
              "color": "#E5ECF6",
              "width": 0.5
             },
             "pattern": {
              "fillmode": "overlay",
              "size": 10,
              "solidity": 0.2
             }
            },
            "type": "barpolar"
           }
          ],
          "carpet": [
           {
            "aaxis": {
             "endlinecolor": "#2a3f5f",
             "gridcolor": "white",
             "linecolor": "white",
             "minorgridcolor": "white",
             "startlinecolor": "#2a3f5f"
            },
            "baxis": {
             "endlinecolor": "#2a3f5f",
             "gridcolor": "white",
             "linecolor": "white",
             "minorgridcolor": "white",
             "startlinecolor": "#2a3f5f"
            },
            "type": "carpet"
           }
          ],
          "choropleth": [
           {
            "colorbar": {
             "outlinewidth": 0,
             "ticks": ""
            },
            "type": "choropleth"
           }
          ],
          "contour": [
           {
            "colorbar": {
             "outlinewidth": 0,
             "ticks": ""
            },
            "colorscale": [
             [
              0,
              "#0d0887"
             ],
             [
              0.1111111111111111,
              "#46039f"
             ],
             [
              0.2222222222222222,
              "#7201a8"
             ],
             [
              0.3333333333333333,
              "#9c179e"
             ],
             [
              0.4444444444444444,
              "#bd3786"
             ],
             [
              0.5555555555555556,
              "#d8576b"
             ],
             [
              0.6666666666666666,
              "#ed7953"
             ],
             [
              0.7777777777777778,
              "#fb9f3a"
             ],
             [
              0.8888888888888888,
              "#fdca26"
             ],
             [
              1,
              "#f0f921"
             ]
            ],
            "type": "contour"
           }
          ],
          "contourcarpet": [
           {
            "colorbar": {
             "outlinewidth": 0,
             "ticks": ""
            },
            "type": "contourcarpet"
           }
          ],
          "heatmap": [
           {
            "colorbar": {
             "outlinewidth": 0,
             "ticks": ""
            },
            "colorscale": [
             [
              0,
              "#0d0887"
             ],
             [
              0.1111111111111111,
              "#46039f"
             ],
             [
              0.2222222222222222,
              "#7201a8"
             ],
             [
              0.3333333333333333,
              "#9c179e"
             ],
             [
              0.4444444444444444,
              "#bd3786"
             ],
             [
              0.5555555555555556,
              "#d8576b"
             ],
             [
              0.6666666666666666,
              "#ed7953"
             ],
             [
              0.7777777777777778,
              "#fb9f3a"
             ],
             [
              0.8888888888888888,
              "#fdca26"
             ],
             [
              1,
              "#f0f921"
             ]
            ],
            "type": "heatmap"
           }
          ],
          "heatmapgl": [
           {
            "colorbar": {
             "outlinewidth": 0,
             "ticks": ""
            },
            "colorscale": [
             [
              0,
              "#0d0887"
             ],
             [
              0.1111111111111111,
              "#46039f"
             ],
             [
              0.2222222222222222,
              "#7201a8"
             ],
             [
              0.3333333333333333,
              "#9c179e"
             ],
             [
              0.4444444444444444,
              "#bd3786"
             ],
             [
              0.5555555555555556,
              "#d8576b"
             ],
             [
              0.6666666666666666,
              "#ed7953"
             ],
             [
              0.7777777777777778,
              "#fb9f3a"
             ],
             [
              0.8888888888888888,
              "#fdca26"
             ],
             [
              1,
              "#f0f921"
             ]
            ],
            "type": "heatmapgl"
           }
          ],
          "histogram": [
           {
            "marker": {
             "pattern": {
              "fillmode": "overlay",
              "size": 10,
              "solidity": 0.2
             }
            },
            "type": "histogram"
           }
          ],
          "histogram2d": [
           {
            "colorbar": {
             "outlinewidth": 0,
             "ticks": ""
            },
            "colorscale": [
             [
              0,
              "#0d0887"
             ],
             [
              0.1111111111111111,
              "#46039f"
             ],
             [
              0.2222222222222222,
              "#7201a8"
             ],
             [
              0.3333333333333333,
              "#9c179e"
             ],
             [
              0.4444444444444444,
              "#bd3786"
             ],
             [
              0.5555555555555556,
              "#d8576b"
             ],
             [
              0.6666666666666666,
              "#ed7953"
             ],
             [
              0.7777777777777778,
              "#fb9f3a"
             ],
             [
              0.8888888888888888,
              "#fdca26"
             ],
             [
              1,
              "#f0f921"
             ]
            ],
            "type": "histogram2d"
           }
          ],
          "histogram2dcontour": [
           {
            "colorbar": {
             "outlinewidth": 0,
             "ticks": ""
            },
            "colorscale": [
             [
              0,
              "#0d0887"
             ],
             [
              0.1111111111111111,
              "#46039f"
             ],
             [
              0.2222222222222222,
              "#7201a8"
             ],
             [
              0.3333333333333333,
              "#9c179e"
             ],
             [
              0.4444444444444444,
              "#bd3786"
             ],
             [
              0.5555555555555556,
              "#d8576b"
             ],
             [
              0.6666666666666666,
              "#ed7953"
             ],
             [
              0.7777777777777778,
              "#fb9f3a"
             ],
             [
              0.8888888888888888,
              "#fdca26"
             ],
             [
              1,
              "#f0f921"
             ]
            ],
            "type": "histogram2dcontour"
           }
          ],
          "mesh3d": [
           {
            "colorbar": {
             "outlinewidth": 0,
             "ticks": ""
            },
            "type": "mesh3d"
           }
          ],
          "parcoords": [
           {
            "line": {
             "colorbar": {
              "outlinewidth": 0,
              "ticks": ""
             }
            },
            "type": "parcoords"
           }
          ],
          "pie": [
           {
            "automargin": true,
            "type": "pie"
           }
          ],
          "scatter": [
           {
            "fillpattern": {
             "fillmode": "overlay",
             "size": 10,
             "solidity": 0.2
            },
            "type": "scatter"
           }
          ],
          "scatter3d": [
           {
            "line": {
             "colorbar": {
              "outlinewidth": 0,
              "ticks": ""
             }
            },
            "marker": {
             "colorbar": {
              "outlinewidth": 0,
              "ticks": ""
             }
            },
            "type": "scatter3d"
           }
          ],
          "scattercarpet": [
           {
            "marker": {
             "colorbar": {
              "outlinewidth": 0,
              "ticks": ""
             }
            },
            "type": "scattercarpet"
           }
          ],
          "scattergeo": [
           {
            "marker": {
             "colorbar": {
              "outlinewidth": 0,
              "ticks": ""
             }
            },
            "type": "scattergeo"
           }
          ],
          "scattergl": [
           {
            "marker": {
             "colorbar": {
              "outlinewidth": 0,
              "ticks": ""
             }
            },
            "type": "scattergl"
           }
          ],
          "scattermapbox": [
           {
            "marker": {
             "colorbar": {
              "outlinewidth": 0,
              "ticks": ""
             }
            },
            "type": "scattermapbox"
           }
          ],
          "scatterpolar": [
           {
            "marker": {
             "colorbar": {
              "outlinewidth": 0,
              "ticks": ""
             }
            },
            "type": "scatterpolar"
           }
          ],
          "scatterpolargl": [
           {
            "marker": {
             "colorbar": {
              "outlinewidth": 0,
              "ticks": ""
             }
            },
            "type": "scatterpolargl"
           }
          ],
          "scatterternary": [
           {
            "marker": {
             "colorbar": {
              "outlinewidth": 0,
              "ticks": ""
             }
            },
            "type": "scatterternary"
           }
          ],
          "surface": [
           {
            "colorbar": {
             "outlinewidth": 0,
             "ticks": ""
            },
            "colorscale": [
             [
              0,
              "#0d0887"
             ],
             [
              0.1111111111111111,
              "#46039f"
             ],
             [
              0.2222222222222222,
              "#7201a8"
             ],
             [
              0.3333333333333333,
              "#9c179e"
             ],
             [
              0.4444444444444444,
              "#bd3786"
             ],
             [
              0.5555555555555556,
              "#d8576b"
             ],
             [
              0.6666666666666666,
              "#ed7953"
             ],
             [
              0.7777777777777778,
              "#fb9f3a"
             ],
             [
              0.8888888888888888,
              "#fdca26"
             ],
             [
              1,
              "#f0f921"
             ]
            ],
            "type": "surface"
           }
          ],
          "table": [
           {
            "cells": {
             "fill": {
              "color": "#EBF0F8"
             },
             "line": {
              "color": "white"
             }
            },
            "header": {
             "fill": {
              "color": "#C8D4E3"
             },
             "line": {
              "color": "white"
             }
            },
            "type": "table"
           }
          ]
         },
         "layout": {
          "annotationdefaults": {
           "arrowcolor": "#2a3f5f",
           "arrowhead": 0,
           "arrowwidth": 1
          },
          "autotypenumbers": "strict",
          "coloraxis": {
           "colorbar": {
            "outlinewidth": 0,
            "ticks": ""
           }
          },
          "colorscale": {
           "diverging": [
            [
             0,
             "#8e0152"
            ],
            [
             0.1,
             "#c51b7d"
            ],
            [
             0.2,
             "#de77ae"
            ],
            [
             0.3,
             "#f1b6da"
            ],
            [
             0.4,
             "#fde0ef"
            ],
            [
             0.5,
             "#f7f7f7"
            ],
            [
             0.6,
             "#e6f5d0"
            ],
            [
             0.7,
             "#b8e186"
            ],
            [
             0.8,
             "#7fbc41"
            ],
            [
             0.9,
             "#4d9221"
            ],
            [
             1,
             "#276419"
            ]
           ],
           "sequential": [
            [
             0,
             "#0d0887"
            ],
            [
             0.1111111111111111,
             "#46039f"
            ],
            [
             0.2222222222222222,
             "#7201a8"
            ],
            [
             0.3333333333333333,
             "#9c179e"
            ],
            [
             0.4444444444444444,
             "#bd3786"
            ],
            [
             0.5555555555555556,
             "#d8576b"
            ],
            [
             0.6666666666666666,
             "#ed7953"
            ],
            [
             0.7777777777777778,
             "#fb9f3a"
            ],
            [
             0.8888888888888888,
             "#fdca26"
            ],
            [
             1,
             "#f0f921"
            ]
           ],
           "sequentialminus": [
            [
             0,
             "#0d0887"
            ],
            [
             0.1111111111111111,
             "#46039f"
            ],
            [
             0.2222222222222222,
             "#7201a8"
            ],
            [
             0.3333333333333333,
             "#9c179e"
            ],
            [
             0.4444444444444444,
             "#bd3786"
            ],
            [
             0.5555555555555556,
             "#d8576b"
            ],
            [
             0.6666666666666666,
             "#ed7953"
            ],
            [
             0.7777777777777778,
             "#fb9f3a"
            ],
            [
             0.8888888888888888,
             "#fdca26"
            ],
            [
             1,
             "#f0f921"
            ]
           ]
          },
          "colorway": [
           "#636efa",
           "#EF553B",
           "#00cc96",
           "#ab63fa",
           "#FFA15A",
           "#19d3f3",
           "#FF6692",
           "#B6E880",
           "#FF97FF",
           "#FECB52"
          ],
          "font": {
           "color": "#2a3f5f"
          },
          "geo": {
           "bgcolor": "white",
           "lakecolor": "white",
           "landcolor": "#E5ECF6",
           "showlakes": true,
           "showland": true,
           "subunitcolor": "white"
          },
          "hoverlabel": {
           "align": "left"
          },
          "hovermode": "closest",
          "mapbox": {
           "style": "light"
          },
          "paper_bgcolor": "white",
          "plot_bgcolor": "#E5ECF6",
          "polar": {
           "angularaxis": {
            "gridcolor": "white",
            "linecolor": "white",
            "ticks": ""
           },
           "bgcolor": "#E5ECF6",
           "radialaxis": {
            "gridcolor": "white",
            "linecolor": "white",
            "ticks": ""
           }
          },
          "scene": {
           "xaxis": {
            "backgroundcolor": "#E5ECF6",
            "gridcolor": "white",
            "gridwidth": 2,
            "linecolor": "white",
            "showbackground": true,
            "ticks": "",
            "zerolinecolor": "white"
           },
           "yaxis": {
            "backgroundcolor": "#E5ECF6",
            "gridcolor": "white",
            "gridwidth": 2,
            "linecolor": "white",
            "showbackground": true,
            "ticks": "",
            "zerolinecolor": "white"
           },
           "zaxis": {
            "backgroundcolor": "#E5ECF6",
            "gridcolor": "white",
            "gridwidth": 2,
            "linecolor": "white",
            "showbackground": true,
            "ticks": "",
            "zerolinecolor": "white"
           }
          },
          "shapedefaults": {
           "line": {
            "color": "#2a3f5f"
           }
          },
          "ternary": {
           "aaxis": {
            "gridcolor": "white",
            "linecolor": "white",
            "ticks": ""
           },
           "baxis": {
            "gridcolor": "white",
            "linecolor": "white",
            "ticks": ""
           },
           "bgcolor": "#E5ECF6",
           "caxis": {
            "gridcolor": "white",
            "linecolor": "white",
            "ticks": ""
           }
          },
          "title": {
           "x": 0.05
          },
          "xaxis": {
           "automargin": true,
           "gridcolor": "white",
           "linecolor": "white",
           "ticks": "",
           "title": {
            "standoff": 15
           },
           "zerolinecolor": "white",
           "zerolinewidth": 2
          },
          "yaxis": {
           "automargin": true,
           "gridcolor": "white",
           "linecolor": "white",
           "ticks": "",
           "title": {
            "standoff": 15
           },
           "zerolinecolor": "white",
           "zerolinewidth": 2
          }
         }
        },
        "title": {
         "text": "Event Frequency"
        },
        "xaxis": {
         "title": {
          "text": "Event Name"
         }
        },
        "yaxis": {
         "title": {
          "text": "Frequency"
         }
        }
       }
      }
     },
     "metadata": {},
     "output_type": "display_data"
    }
   ],
   "source": [
    "# Observe the events in the records and their occurrence frequency\n",
    "event_frequency = complete_data['event_name'].value_counts().reset_index()\n",
    "event_frequency.columns = ['Event', 'Frequency']\n",
    "event_frequency = event_frequency.sort_values(by='Frequency', ascending=False)\n",
    "print(\"Events and their occurrence frequency:\")\n",
    "display(event_frequency)\n",
    "\n",
    "print(\"\\n\" + \"-\"*50 + \"\\n\")\n",
    "\n",
    "# Create pivot table\n",
    "frequency = event_frequency.sort_values('Frequency', ascending=False)\n",
    "\n",
    "# Define blue color palette\n",
    "color_map = ['#99ccff', '#85b3ff', '#709bff', '#5c82ff', '#476aff']\n",
    "\n",
    "# Create vertical bar chart\n",
    "trace = go.Bar(\n",
    "    x=frequency['Event'],\n",
    "    y=frequency['Frequency'],\n",
    "    marker=dict(color=color_map)\n",
    ")\n",
    "\n",
    "# Define layout\n",
    "layout = go.Layout(\n",
    "    title='Event Frequency',\n",
    "    xaxis=dict(title='Event Name'),\n",
    "    yaxis=dict(title='Frequency'),\n",
    "    margin=dict(l=150, r=50, b=50, t=50),\n",
    ")\n",
    "\n",
    "# Create figure\n",
    "fig = go.Figure(data=[trace], layout=layout)\n",
    "\n",
    "# Show the figure\n",
    "fig.show()"
   ]
  },
  {
   "cell_type": "markdown",
   "metadata": {},
   "source": [
    "The table showing the frequency of each event reveals that the most common interaction among users is \"MainScreenAppear,\" with a notably high number of around 117,328 occurrences. This is followed by \"OffersScreenAppear\" with approximately 46,333 events, indicating a significant level of interaction related to offers. On the other hand, \"Tutorial\" is the least frequent event, suggesting that participation in tutorials may be less common or a lower priority for users."
   ]
  },
  {
   "cell_type": "markdown",
   "metadata": {},
   "source": [
    "### Users per Event: Ordered by Participation and Proportion"
   ]
  },
  {
   "cell_type": "code",
   "execution_count": 13,
   "metadata": {
    "scrolled": true
   },
   "outputs": [
    {
     "name": "stdout",
     "output_type": "stream",
     "text": [
      "Number of users and proportion per event:\n"
     ]
    },
    {
     "data": {
      "text/html": [
       "<div>\n",
       "<style scoped>\n",
       "    .dataframe tbody tr th:only-of-type {\n",
       "        vertical-align: middle;\n",
       "    }\n",
       "\n",
       "    .dataframe tbody tr th {\n",
       "        vertical-align: top;\n",
       "    }\n",
       "\n",
       "    .dataframe thead th {\n",
       "        text-align: right;\n",
       "    }\n",
       "</style>\n",
       "<table border=\"1\" class=\"dataframe\">\n",
       "  <thead>\n",
       "    <tr style=\"text-align: right;\">\n",
       "      <th></th>\n",
       "      <th>Event</th>\n",
       "      <th>Users</th>\n",
       "      <th>Proportion</th>\n",
       "    </tr>\n",
       "  </thead>\n",
       "  <tbody>\n",
       "    <tr>\n",
       "      <th>1</th>\n",
       "      <td>MainScreenAppear</td>\n",
       "      <td>7419</td>\n",
       "      <td>0.984736</td>\n",
       "    </tr>\n",
       "    <tr>\n",
       "      <th>2</th>\n",
       "      <td>OffersScreenAppear</td>\n",
       "      <td>4593</td>\n",
       "      <td>0.609636</td>\n",
       "    </tr>\n",
       "    <tr>\n",
       "      <th>0</th>\n",
       "      <td>CartScreenAppear</td>\n",
       "      <td>3734</td>\n",
       "      <td>0.495620</td>\n",
       "    </tr>\n",
       "    <tr>\n",
       "      <th>3</th>\n",
       "      <td>PaymentScreenSuccessful</td>\n",
       "      <td>3539</td>\n",
       "      <td>0.469737</td>\n",
       "    </tr>\n",
       "    <tr>\n",
       "      <th>4</th>\n",
       "      <td>Tutorial</td>\n",
       "      <td>840</td>\n",
       "      <td>0.111495</td>\n",
       "    </tr>\n",
       "  </tbody>\n",
       "</table>\n",
       "</div>"
      ],
      "text/plain": [
       "                     Event  Users  Proportion\n",
       "1         MainScreenAppear   7419    0.984736\n",
       "2       OffersScreenAppear   4593    0.609636\n",
       "0         CartScreenAppear   3734    0.495620\n",
       "3  PaymentScreenSuccessful   3539    0.469737\n",
       "4                 Tutorial    840    0.111495"
      ]
     },
     "metadata": {},
     "output_type": "display_data"
    },
    {
     "name": "stdout",
     "output_type": "stream",
     "text": [
      "\n",
      "--------------------------------------------------\n",
      "\n"
     ]
    },
    {
     "data": {
      "application/vnd.plotly.v1+json": {
       "config": {
        "plotlyServerURL": "https://plot.ly"
       },
       "data": [
        {
         "marker": {
          "color": [
           "#99ccff",
           "#85b3ff",
           "#709bff",
           "#5c82ff",
           "#476aff"
          ]
         },
         "type": "bar",
         "x": [
          "MainScreenAppear",
          "OffersScreenAppear",
          "CartScreenAppear",
          "PaymentScreenSuccessful",
          "Tutorial"
         ],
         "y": [
          7419,
          4593,
          3734,
          3539,
          840
         ]
        }
       ],
       "layout": {
        "margin": {
         "b": 50,
         "l": 150,
         "r": 50,
         "t": 50
        },
        "template": {
         "data": {
          "bar": [
           {
            "error_x": {
             "color": "#2a3f5f"
            },
            "error_y": {
             "color": "#2a3f5f"
            },
            "marker": {
             "line": {
              "color": "#E5ECF6",
              "width": 0.5
             },
             "pattern": {
              "fillmode": "overlay",
              "size": 10,
              "solidity": 0.2
             }
            },
            "type": "bar"
           }
          ],
          "barpolar": [
           {
            "marker": {
             "line": {
              "color": "#E5ECF6",
              "width": 0.5
             },
             "pattern": {
              "fillmode": "overlay",
              "size": 10,
              "solidity": 0.2
             }
            },
            "type": "barpolar"
           }
          ],
          "carpet": [
           {
            "aaxis": {
             "endlinecolor": "#2a3f5f",
             "gridcolor": "white",
             "linecolor": "white",
             "minorgridcolor": "white",
             "startlinecolor": "#2a3f5f"
            },
            "baxis": {
             "endlinecolor": "#2a3f5f",
             "gridcolor": "white",
             "linecolor": "white",
             "minorgridcolor": "white",
             "startlinecolor": "#2a3f5f"
            },
            "type": "carpet"
           }
          ],
          "choropleth": [
           {
            "colorbar": {
             "outlinewidth": 0,
             "ticks": ""
            },
            "type": "choropleth"
           }
          ],
          "contour": [
           {
            "colorbar": {
             "outlinewidth": 0,
             "ticks": ""
            },
            "colorscale": [
             [
              0,
              "#0d0887"
             ],
             [
              0.1111111111111111,
              "#46039f"
             ],
             [
              0.2222222222222222,
              "#7201a8"
             ],
             [
              0.3333333333333333,
              "#9c179e"
             ],
             [
              0.4444444444444444,
              "#bd3786"
             ],
             [
              0.5555555555555556,
              "#d8576b"
             ],
             [
              0.6666666666666666,
              "#ed7953"
             ],
             [
              0.7777777777777778,
              "#fb9f3a"
             ],
             [
              0.8888888888888888,
              "#fdca26"
             ],
             [
              1,
              "#f0f921"
             ]
            ],
            "type": "contour"
           }
          ],
          "contourcarpet": [
           {
            "colorbar": {
             "outlinewidth": 0,
             "ticks": ""
            },
            "type": "contourcarpet"
           }
          ],
          "heatmap": [
           {
            "colorbar": {
             "outlinewidth": 0,
             "ticks": ""
            },
            "colorscale": [
             [
              0,
              "#0d0887"
             ],
             [
              0.1111111111111111,
              "#46039f"
             ],
             [
              0.2222222222222222,
              "#7201a8"
             ],
             [
              0.3333333333333333,
              "#9c179e"
             ],
             [
              0.4444444444444444,
              "#bd3786"
             ],
             [
              0.5555555555555556,
              "#d8576b"
             ],
             [
              0.6666666666666666,
              "#ed7953"
             ],
             [
              0.7777777777777778,
              "#fb9f3a"
             ],
             [
              0.8888888888888888,
              "#fdca26"
             ],
             [
              1,
              "#f0f921"
             ]
            ],
            "type": "heatmap"
           }
          ],
          "heatmapgl": [
           {
            "colorbar": {
             "outlinewidth": 0,
             "ticks": ""
            },
            "colorscale": [
             [
              0,
              "#0d0887"
             ],
             [
              0.1111111111111111,
              "#46039f"
             ],
             [
              0.2222222222222222,
              "#7201a8"
             ],
             [
              0.3333333333333333,
              "#9c179e"
             ],
             [
              0.4444444444444444,
              "#bd3786"
             ],
             [
              0.5555555555555556,
              "#d8576b"
             ],
             [
              0.6666666666666666,
              "#ed7953"
             ],
             [
              0.7777777777777778,
              "#fb9f3a"
             ],
             [
              0.8888888888888888,
              "#fdca26"
             ],
             [
              1,
              "#f0f921"
             ]
            ],
            "type": "heatmapgl"
           }
          ],
          "histogram": [
           {
            "marker": {
             "pattern": {
              "fillmode": "overlay",
              "size": 10,
              "solidity": 0.2
             }
            },
            "type": "histogram"
           }
          ],
          "histogram2d": [
           {
            "colorbar": {
             "outlinewidth": 0,
             "ticks": ""
            },
            "colorscale": [
             [
              0,
              "#0d0887"
             ],
             [
              0.1111111111111111,
              "#46039f"
             ],
             [
              0.2222222222222222,
              "#7201a8"
             ],
             [
              0.3333333333333333,
              "#9c179e"
             ],
             [
              0.4444444444444444,
              "#bd3786"
             ],
             [
              0.5555555555555556,
              "#d8576b"
             ],
             [
              0.6666666666666666,
              "#ed7953"
             ],
             [
              0.7777777777777778,
              "#fb9f3a"
             ],
             [
              0.8888888888888888,
              "#fdca26"
             ],
             [
              1,
              "#f0f921"
             ]
            ],
            "type": "histogram2d"
           }
          ],
          "histogram2dcontour": [
           {
            "colorbar": {
             "outlinewidth": 0,
             "ticks": ""
            },
            "colorscale": [
             [
              0,
              "#0d0887"
             ],
             [
              0.1111111111111111,
              "#46039f"
             ],
             [
              0.2222222222222222,
              "#7201a8"
             ],
             [
              0.3333333333333333,
              "#9c179e"
             ],
             [
              0.4444444444444444,
              "#bd3786"
             ],
             [
              0.5555555555555556,
              "#d8576b"
             ],
             [
              0.6666666666666666,
              "#ed7953"
             ],
             [
              0.7777777777777778,
              "#fb9f3a"
             ],
             [
              0.8888888888888888,
              "#fdca26"
             ],
             [
              1,
              "#f0f921"
             ]
            ],
            "type": "histogram2dcontour"
           }
          ],
          "mesh3d": [
           {
            "colorbar": {
             "outlinewidth": 0,
             "ticks": ""
            },
            "type": "mesh3d"
           }
          ],
          "parcoords": [
           {
            "line": {
             "colorbar": {
              "outlinewidth": 0,
              "ticks": ""
             }
            },
            "type": "parcoords"
           }
          ],
          "pie": [
           {
            "automargin": true,
            "type": "pie"
           }
          ],
          "scatter": [
           {
            "fillpattern": {
             "fillmode": "overlay",
             "size": 10,
             "solidity": 0.2
            },
            "type": "scatter"
           }
          ],
          "scatter3d": [
           {
            "line": {
             "colorbar": {
              "outlinewidth": 0,
              "ticks": ""
             }
            },
            "marker": {
             "colorbar": {
              "outlinewidth": 0,
              "ticks": ""
             }
            },
            "type": "scatter3d"
           }
          ],
          "scattercarpet": [
           {
            "marker": {
             "colorbar": {
              "outlinewidth": 0,
              "ticks": ""
             }
            },
            "type": "scattercarpet"
           }
          ],
          "scattergeo": [
           {
            "marker": {
             "colorbar": {
              "outlinewidth": 0,
              "ticks": ""
             }
            },
            "type": "scattergeo"
           }
          ],
          "scattergl": [
           {
            "marker": {
             "colorbar": {
              "outlinewidth": 0,
              "ticks": ""
             }
            },
            "type": "scattergl"
           }
          ],
          "scattermapbox": [
           {
            "marker": {
             "colorbar": {
              "outlinewidth": 0,
              "ticks": ""
             }
            },
            "type": "scattermapbox"
           }
          ],
          "scatterpolar": [
           {
            "marker": {
             "colorbar": {
              "outlinewidth": 0,
              "ticks": ""
             }
            },
            "type": "scatterpolar"
           }
          ],
          "scatterpolargl": [
           {
            "marker": {
             "colorbar": {
              "outlinewidth": 0,
              "ticks": ""
             }
            },
            "type": "scatterpolargl"
           }
          ],
          "scatterternary": [
           {
            "marker": {
             "colorbar": {
              "outlinewidth": 0,
              "ticks": ""
             }
            },
            "type": "scatterternary"
           }
          ],
          "surface": [
           {
            "colorbar": {
             "outlinewidth": 0,
             "ticks": ""
            },
            "colorscale": [
             [
              0,
              "#0d0887"
             ],
             [
              0.1111111111111111,
              "#46039f"
             ],
             [
              0.2222222222222222,
              "#7201a8"
             ],
             [
              0.3333333333333333,
              "#9c179e"
             ],
             [
              0.4444444444444444,
              "#bd3786"
             ],
             [
              0.5555555555555556,
              "#d8576b"
             ],
             [
              0.6666666666666666,
              "#ed7953"
             ],
             [
              0.7777777777777778,
              "#fb9f3a"
             ],
             [
              0.8888888888888888,
              "#fdca26"
             ],
             [
              1,
              "#f0f921"
             ]
            ],
            "type": "surface"
           }
          ],
          "table": [
           {
            "cells": {
             "fill": {
              "color": "#EBF0F8"
             },
             "line": {
              "color": "white"
             }
            },
            "header": {
             "fill": {
              "color": "#C8D4E3"
             },
             "line": {
              "color": "white"
             }
            },
            "type": "table"
           }
          ]
         },
         "layout": {
          "annotationdefaults": {
           "arrowcolor": "#2a3f5f",
           "arrowhead": 0,
           "arrowwidth": 1
          },
          "autotypenumbers": "strict",
          "coloraxis": {
           "colorbar": {
            "outlinewidth": 0,
            "ticks": ""
           }
          },
          "colorscale": {
           "diverging": [
            [
             0,
             "#8e0152"
            ],
            [
             0.1,
             "#c51b7d"
            ],
            [
             0.2,
             "#de77ae"
            ],
            [
             0.3,
             "#f1b6da"
            ],
            [
             0.4,
             "#fde0ef"
            ],
            [
             0.5,
             "#f7f7f7"
            ],
            [
             0.6,
             "#e6f5d0"
            ],
            [
             0.7,
             "#b8e186"
            ],
            [
             0.8,
             "#7fbc41"
            ],
            [
             0.9,
             "#4d9221"
            ],
            [
             1,
             "#276419"
            ]
           ],
           "sequential": [
            [
             0,
             "#0d0887"
            ],
            [
             0.1111111111111111,
             "#46039f"
            ],
            [
             0.2222222222222222,
             "#7201a8"
            ],
            [
             0.3333333333333333,
             "#9c179e"
            ],
            [
             0.4444444444444444,
             "#bd3786"
            ],
            [
             0.5555555555555556,
             "#d8576b"
            ],
            [
             0.6666666666666666,
             "#ed7953"
            ],
            [
             0.7777777777777778,
             "#fb9f3a"
            ],
            [
             0.8888888888888888,
             "#fdca26"
            ],
            [
             1,
             "#f0f921"
            ]
           ],
           "sequentialminus": [
            [
             0,
             "#0d0887"
            ],
            [
             0.1111111111111111,
             "#46039f"
            ],
            [
             0.2222222222222222,
             "#7201a8"
            ],
            [
             0.3333333333333333,
             "#9c179e"
            ],
            [
             0.4444444444444444,
             "#bd3786"
            ],
            [
             0.5555555555555556,
             "#d8576b"
            ],
            [
             0.6666666666666666,
             "#ed7953"
            ],
            [
             0.7777777777777778,
             "#fb9f3a"
            ],
            [
             0.8888888888888888,
             "#fdca26"
            ],
            [
             1,
             "#f0f921"
            ]
           ]
          },
          "colorway": [
           "#636efa",
           "#EF553B",
           "#00cc96",
           "#ab63fa",
           "#FFA15A",
           "#19d3f3",
           "#FF6692",
           "#B6E880",
           "#FF97FF",
           "#FECB52"
          ],
          "font": {
           "color": "#2a3f5f"
          },
          "geo": {
           "bgcolor": "white",
           "lakecolor": "white",
           "landcolor": "#E5ECF6",
           "showlakes": true,
           "showland": true,
           "subunitcolor": "white"
          },
          "hoverlabel": {
           "align": "left"
          },
          "hovermode": "closest",
          "mapbox": {
           "style": "light"
          },
          "paper_bgcolor": "white",
          "plot_bgcolor": "#E5ECF6",
          "polar": {
           "angularaxis": {
            "gridcolor": "white",
            "linecolor": "white",
            "ticks": ""
           },
           "bgcolor": "#E5ECF6",
           "radialaxis": {
            "gridcolor": "white",
            "linecolor": "white",
            "ticks": ""
           }
          },
          "scene": {
           "xaxis": {
            "backgroundcolor": "#E5ECF6",
            "gridcolor": "white",
            "gridwidth": 2,
            "linecolor": "white",
            "showbackground": true,
            "ticks": "",
            "zerolinecolor": "white"
           },
           "yaxis": {
            "backgroundcolor": "#E5ECF6",
            "gridcolor": "white",
            "gridwidth": 2,
            "linecolor": "white",
            "showbackground": true,
            "ticks": "",
            "zerolinecolor": "white"
           },
           "zaxis": {
            "backgroundcolor": "#E5ECF6",
            "gridcolor": "white",
            "gridwidth": 2,
            "linecolor": "white",
            "showbackground": true,
            "ticks": "",
            "zerolinecolor": "white"
           }
          },
          "shapedefaults": {
           "line": {
            "color": "#2a3f5f"
           }
          },
          "ternary": {
           "aaxis": {
            "gridcolor": "white",
            "linecolor": "white",
            "ticks": ""
           },
           "baxis": {
            "gridcolor": "white",
            "linecolor": "white",
            "ticks": ""
           },
           "bgcolor": "#E5ECF6",
           "caxis": {
            "gridcolor": "white",
            "linecolor": "white",
            "ticks": ""
           }
          },
          "title": {
           "x": 0.05
          },
          "xaxis": {
           "automargin": true,
           "gridcolor": "white",
           "linecolor": "white",
           "ticks": "",
           "title": {
            "standoff": 15
           },
           "zerolinecolor": "white",
           "zerolinewidth": 2
          },
          "yaxis": {
           "automargin": true,
           "gridcolor": "white",
           "linecolor": "white",
           "ticks": "",
           "title": {
            "standoff": 15
           },
           "zerolinecolor": "white",
           "zerolinewidth": 2
          }
         }
        },
        "title": {
         "text": "Number of Users per Event"
        },
        "xaxis": {
         "title": {
          "text": "Event Name"
         }
        },
        "yaxis": {
         "title": {
          "text": "Number of Users"
         }
        }
       }
      }
     },
     "metadata": {},
     "output_type": "display_data"
    }
   ],
   "source": [
    "# Find the number of users who performed each event\n",
    "users_per_event = complete_data.groupby('event_name')['device_id_hash'].nunique().reset_index()\n",
    "users_per_event.columns = ['Event', 'Users']\n",
    "users_per_event = users_per_event.sort_values(by='Users', ascending=False)\n",
    "\n",
    "# Calculate the proportion of users who performed each event at least once\n",
    "total_users = complete_data['device_id_hash'].nunique()\n",
    "users_per_event['Proportion'] = users_per_event['Users'] / total_users\n",
    "\n",
    "print(\"Number of users and proportion per event:\")\n",
    "display(users_per_event)\n",
    "\n",
    "# Sort by the number of users\n",
    "users_per_event = users_per_event.sort_values(by='Users', ascending=False)\n",
    "\n",
    "print(\"\\n\" + \"-\"*50 + \"\\n\")\n",
    "\n",
    "# Create vertical bar chart\n",
    "trace = go.Bar(\n",
    "    x=users_per_event['Event'],\n",
    "    y=users_per_event['Users'],\n",
    "    marker=dict(color=color_map)  # Using the same color palette\n",
    ")\n",
    "\n",
    "# Define layout\n",
    "layout = go.Layout(\n",
    "    title='Number of Users per Event',\n",
    "    xaxis=dict(title='Event Name'),\n",
    "    yaxis=dict(title='Number of Users'),\n",
    "    margin=dict(l=150, r=50, b=50, t=50),\n",
    ")\n",
    "\n",
    "# Create figure\n",
    "fig = go.Figure(data=[trace], layout=layout)\n",
    "\n",
    "# Show the figure\n",
    "fig.show()"
   ]
  },
  {
   "cell_type": "markdown",
   "metadata": {},
   "source": [
    "The table shows the number of users who participated in each event, as well as the proportion of users who performed each action at least once. Observing the data, it is evident that most users interacted with the \"MainScreenAppear\" event, with a total of 7,419 users and a proportion of 98.47%. This suggests that nearly all users viewed the main screen at some point. On the other hand, the \"Tutorial\" event had the fewest users, with 840, and a proportion of 11.15%. This relatively low proportion may indicate that only a fraction of users completed the tutorial. The data provides valuable insights into how users engage with each event and their level of participation on the platform."
   ]
  },
  {
   "cell_type": "markdown",
   "metadata": {},
   "source": [
    "### Event Sequence and Consistency in the Action Sequence"
   ]
  },
  {
   "cell_type": "code",
   "execution_count": 14,
   "metadata": {},
   "outputs": [
    {
     "name": "stdout",
     "output_type": "stream",
     "text": [
      "Proportion of users advancing from 'MainScreenAppear' to 'OffersScreenAppear': 61.91%\n",
      "Proportion of users advancing from 'OffersScreenAppear' to 'CartScreenAppear': 81.30%\n",
      "Proportion of users advancing from 'CartScreenAppear' to 'PaymentScreenSuccessful': 94.78%\n",
      "Proportion of users advancing from 'PaymentScreenSuccessful' to 'Tutorial': 23.74%\n",
      "\n",
      "-------------------------------------------------------------------------------------------------------------------------------\n",
      "\n"
     ]
    },
    {
     "data": {
      "application/vnd.plotly.v1+json": {
       "config": {
        "plotlyServerURL": "https://plot.ly"
       },
       "data": [
        {
         "textinfo": "value+percent previous",
         "textposition": "inside",
         "type": "funnel",
         "x": [
          7419,
          4593,
          3734,
          3539,
          840
         ],
         "y": [
          "MainScreenAppear",
          "OffersScreenAppear",
          "CartScreenAppear",
          "PaymentScreenSuccessful",
          "Tutorial"
         ]
        }
       ],
       "layout": {
        "template": {
         "data": {
          "bar": [
           {
            "error_x": {
             "color": "#2a3f5f"
            },
            "error_y": {
             "color": "#2a3f5f"
            },
            "marker": {
             "line": {
              "color": "#E5ECF6",
              "width": 0.5
             },
             "pattern": {
              "fillmode": "overlay",
              "size": 10,
              "solidity": 0.2
             }
            },
            "type": "bar"
           }
          ],
          "barpolar": [
           {
            "marker": {
             "line": {
              "color": "#E5ECF6",
              "width": 0.5
             },
             "pattern": {
              "fillmode": "overlay",
              "size": 10,
              "solidity": 0.2
             }
            },
            "type": "barpolar"
           }
          ],
          "carpet": [
           {
            "aaxis": {
             "endlinecolor": "#2a3f5f",
             "gridcolor": "white",
             "linecolor": "white",
             "minorgridcolor": "white",
             "startlinecolor": "#2a3f5f"
            },
            "baxis": {
             "endlinecolor": "#2a3f5f",
             "gridcolor": "white",
             "linecolor": "white",
             "minorgridcolor": "white",
             "startlinecolor": "#2a3f5f"
            },
            "type": "carpet"
           }
          ],
          "choropleth": [
           {
            "colorbar": {
             "outlinewidth": 0,
             "ticks": ""
            },
            "type": "choropleth"
           }
          ],
          "contour": [
           {
            "colorbar": {
             "outlinewidth": 0,
             "ticks": ""
            },
            "colorscale": [
             [
              0,
              "#0d0887"
             ],
             [
              0.1111111111111111,
              "#46039f"
             ],
             [
              0.2222222222222222,
              "#7201a8"
             ],
             [
              0.3333333333333333,
              "#9c179e"
             ],
             [
              0.4444444444444444,
              "#bd3786"
             ],
             [
              0.5555555555555556,
              "#d8576b"
             ],
             [
              0.6666666666666666,
              "#ed7953"
             ],
             [
              0.7777777777777778,
              "#fb9f3a"
             ],
             [
              0.8888888888888888,
              "#fdca26"
             ],
             [
              1,
              "#f0f921"
             ]
            ],
            "type": "contour"
           }
          ],
          "contourcarpet": [
           {
            "colorbar": {
             "outlinewidth": 0,
             "ticks": ""
            },
            "type": "contourcarpet"
           }
          ],
          "heatmap": [
           {
            "colorbar": {
             "outlinewidth": 0,
             "ticks": ""
            },
            "colorscale": [
             [
              0,
              "#0d0887"
             ],
             [
              0.1111111111111111,
              "#46039f"
             ],
             [
              0.2222222222222222,
              "#7201a8"
             ],
             [
              0.3333333333333333,
              "#9c179e"
             ],
             [
              0.4444444444444444,
              "#bd3786"
             ],
             [
              0.5555555555555556,
              "#d8576b"
             ],
             [
              0.6666666666666666,
              "#ed7953"
             ],
             [
              0.7777777777777778,
              "#fb9f3a"
             ],
             [
              0.8888888888888888,
              "#fdca26"
             ],
             [
              1,
              "#f0f921"
             ]
            ],
            "type": "heatmap"
           }
          ],
          "heatmapgl": [
           {
            "colorbar": {
             "outlinewidth": 0,
             "ticks": ""
            },
            "colorscale": [
             [
              0,
              "#0d0887"
             ],
             [
              0.1111111111111111,
              "#46039f"
             ],
             [
              0.2222222222222222,
              "#7201a8"
             ],
             [
              0.3333333333333333,
              "#9c179e"
             ],
             [
              0.4444444444444444,
              "#bd3786"
             ],
             [
              0.5555555555555556,
              "#d8576b"
             ],
             [
              0.6666666666666666,
              "#ed7953"
             ],
             [
              0.7777777777777778,
              "#fb9f3a"
             ],
             [
              0.8888888888888888,
              "#fdca26"
             ],
             [
              1,
              "#f0f921"
             ]
            ],
            "type": "heatmapgl"
           }
          ],
          "histogram": [
           {
            "marker": {
             "pattern": {
              "fillmode": "overlay",
              "size": 10,
              "solidity": 0.2
             }
            },
            "type": "histogram"
           }
          ],
          "histogram2d": [
           {
            "colorbar": {
             "outlinewidth": 0,
             "ticks": ""
            },
            "colorscale": [
             [
              0,
              "#0d0887"
             ],
             [
              0.1111111111111111,
              "#46039f"
             ],
             [
              0.2222222222222222,
              "#7201a8"
             ],
             [
              0.3333333333333333,
              "#9c179e"
             ],
             [
              0.4444444444444444,
              "#bd3786"
             ],
             [
              0.5555555555555556,
              "#d8576b"
             ],
             [
              0.6666666666666666,
              "#ed7953"
             ],
             [
              0.7777777777777778,
              "#fb9f3a"
             ],
             [
              0.8888888888888888,
              "#fdca26"
             ],
             [
              1,
              "#f0f921"
             ]
            ],
            "type": "histogram2d"
           }
          ],
          "histogram2dcontour": [
           {
            "colorbar": {
             "outlinewidth": 0,
             "ticks": ""
            },
            "colorscale": [
             [
              0,
              "#0d0887"
             ],
             [
              0.1111111111111111,
              "#46039f"
             ],
             [
              0.2222222222222222,
              "#7201a8"
             ],
             [
              0.3333333333333333,
              "#9c179e"
             ],
             [
              0.4444444444444444,
              "#bd3786"
             ],
             [
              0.5555555555555556,
              "#d8576b"
             ],
             [
              0.6666666666666666,
              "#ed7953"
             ],
             [
              0.7777777777777778,
              "#fb9f3a"
             ],
             [
              0.8888888888888888,
              "#fdca26"
             ],
             [
              1,
              "#f0f921"
             ]
            ],
            "type": "histogram2dcontour"
           }
          ],
          "mesh3d": [
           {
            "colorbar": {
             "outlinewidth": 0,
             "ticks": ""
            },
            "type": "mesh3d"
           }
          ],
          "parcoords": [
           {
            "line": {
             "colorbar": {
              "outlinewidth": 0,
              "ticks": ""
             }
            },
            "type": "parcoords"
           }
          ],
          "pie": [
           {
            "automargin": true,
            "type": "pie"
           }
          ],
          "scatter": [
           {
            "fillpattern": {
             "fillmode": "overlay",
             "size": 10,
             "solidity": 0.2
            },
            "type": "scatter"
           }
          ],
          "scatter3d": [
           {
            "line": {
             "colorbar": {
              "outlinewidth": 0,
              "ticks": ""
             }
            },
            "marker": {
             "colorbar": {
              "outlinewidth": 0,
              "ticks": ""
             }
            },
            "type": "scatter3d"
           }
          ],
          "scattercarpet": [
           {
            "marker": {
             "colorbar": {
              "outlinewidth": 0,
              "ticks": ""
             }
            },
            "type": "scattercarpet"
           }
          ],
          "scattergeo": [
           {
            "marker": {
             "colorbar": {
              "outlinewidth": 0,
              "ticks": ""
             }
            },
            "type": "scattergeo"
           }
          ],
          "scattergl": [
           {
            "marker": {
             "colorbar": {
              "outlinewidth": 0,
              "ticks": ""
             }
            },
            "type": "scattergl"
           }
          ],
          "scattermapbox": [
           {
            "marker": {
             "colorbar": {
              "outlinewidth": 0,
              "ticks": ""
             }
            },
            "type": "scattermapbox"
           }
          ],
          "scatterpolar": [
           {
            "marker": {
             "colorbar": {
              "outlinewidth": 0,
              "ticks": ""
             }
            },
            "type": "scatterpolar"
           }
          ],
          "scatterpolargl": [
           {
            "marker": {
             "colorbar": {
              "outlinewidth": 0,
              "ticks": ""
             }
            },
            "type": "scatterpolargl"
           }
          ],
          "scatterternary": [
           {
            "marker": {
             "colorbar": {
              "outlinewidth": 0,
              "ticks": ""
             }
            },
            "type": "scatterternary"
           }
          ],
          "surface": [
           {
            "colorbar": {
             "outlinewidth": 0,
             "ticks": ""
            },
            "colorscale": [
             [
              0,
              "#0d0887"
             ],
             [
              0.1111111111111111,
              "#46039f"
             ],
             [
              0.2222222222222222,
              "#7201a8"
             ],
             [
              0.3333333333333333,
              "#9c179e"
             ],
             [
              0.4444444444444444,
              "#bd3786"
             ],
             [
              0.5555555555555556,
              "#d8576b"
             ],
             [
              0.6666666666666666,
              "#ed7953"
             ],
             [
              0.7777777777777778,
              "#fb9f3a"
             ],
             [
              0.8888888888888888,
              "#fdca26"
             ],
             [
              1,
              "#f0f921"
             ]
            ],
            "type": "surface"
           }
          ],
          "table": [
           {
            "cells": {
             "fill": {
              "color": "#EBF0F8"
             },
             "line": {
              "color": "white"
             }
            },
            "header": {
             "fill": {
              "color": "#C8D4E3"
             },
             "line": {
              "color": "white"
             }
            },
            "type": "table"
           }
          ]
         },
         "layout": {
          "annotationdefaults": {
           "arrowcolor": "#2a3f5f",
           "arrowhead": 0,
           "arrowwidth": 1
          },
          "autotypenumbers": "strict",
          "coloraxis": {
           "colorbar": {
            "outlinewidth": 0,
            "ticks": ""
           }
          },
          "colorscale": {
           "diverging": [
            [
             0,
             "#8e0152"
            ],
            [
             0.1,
             "#c51b7d"
            ],
            [
             0.2,
             "#de77ae"
            ],
            [
             0.3,
             "#f1b6da"
            ],
            [
             0.4,
             "#fde0ef"
            ],
            [
             0.5,
             "#f7f7f7"
            ],
            [
             0.6,
             "#e6f5d0"
            ],
            [
             0.7,
             "#b8e186"
            ],
            [
             0.8,
             "#7fbc41"
            ],
            [
             0.9,
             "#4d9221"
            ],
            [
             1,
             "#276419"
            ]
           ],
           "sequential": [
            [
             0,
             "#0d0887"
            ],
            [
             0.1111111111111111,
             "#46039f"
            ],
            [
             0.2222222222222222,
             "#7201a8"
            ],
            [
             0.3333333333333333,
             "#9c179e"
            ],
            [
             0.4444444444444444,
             "#bd3786"
            ],
            [
             0.5555555555555556,
             "#d8576b"
            ],
            [
             0.6666666666666666,
             "#ed7953"
            ],
            [
             0.7777777777777778,
             "#fb9f3a"
            ],
            [
             0.8888888888888888,
             "#fdca26"
            ],
            [
             1,
             "#f0f921"
            ]
           ],
           "sequentialminus": [
            [
             0,
             "#0d0887"
            ],
            [
             0.1111111111111111,
             "#46039f"
            ],
            [
             0.2222222222222222,
             "#7201a8"
            ],
            [
             0.3333333333333333,
             "#9c179e"
            ],
            [
             0.4444444444444444,
             "#bd3786"
            ],
            [
             0.5555555555555556,
             "#d8576b"
            ],
            [
             0.6666666666666666,
             "#ed7953"
            ],
            [
             0.7777777777777778,
             "#fb9f3a"
            ],
            [
             0.8888888888888888,
             "#fdca26"
            ],
            [
             1,
             "#f0f921"
            ]
           ]
          },
          "colorway": [
           "#636efa",
           "#EF553B",
           "#00cc96",
           "#ab63fa",
           "#FFA15A",
           "#19d3f3",
           "#FF6692",
           "#B6E880",
           "#FF97FF",
           "#FECB52"
          ],
          "font": {
           "color": "#2a3f5f"
          },
          "geo": {
           "bgcolor": "white",
           "lakecolor": "white",
           "landcolor": "#E5ECF6",
           "showlakes": true,
           "showland": true,
           "subunitcolor": "white"
          },
          "hoverlabel": {
           "align": "left"
          },
          "hovermode": "closest",
          "mapbox": {
           "style": "light"
          },
          "paper_bgcolor": "white",
          "plot_bgcolor": "#E5ECF6",
          "polar": {
           "angularaxis": {
            "gridcolor": "white",
            "linecolor": "white",
            "ticks": ""
           },
           "bgcolor": "#E5ECF6",
           "radialaxis": {
            "gridcolor": "white",
            "linecolor": "white",
            "ticks": ""
           }
          },
          "scene": {
           "xaxis": {
            "backgroundcolor": "#E5ECF6",
            "gridcolor": "white",
            "gridwidth": 2,
            "linecolor": "white",
            "showbackground": true,
            "ticks": "",
            "zerolinecolor": "white"
           },
           "yaxis": {
            "backgroundcolor": "#E5ECF6",
            "gridcolor": "white",
            "gridwidth": 2,
            "linecolor": "white",
            "showbackground": true,
            "ticks": "",
            "zerolinecolor": "white"
           },
           "zaxis": {
            "backgroundcolor": "#E5ECF6",
            "gridcolor": "white",
            "gridwidth": 2,
            "linecolor": "white",
            "showbackground": true,
            "ticks": "",
            "zerolinecolor": "white"
           }
          },
          "shapedefaults": {
           "line": {
            "color": "#2a3f5f"
           }
          },
          "ternary": {
           "aaxis": {
            "gridcolor": "white",
            "linecolor": "white",
            "ticks": ""
           },
           "baxis": {
            "gridcolor": "white",
            "linecolor": "white",
            "ticks": ""
           },
           "bgcolor": "#E5ECF6",
           "caxis": {
            "gridcolor": "white",
            "linecolor": "white",
            "ticks": ""
           }
          },
          "title": {
           "x": 0.05
          },
          "xaxis": {
           "automargin": true,
           "gridcolor": "white",
           "linecolor": "white",
           "ticks": "",
           "title": {
            "standoff": 15
           },
           "zerolinecolor": "white",
           "zerolinewidth": 2
          },
          "yaxis": {
           "automargin": true,
           "gridcolor": "white",
           "linecolor": "white",
           "ticks": "",
           "title": {
            "standoff": 15
           },
           "zerolinecolor": "white",
           "zerolinewidth": 2
          }
         }
        },
        "title": {
         "text": "Event Funnel"
        },
        "xaxis": {
         "title": {
          "text": "Number of Users"
         }
        },
        "yaxis": {
         "title": {
          "text": "Event"
         }
        }
       }
      }
     },
     "metadata": {},
     "output_type": "display_data"
    }
   ],
   "source": [
    "# Calculate the proportion of users advancing through the event funnel\n",
    "event_funnel = ['MainScreenAppear', 'OffersScreenAppear', 'CartScreenAppear', 'PaymentScreenSuccessful', 'Tutorial']\n",
    "advance_proportions = []\n",
    "\n",
    "for i in range(len(event_funnel) - 1):\n",
    "    current_event = event_funnel[i]\n",
    "    next_event = event_funnel[i + 1]\n",
    "    \n",
    "    current_users = complete_data[complete_data['event_name'] == current_event]['device_id_hash'].nunique()\n",
    "    next_users = complete_data[complete_data['event_name'] == next_event]['device_id_hash'].nunique()\n",
    "    \n",
    "    advance_proportion = next_users / current_users if current_users > 0 else 0\n",
    "    advance_proportions.append(advance_proportion)\n",
    "\n",
    "# Display the proportions of users advancing through the event funnel\n",
    "for i in range(len(advance_proportions)):\n",
    "    current_event = event_funnel[i]\n",
    "    next_event = event_funnel[i + 1]\n",
    "    advance_proportion = advance_proportions[i]\n",
    "    \n",
    "    print(f\"Proportion of users advancing from '{current_event}' to '{next_event}': {advance_proportion:.2%}\")\n",
    "\n",
    "print(\"\\n\" + \"-\"*127 + \"\\n\")\n",
    "\n",
    "# Define Seaborn color palette\n",
    "sns.set_palette(\"muted\")\n",
    "\n",
    "# Get the number of unique users for each event in the correct order\n",
    "users_per_event = [complete_data[complete_data['event_name'] == event]['device_id_hash'].nunique() for event in event_funnel]\n",
    "\n",
    "# Visualize the event funnel with Plotly\n",
    "fig = go.Figure(go.Funnel(\n",
    "    y=event_funnel,\n",
    "    x=users_per_event,\n",
    "    textposition='inside',\n",
    "    textinfo='value+percent previous'\n",
    "))\n",
    "\n",
    "fig.update_layout(title='Event Funnel',\n",
    "                  xaxis_title='Number of Users',\n",
    "                  yaxis_title='Event')\n",
    "\n",
    "fig.show()"
   ]
  },
  {
   "cell_type": "markdown",
   "metadata": {},
   "source": [
    "The event funnel analysis reveals the proportions of users advancing from one stage to another in the application. We found that most users who reach the main screen (MainScreenAppear) proceed to the offers screen (OffersScreenAppear) with a proportion of 61.91%. Additionally, the transition to the cart screen (CartScreenAppear) shows an even higher proportion of 81.30%. Finally, the vast majority of users who view the cart proceed to complete a successful payment (PaymentScreenSuccessful) with a proportion of 94.78%. However, the proportion of users who move from completing a successful payment to viewing a tutorial (Tutorial) is significantly lower, with only 23.74%."
   ]
  },
  {
   "cell_type": "markdown",
   "metadata": {},
   "source": [
    "### Proportion of Users Advancing Through the Event Funnel"
   ]
  },
  {
   "cell_type": "code",
   "execution_count": 15,
   "metadata": {},
   "outputs": [
    {
     "data": {
      "image/png": "[encoded data removed]",
      "text/plain": [
       "<Figure size 1000x600 with 1 Axes>"
      ]
     },
     "metadata": {},
     "output_type": "display_data"
    }
   ],
   "source": [
    "# Use the results from advance_proportions to create a bar chart\n",
    "stages = [f\"{event_funnel[i]} to {event_funnel[i+1]}\" for i in range(len(event_funnel) - 1)]\n",
    "proportions = [proportion * 100 for proportion in advance_proportions]  # Convert to percentage\n",
    "\n",
    "# Create a bar chart to visualize the proportions of users advancing between stages\n",
    "plt.figure(figsize=(10, 6))\n",
    "sns.barplot(x=stages, y=proportions, palette=\"muted\")\n",
    "plt.xlabel('Stage Transition')\n",
    "plt.ylabel('Proportion of Users (%)')\n",
    "plt.title('Proportions of Users Advancing Between Stages of the Funnel')\n",
    "plt.xticks(rotation=45, ha='right')\n",
    "plt.tight_layout()\n",
    "plt.show()"
   ]
  },
  {
   "cell_type": "markdown",
   "metadata": {},
   "source": [
    "The bar chart provides a clear visualization of the proportions of users advancing between the stages of the event funnel. It shows that the majority of users advance significantly from viewing the main screen to successfully completing a payment. However, the proportion of users who proceed to view the tutorial after a successful payment is notably low compared to the previous stages in the funnel. This information highlights critical points in the funnel where optimization efforts can be focused to improve the user experience and maximize conversion."
   ]
  },
  {
   "cell_type": "markdown",
   "metadata": {},
   "source": [
    "### User Drop-Off Analysis by Stage"
   ]
  },
  {
   "cell_type": "code",
   "execution_count": 16,
   "metadata": {},
   "outputs": [
    {
     "name": "stdout",
     "output_type": "stream",
     "text": [
      "The stage with the highest user drop-off is stage 1\n"
     ]
    },
    {
     "data": {
      "image/png": "[encoded data removed]",
      "text/plain": [
       "<Figure size 800x400 with 1 Axes>"
      ]
     },
     "metadata": {},
     "output_type": "display_data"
    }
   ],
   "source": [
    "# Get the number of users at the start of the funnel (in the first stage)\n",
    "initial_users = users_per_event[0]\n",
    "\n",
    "# Calculate the number of users lost at each stage of the funnel\n",
    "users_per_stage = [initial_users]  # Number of users at the start of the funnel\n",
    "users_lost_per_stage = []\n",
    "\n",
    "# Calculate users lost at each stage\n",
    "for i in range(1, len(users_per_event)):\n",
    "    users_lost = users_per_stage[i-1] - users_per_event[i]\n",
    "    users_lost_per_stage.append(users_lost)\n",
    "    users_per_stage.append(users_per_event[i])\n",
    "\n",
    "# Find the stage with the highest user drop-off\n",
    "stage_max_loss = users_lost_per_stage.index(max(users_lost_per_stage)) + 1\n",
    "\n",
    "# Display results\n",
    "print(f\"The stage with the highest user drop-off is stage {stage_max_loss}\")\n",
    "\n",
    "# Funnel stages\n",
    "funnel_stages = range(1, len(users_lost_per_stage) + 1)\n",
    "\n",
    "# Define Seaborn color palette\n",
    "sns.set_palette(\"muted\")\n",
    "\n",
    "# Create bar chart\n",
    "plt.figure(figsize=(8, 4))\n",
    "plt.bar(funnel_stages, users_lost_per_stage)\n",
    "plt.xlabel('Funnel Stage')\n",
    "plt.ylabel('Users Lost')\n",
    "plt.title('Users Lost at Each Stage of the Funnel')\n",
    "plt.xticks(funnel_stages)\n",
    "plt.grid(axis='y', linestyle='--', alpha=0.7)\n",
    "plt.show()"
   ]
  },
  {
   "cell_type": "markdown",
   "metadata": {},
   "source": [
    "By identifying the stage of the funnel where the most users drop off, we can focus our efforts on optimizing that specific stage to reduce the abandonment rate. This information allows us to target retention strategies and improve the user experience at this crucial stage of the event funnel, potentially increasing user conversion and retention on the platform."
   ]
  },
  {
   "cell_type": "markdown",
   "metadata": {},
   "source": [
    "### Percentage of Users Completing the Funnel"
   ]
  },
  {
   "cell_type": "code",
   "execution_count": 17,
   "metadata": {},
   "outputs": [
    {
     "name": "stdout",
     "output_type": "stream",
     "text": [
      "11.32% of users complete the entire journey from their first event to payment.\n"
     ]
    },
    {
     "data": {
      "image/png": "[encoded data removed]",
      "text/plain": [
       "<Figure size 600x400 with 1 Axes>"
      ]
     },
     "metadata": {},
     "output_type": "display_data"
    }
   ],
   "source": [
    "# Calculate the percentage of users who complete the funnel\n",
    "percentage_completed = (users_per_event[-1] / initial_users) * 100\n",
    "\n",
    "# Display results\n",
    "print(f\"{percentage_completed:.2f}% of users complete the entire journey from their first event to payment.\")\n",
    "\n",
    "# Data for the chart\n",
    "labels = ['Completed', 'Not Completed']\n",
    "data = [percentage_completed, 100 - percentage_completed]\n",
    "\n",
    "# Colors using the Seaborn palette\n",
    "colors = sns.color_palette('pastel')\n",
    "\n",
    "# Create the pie chart\n",
    "plt.figure(figsize=(6, 4))\n",
    "plt.pie(data, labels=labels, colors=colors, autopct='%1.1f%%', startangle=140)\n",
    "plt.title('Percentage of Users Completing the Funnel')\n",
    "plt.axis('equal')  # Ensures the chart is a circle\n",
    "plt.show()"
   ]
  },
  {
   "cell_type": "markdown",
   "metadata": {},
   "source": [
    "By calculating the percentage of users who complete the entire funnel from the first event to payment, we obtain a key measure of the overall effectiveness of the event funnel. This percentage indicates how successful our funnel is in guiding users through all stages to the desired conversion. A high percentage of users completing the funnel suggests a smooth and efficient experience, while a low percentage may highlight areas for improvement in the funnel flow and user experience."
   ]
  },
  {
   "cell_type": "markdown",
   "metadata": {},
   "source": [
    "## Analyze the Results of the Experiment"
   ]
  },
  {
   "cell_type": "markdown",
   "metadata": {},
   "source": [
    "### Contar Usuarios en Cada Grupo"
   ]
  },
  {
   "cell_type": "code",
   "execution_count": 18,
   "metadata": {
    "scrolled": true
   },
   "outputs": [
    {
     "name": "stdout",
     "output_type": "stream",
     "text": [
      "Unique values in 'exp_id': [246 247 248]\n",
      "Number of users per group:\n"
     ]
    },
    {
     "data": {
      "text/html": [
       "<div>\n",
       "<style scoped>\n",
       "    .dataframe tbody tr th:only-of-type {\n",
       "        vertical-align: middle;\n",
       "    }\n",
       "\n",
       "    .dataframe tbody tr th {\n",
       "        vertical-align: top;\n",
       "    }\n",
       "\n",
       "    .dataframe thead th {\n",
       "        text-align: right;\n",
       "    }\n",
       "</style>\n",
       "<table border=\"1\" class=\"dataframe\">\n",
       "  <thead>\n",
       "    <tr style=\"text-align: right;\">\n",
       "      <th></th>\n",
       "      <th>Group</th>\n",
       "      <th>Users</th>\n",
       "    </tr>\n",
       "  </thead>\n",
       "  <tbody>\n",
       "    <tr>\n",
       "      <th>0</th>\n",
       "      <td>246</td>\n",
       "      <td>2484</td>\n",
       "    </tr>\n",
       "    <tr>\n",
       "      <th>1</th>\n",
       "      <td>247</td>\n",
       "      <td>2513</td>\n",
       "    </tr>\n",
       "    <tr>\n",
       "      <th>2</th>\n",
       "      <td>248</td>\n",
       "      <td>2537</td>\n",
       "    </tr>\n",
       "  </tbody>\n",
       "</table>\n",
       "</div>"
      ],
      "text/plain": [
       "   Group  Users\n",
       "0    246   2484\n",
       "1    247   2513\n",
       "2    248   2537"
      ]
     },
     "metadata": {},
     "output_type": "display_data"
    }
   ],
   "source": [
    "# Verify unique values in the 'exp_id' column\n",
    "print(\"Unique values in 'exp_id':\", complete_data['exp_id'].unique())\n",
    "\n",
    "# Count the number of users in each group\n",
    "users_per_group = complete_data.groupby('exp_id')['device_id_hash'].nunique().reset_index()\n",
    "users_per_group.columns = ['Group', 'Users']\n",
    "print(\"Number of users per group:\")\n",
    "display(users_per_group)"
   ]
  },
  {
   "cell_type": "markdown",
   "metadata": {},
   "source": [
    "It has been verified that the values in the 'exp_id' column are unique and correct, displaying the values [246, 247, 248]. Additionally, the number of unique users in each group was counted using 'device_id_hash', with the results showing 2,484 users in group 246, 2,513 in group 247, and 2,537 in group 248."
   ]
  },
  {
   "cell_type": "markdown",
   "metadata": {},
   "source": [
    "### Statistically Significant Difference Between Control Groups"
   ]
  },
  {
   "cell_type": "code",
   "execution_count": 19,
   "metadata": {},
   "outputs": [
    {
     "name": "stdout",
     "output_type": "stream",
     "text": [
      "The most popular event is: MainScreenAppear\n",
      "Users who performed 'MainScreenAppear' in group 246: 2450 (98.63%)\n",
      "Users who performed 'MainScreenAppear' in group 247: 2476 (98.53%)\n",
      "P-value of the z-test for proportions: 0.7571\n",
      "There is no statistically significant difference between control groups 246 and 247.\n",
      "\n",
      "-------------------------------------------------------------------------------------------------------------------------------\n",
      "\n"
     ]
    },
    {
     "data": {
      "image/png": "[encoded data removed]",
      "text/plain": [
       "<Figure size 800x600 with 1 Axes>"
      ]
     },
     "metadata": {},
     "output_type": "display_data"
    }
   ],
   "source": [
    "# Select the most popular event\n",
    "most_popular_event = complete_data['event_name'].value_counts().idxmax()\n",
    "print(f\"The most popular event is: {most_popular_event}\")\n",
    "\n",
    "# Filter data for control groups 246 and 247 and the most popular event\n",
    "control_246 = complete_data[(complete_data['exp_id'] == 246) & (complete_data['event_name'] == most_popular_event)]\n",
    "control_247 = complete_data[(complete_data['exp_id'] == 247) & (complete_data['event_name'] == most_popular_event)]\n",
    "\n",
    "# Count unique users who performed the event in each control group\n",
    "users_control_246 = control_246['device_id_hash'].nunique()\n",
    "users_control_247 = control_247['device_id_hash'].nunique()\n",
    "\n",
    "# Calculate the proportion of users who performed the event\n",
    "total_users_246 = users_per_group.loc[users_per_group['Group'] == 246, 'Users'].values[0]\n",
    "total_users_247 = users_per_group.loc[users_per_group['Group'] == 247, 'Users'].values[0]\n",
    "\n",
    "proportion_control_246 = users_control_246 / total_users_246\n",
    "proportion_control_247 = users_control_247 / total_users_247\n",
    "\n",
    "# Create the contingency table for the z-test\n",
    "conversions = np.array([users_control_246, users_control_247])\n",
    "total_n = np.array([total_users_246, total_users_247])\n",
    "\n",
    "# Perform z-test for proportions\n",
    "z_stat, p_value = proportions_ztest(conversions, total_n)\n",
    "\n",
    "print(f\"Users who performed '{most_popular_event}' in group 246: {users_control_246} ({proportion_control_246:.2%})\")\n",
    "print(f\"Users who performed '{most_popular_event}' in group 247: {users_control_247} ({proportion_control_247:.2%})\")\n",
    "print(f\"P-value of the z-test for proportions: {p_value:.4f}\")\n",
    "\n",
    "if p_value < 0.05:\n",
    "    print(\"There is a statistically significant difference between control groups 246 and 247.\")\n",
    "else:\n",
    "    print(\"There is no statistically significant difference between control groups 246 and 247.\")\n",
    "\n",
    "# Data for the chart\n",
    "chart_data = {\n",
    "    'Group': ['246', '247'],\n",
    "    'Proportion of Users': [proportion_control_246, proportion_control_247]\n",
    "}\n",
    "\n",
    "print(\"\\n\" + \"-\"*127 + \"\\n\")\n",
    "\n",
    "# Create DataFrame\n",
    "df_chart = pd.DataFrame(chart_data)\n",
    "\n",
    "# Chart settings\n",
    "plt.figure(figsize=(8, 6))\n",
    "sns.barplot(x='Group', y='Proportion of Users', data=df_chart, palette='viridis')\n",
    "plt.title('Proportion of Users Who Performed the Most Popular Event in Control Groups')\n",
    "plt.ylabel('Proportion of Users')\n",
    "plt.xlabel('Group')\n",
    "plt.ylim(0, 1)\n",
    "plt.gca().yaxis.set_major_formatter(plt.FuncFormatter(lambda y, _: '{:.0%}'.format(y)))\n",
    "\n",
    "# Show the chart\n",
    "plt.show()"
   ]
  },
  {
   "cell_type": "markdown",
   "metadata": {},
   "source": [
    "The statistical analysis of control groups 246 and 247, focusing on the proportion of users who performed the most popular event ('MainScreenAppear'), did not reveal a significant difference between the groups. Specifically, 98.63% of users in group 246 and 98.53% in group 247 completed this event, and the p-value of the z-test for proportions was 0.7571, well above the conventional threshold of 0.05. This suggests that there is no statistical evidence to claim that the conversions between these two groups are different. In summary, the changes made to the application did not have a significant impact on user behavior between these two control groups."
   ]
  },
  {
   "cell_type": "markdown",
   "metadata": {},
   "source": [
    "### Analysis of the Most Popular Event"
   ]
  },
  {
   "cell_type": "code",
   "execution_count": 20,
   "metadata": {
    "scrolled": true
   },
   "outputs": [
    {
     "data": {
      "text/html": [
       "<div>\n",
       "<style scoped>\n",
       "    .dataframe tbody tr th:only-of-type {\n",
       "        vertical-align: middle;\n",
       "    }\n",
       "\n",
       "    .dataframe tbody tr th {\n",
       "        vertical-align: top;\n",
       "    }\n",
       "\n",
       "    .dataframe thead th {\n",
       "        text-align: right;\n",
       "    }\n",
       "</style>\n",
       "<table border=\"1\" class=\"dataframe\">\n",
       "  <thead>\n",
       "    <tr style=\"text-align: right;\">\n",
       "      <th></th>\n",
       "      <th>Event</th>\n",
       "      <th>Proportion 246</th>\n",
       "      <th>Proportion 247</th>\n",
       "      <th>P-value</th>\n",
       "    </tr>\n",
       "  </thead>\n",
       "  <tbody>\n",
       "    <tr>\n",
       "      <th>0</th>\n",
       "      <td>Tutorial</td>\n",
       "      <td>0.111916</td>\n",
       "      <td>0.112614</td>\n",
       "      <td>0.937700</td>\n",
       "    </tr>\n",
       "    <tr>\n",
       "      <th>1</th>\n",
       "      <td>MainScreenAppear</td>\n",
       "      <td>0.986312</td>\n",
       "      <td>0.985277</td>\n",
       "      <td>0.757060</td>\n",
       "    </tr>\n",
       "    <tr>\n",
       "      <th>2</th>\n",
       "      <td>OffersScreenAppear</td>\n",
       "      <td>0.620773</td>\n",
       "      <td>0.604855</td>\n",
       "      <td>0.248095</td>\n",
       "    </tr>\n",
       "    <tr>\n",
       "      <th>3</th>\n",
       "      <td>CartScreenAppear</td>\n",
       "      <td>0.509662</td>\n",
       "      <td>0.492638</td>\n",
       "      <td>0.228834</td>\n",
       "    </tr>\n",
       "    <tr>\n",
       "      <th>4</th>\n",
       "      <td>PaymentScreenSuccessful</td>\n",
       "      <td>0.483092</td>\n",
       "      <td>0.460804</td>\n",
       "      <td>0.114567</td>\n",
       "    </tr>\n",
       "  </tbody>\n",
       "</table>\n",
       "</div>"
      ],
      "text/plain": [
       "                     Event  Proportion 246  Proportion 247   P-value\n",
       "0                 Tutorial        0.111916        0.112614  0.937700\n",
       "1         MainScreenAppear        0.986312        0.985277  0.757060\n",
       "2       OffersScreenAppear        0.620773        0.604855  0.248095\n",
       "3         CartScreenAppear        0.509662        0.492638  0.228834\n",
       "4  PaymentScreenSuccessful        0.483092        0.460804  0.114567"
      ]
     },
     "metadata": {},
     "output_type": "display_data"
    },
    {
     "name": "stdout",
     "output_type": "stream",
     "text": [
      "\n",
      "----------------------------------------------------------------------------------------------------------------------------\n",
      "\n"
     ]
    },
    {
     "data": {
      "image/png": "[encoded data removed]",
      "text/plain": [
       "<Figure size 1400x800 with 1 Axes>"
      ]
     },
     "metadata": {},
     "output_type": "display_data"
    }
   ],
   "source": [
    "# Function to compare groups using a z-test of proportions\n",
    "def compare_groups(event, group_a, group_b):\n",
    "    # Filter data for the specific events and groups\n",
    "    group_a_data = complete_data[(complete_data['exp_id'] == group_a) & (complete_data['event_name'] == event)]\n",
    "    group_b_data = complete_data[(complete_data['exp_id'] == group_b) & (complete_data['event_name'] == event)]\n",
    "\n",
    "    # Count unique users who performed the event in each group\n",
    "    users_group_a = group_a_data['device_id_hash'].nunique()\n",
    "    users_group_b = group_b_data['device_id_hash'].nunique()\n",
    "\n",
    "    # Calculate the proportion of users who performed the event\n",
    "    total_group_a = users_per_group.loc[users_per_group['Group'] == group_a, 'Users'].values[0]\n",
    "    total_group_b = users_per_group.loc[users_per_group['Group'] == group_b, 'Users'].values[0]\n",
    "    proportion_group_a = users_group_a / total_group_a\n",
    "    proportion_group_b = users_group_b / total_group_b\n",
    "\n",
    "    # Perform z-test of proportions\n",
    "    count = np.array([users_group_a, users_group_b])\n",
    "    nobs = np.array([total_group_a, total_group_b])\n",
    "    z_stat, p_val = proportions_ztest(count, nobs)\n",
    "\n",
    "    return proportion_group_a, proportion_group_b, p_val\n",
    "\n",
    "# Get all unique events\n",
    "unique_events = complete_data['event_name'].unique()\n",
    "\n",
    "# Compare proportions for all events\n",
    "comparison_results = []\n",
    "\n",
    "for event in unique_events:\n",
    "    proportion_246, proportion_247, p_value = compare_groups(event, 246, 247)\n",
    "    comparison_results.append((event, proportion_246, proportion_247, p_value))\n",
    "\n",
    "# Create a DataFrame with the results\n",
    "results_df = pd.DataFrame(comparison_results, columns=['Event', 'Proportion 246', 'Proportion 247', 'P-value'])\n",
    "display(results_df)\n",
    "\n",
    "print(\"\\n\" + \"-\"*124 + \"\\n\")\n",
    "\n",
    "# Create a bar chart for the proportion of each event in both groups\n",
    "plt.figure(figsize=(14, 8))\n",
    "sns.barplot(data=results_df.melt(id_vars='Event', value_vars=['Proportion 246', 'Proportion 247']), x='Event', y='value', hue='variable')\n",
    "plt.title('Proportion of Users Who Performed Each Event by Group')\n",
    "plt.ylabel('Proportion')\n",
    "plt.xlabel('Event')\n",
    "plt.xticks(rotation=45)\n",
    "plt.legend(title='Group')\n",
    "plt.tight_layout()\n",
    "plt.show()"
   ]
  },
  {
   "cell_type": "markdown",
   "metadata": {},
   "source": [
    "By comparing the proportions of users who performed the most popular events between control groups 246 and 247 using a z-test of proportions, it was observed that there are no statistically significant differences in any of the events analyzed. The p-values for all events, including \"Tutorial,\" \"MainScreenAppear,\" \"OffersScreenAppear,\" \"CartScreenAppear,\" and \"PaymentScreenSuccessful,\" are greater than 0.05. This indicates that the proportions of users who performed these events are very similar between the two control groups. Therefore, there is insufficient evidence to assert that there is a difference in the proportion of users performing these events between control groups 246 and 247."
   ]
  },
  {
   "cell_type": "markdown",
   "metadata": {},
   "source": [
    "### Repeat the Analysis for All Events"
   ]
  },
  {
   "cell_type": "markdown",
   "metadata": {},
   "source": [
    "#### Comparison of the Experimental Group (248) with the Control Groups (246 and 247) Separately\n",
    "\n",
    "We will define a function to perform these comparisons and then apply that function to all unique events in the DataFrame. The comparisons will involve comparing group 248 with group 246 and group 247 separately."
   ]
  },
  {
   "cell_type": "code",
   "execution_count": 21,
   "metadata": {},
   "outputs": [
    {
     "data": {
      "text/html": [
       "<div>\n",
       "<style scoped>\n",
       "    .dataframe tbody tr th:only-of-type {\n",
       "        vertical-align: middle;\n",
       "    }\n",
       "\n",
       "    .dataframe tbody tr th {\n",
       "        vertical-align: top;\n",
       "    }\n",
       "\n",
       "    .dataframe thead th {\n",
       "        text-align: right;\n",
       "    }\n",
       "</style>\n",
       "<table border=\"1\" class=\"dataframe\">\n",
       "  <thead>\n",
       "    <tr style=\"text-align: right;\">\n",
       "      <th></th>\n",
       "      <th>Event</th>\n",
       "      <th>Proportion 246</th>\n",
       "      <th>Proportion 248</th>\n",
       "      <th>P-value</th>\n",
       "      <th>Z-score</th>\n",
       "    </tr>\n",
       "  </thead>\n",
       "  <tbody>\n",
       "    <tr>\n",
       "      <th>0</th>\n",
       "      <td>Tutorial</td>\n",
       "      <td>0.111916</td>\n",
       "      <td>0.109972</td>\n",
       "      <td>0.826429</td>\n",
       "      <td>0.219283</td>\n",
       "    </tr>\n",
       "    <tr>\n",
       "      <th>1</th>\n",
       "      <td>MainScreenAppear</td>\n",
       "      <td>0.986312</td>\n",
       "      <td>0.982657</td>\n",
       "      <td>0.294972</td>\n",
       "      <td>1.047276</td>\n",
       "    </tr>\n",
       "    <tr>\n",
       "      <th>2</th>\n",
       "      <td>OffersScreenAppear</td>\n",
       "      <td>0.620773</td>\n",
       "      <td>0.603469</td>\n",
       "      <td>0.208362</td>\n",
       "      <td>1.258082</td>\n",
       "    </tr>\n",
       "    <tr>\n",
       "      <th>3</th>\n",
       "      <td>CartScreenAppear</td>\n",
       "      <td>0.509662</td>\n",
       "      <td>0.484825</td>\n",
       "      <td>0.078429</td>\n",
       "      <td>1.759874</td>\n",
       "    </tr>\n",
       "    <tr>\n",
       "      <th>4</th>\n",
       "      <td>PaymentScreenSuccessful</td>\n",
       "      <td>0.483092</td>\n",
       "      <td>0.465510</td>\n",
       "      <td>0.212255</td>\n",
       "      <td>1.247388</td>\n",
       "    </tr>\n",
       "  </tbody>\n",
       "</table>\n",
       "</div>"
      ],
      "text/plain": [
       "                     Event  Proportion 246  Proportion 248   P-value   Z-score\n",
       "0                 Tutorial        0.111916        0.109972  0.826429  0.219283\n",
       "1         MainScreenAppear        0.986312        0.982657  0.294972  1.047276\n",
       "2       OffersScreenAppear        0.620773        0.603469  0.208362  1.258082\n",
       "3         CartScreenAppear        0.509662        0.484825  0.078429  1.759874\n",
       "4  PaymentScreenSuccessful        0.483092        0.465510  0.212255  1.247388"
      ]
     },
     "metadata": {},
     "output_type": "display_data"
    },
    {
     "name": "stdout",
     "output_type": "stream",
     "text": [
      "\n",
      "-------------------------------------------------------------------------------------------------------------------------------\n",
      "\n"
     ]
    },
    {
     "data": {
      "text/html": [
       "<div>\n",
       "<style scoped>\n",
       "    .dataframe tbody tr th:only-of-type {\n",
       "        vertical-align: middle;\n",
       "    }\n",
       "\n",
       "    .dataframe tbody tr th {\n",
       "        vertical-align: top;\n",
       "    }\n",
       "\n",
       "    .dataframe thead th {\n",
       "        text-align: right;\n",
       "    }\n",
       "</style>\n",
       "<table border=\"1\" class=\"dataframe\">\n",
       "  <thead>\n",
       "    <tr style=\"text-align: right;\">\n",
       "      <th></th>\n",
       "      <th>Event</th>\n",
       "      <th>Proportion 247</th>\n",
       "      <th>Proportion 248</th>\n",
       "      <th>P-value</th>\n",
       "      <th>Z-score</th>\n",
       "    </tr>\n",
       "  </thead>\n",
       "  <tbody>\n",
       "    <tr>\n",
       "      <th>0</th>\n",
       "      <td>Tutorial</td>\n",
       "      <td>0.112614</td>\n",
       "      <td>0.109972</td>\n",
       "      <td>0.765324</td>\n",
       "      <td>0.298497</td>\n",
       "    </tr>\n",
       "    <tr>\n",
       "      <th>1</th>\n",
       "      <td>MainScreenAppear</td>\n",
       "      <td>0.985277</td>\n",
       "      <td>0.982657</td>\n",
       "      <td>0.458705</td>\n",
       "      <td>0.740980</td>\n",
       "    </tr>\n",
       "    <tr>\n",
       "      <th>2</th>\n",
       "      <td>OffersScreenAppear</td>\n",
       "      <td>0.604855</td>\n",
       "      <td>0.603469</td>\n",
       "      <td>0.919782</td>\n",
       "      <td>0.100709</td>\n",
       "    </tr>\n",
       "    <tr>\n",
       "      <th>3</th>\n",
       "      <td>CartScreenAppear</td>\n",
       "      <td>0.492638</td>\n",
       "      <td>0.484825</td>\n",
       "      <td>0.578620</td>\n",
       "      <td>0.555402</td>\n",
       "    </tr>\n",
       "    <tr>\n",
       "      <th>4</th>\n",
       "      <td>PaymentScreenSuccessful</td>\n",
       "      <td>0.460804</td>\n",
       "      <td>0.465510</td>\n",
       "      <td>0.737342</td>\n",
       "      <td>-0.335376</td>\n",
       "    </tr>\n",
       "  </tbody>\n",
       "</table>\n",
       "</div>"
      ],
      "text/plain": [
       "                     Event  Proportion 247  Proportion 248   P-value   Z-score\n",
       "0                 Tutorial        0.112614        0.109972  0.765324  0.298497\n",
       "1         MainScreenAppear        0.985277        0.982657  0.458705  0.740980\n",
       "2       OffersScreenAppear        0.604855        0.603469  0.919782  0.100709\n",
       "3         CartScreenAppear        0.492638        0.484825  0.578620  0.555402\n",
       "4  PaymentScreenSuccessful        0.460804        0.465510  0.737342 -0.335376"
      ]
     },
     "metadata": {},
     "output_type": "display_data"
    }
   ],
   "source": [
    "# Define the function to compare groups\n",
    "def compare_groups_all(event, group_a, group_b):\n",
    "    \n",
    "    # Filter data for the specific events and groups\n",
    "    group_a_data = complete_data[(complete_data['exp_id'] == group_a) & (complete_data['event_name'] == event)]\n",
    "    group_b_data = complete_data[(complete_data['exp_id'] == group_b) & (complete_data['event_name'] == event)]\n",
    "    \n",
    "    # Count unique users who performed the event in each group\n",
    "    users_group_a = group_a_data['device_id_hash'].nunique()\n",
    "    users_group_b = group_b_data['device_id_hash'].nunique()\n",
    "    \n",
    "    # Get the total number of users in each group\n",
    "    total_group_a = users_per_group.loc[users_per_group['Group'] == group_a, 'Users'].values[0]\n",
    "    total_group_b = users_per_group.loc[users_per_group['Group'] == group_b, 'Users'].values[0]\n",
    "    \n",
    "    # Calculate the proportion of users who performed the event in each group\n",
    "    proportion_group_a = users_group_a / total_group_a\n",
    "    proportion_group_b = users_group_b / total_group_b\n",
    "    \n",
    "    # Perform z-test of proportions\n",
    "    count = np.array([users_group_a, users_group_b])\n",
    "    nobs = np.array([total_group_a, total_group_b])\n",
    "    z_score, p_value = proportions_ztest(count, nobs, alternative='two-sided')\n",
    "    \n",
    "    return proportion_group_a, proportion_group_b, p_value, z_score\n",
    "\n",
    "# Compare proportions for all events\n",
    "comparison_results_246_248 = []\n",
    "comparison_results_247_248 = []\n",
    "\n",
    "for event in unique_events:\n",
    "    proportion_246, proportion_248, p_value_246_248, z_score_246_248 = compare_groups_all(event, 246, 248)\n",
    "    comparison_results_246_248.append((event, proportion_246, proportion_248, p_value_246_248, z_score_246_248))\n",
    "    \n",
    "    proportion_247, proportion_248, p_value_247_248, z_score_247_248 = compare_groups_all(event, 247, 248)\n",
    "    comparison_results_247_248.append((event, proportion_247, proportion_248, p_value_247_248, z_score_247_248))\n",
    "\n",
    "# Create DataFrames with the results\n",
    "results_246_248_df = pd.DataFrame(comparison_results_246_248, columns=['Event', 'Proportion 246', 'Proportion 248', 'P-value', 'Z-score'])\n",
    "results_247_248_df = pd.DataFrame(comparison_results_247_248, columns=['Event', 'Proportion 247', 'Proportion 248', 'P-value', 'Z-score'])\n",
    "\n",
    "display(results_246_248_df)\n",
    "print(\"\\n\" + \"-\"*127 + \"\\n\")\n",
    "display(results_247_248_df)\n",
    "\n"
   ]
  },
  {
   "cell_type": "markdown",
   "metadata": {},
   "source": [
    "The analysis results indicate that, for the most part, there are no statistically significant differences between the experimental group (248) and the control groups (246 and 247) in terms of the proportion of users who completed the specific events. For the events Tutorial, MainScreenAppear, OffersScreenAppear, CartScreenAppear, and PaymentScreenSuccessful, the p-values in comparisons between groups 246 and 248, as well as between groups 247 and 248, exceed the significance level of 0.05. This suggests that there is insufficient evidence to reject the null hypothesis that the proportions of users are equal between the groups, indicating a similarity in user behavior between the experimental group and the control groups for these events.\n",
    "\n",
    "Additionally, when considering the Z-score, we observe that the results are based not only on p-values but also on the magnitude of the difference between proportions and the distribution of the data. For the event CartScreenAppear, although the p-value (0.078) in the comparison between groups 246 and 248 is slightly below the significance level, the associated Z-score provides an additional perspective on the practical significance of this difference. A more detailed exploration of this discrepancy may be necessary to determine its practical importance and whether it warrants further action."
   ]
  },
  {
   "cell_type": "markdown",
   "metadata": {},
   "source": [
    "#### Comparison of the Experimental Group (248) with the Combination of Control Groups (246 and 247)\n",
    "\n",
    "To compare the experimental group with the combination of control groups, we will first combine the data from the control groups and then perform the comparison.\n",
    "\n",
    "Combine the control groups 246 and 247 and compare with group 248"
   ]
  },
  {
   "cell_type": "code",
   "execution_count": 22,
   "metadata": {},
   "outputs": [
    {
     "data": {
      "text/html": [
       "<div>\n",
       "<style scoped>\n",
       "    .dataframe tbody tr th:only-of-type {\n",
       "        vertical-align: middle;\n",
       "    }\n",
       "\n",
       "    .dataframe tbody tr th {\n",
       "        vertical-align: top;\n",
       "    }\n",
       "\n",
       "    .dataframe thead th {\n",
       "        text-align: right;\n",
       "    }\n",
       "</style>\n",
       "<table border=\"1\" class=\"dataframe\">\n",
       "  <thead>\n",
       "    <tr style=\"text-align: right;\">\n",
       "      <th></th>\n",
       "      <th>Event</th>\n",
       "      <th>Combined Control Proportion</th>\n",
       "      <th>Proportion 248</th>\n",
       "      <th>Z-score</th>\n",
       "      <th>P-value</th>\n",
       "    </tr>\n",
       "  </thead>\n",
       "  <tbody>\n",
       "    <tr>\n",
       "      <th>0</th>\n",
       "      <td>Tutorial</td>\n",
       "      <td>0.112267</td>\n",
       "      <td>0.109972</td>\n",
       "      <td>0.299102</td>\n",
       "      <td>0.764862</td>\n",
       "    </tr>\n",
       "    <tr>\n",
       "      <th>1</th>\n",
       "      <td>MainScreenAppear</td>\n",
       "      <td>0.985791</td>\n",
       "      <td>0.982657</td>\n",
       "      <td>1.048854</td>\n",
       "      <td>0.294245</td>\n",
       "    </tr>\n",
       "    <tr>\n",
       "      <th>2</th>\n",
       "      <td>OffersScreenAppear</td>\n",
       "      <td>0.612768</td>\n",
       "      <td>0.603469</td>\n",
       "      <td>0.781930</td>\n",
       "      <td>0.434255</td>\n",
       "    </tr>\n",
       "    <tr>\n",
       "      <th>3</th>\n",
       "      <td>CartScreenAppear</td>\n",
       "      <td>0.501101</td>\n",
       "      <td>0.484825</td>\n",
       "      <td>1.335359</td>\n",
       "      <td>0.181759</td>\n",
       "    </tr>\n",
       "    <tr>\n",
       "      <th>4</th>\n",
       "      <td>PaymentScreenSuccessful</td>\n",
       "      <td>0.471883</td>\n",
       "      <td>0.465510</td>\n",
       "      <td>0.523783</td>\n",
       "      <td>0.600429</td>\n",
       "    </tr>\n",
       "  </tbody>\n",
       "</table>\n",
       "</div>"
      ],
      "text/plain": [
       "                     Event  Combined Control Proportion  Proportion 248  \\\n",
       "0                 Tutorial                     0.112267        0.109972   \n",
       "1         MainScreenAppear                     0.985791        0.982657   \n",
       "2       OffersScreenAppear                     0.612768        0.603469   \n",
       "3         CartScreenAppear                     0.501101        0.484825   \n",
       "4  PaymentScreenSuccessful                     0.471883        0.465510   \n",
       "\n",
       "    Z-score   P-value  \n",
       "0  0.299102  0.764862  \n",
       "1  1.048854  0.294245  \n",
       "2  0.781930  0.434255  \n",
       "3  1.335359  0.181759  \n",
       "4  0.523783  0.600429  "
      ]
     },
     "metadata": {},
     "output_type": "display_data"
    }
   ],
   "source": [
    "# Combine the control groups 246 and 247\n",
    "combined_control = complete_data[complete_data['exp_id'].isin([246, 247])]\n",
    "\n",
    "# Define the function to compare combined group with experimental group\n",
    "def compare_combined_group(event, combined_group, experimental_group):\n",
    "    \n",
    "    # Filter data for the specific events and groups\n",
    "    combined_group_data = combined_group[combined_group['event_name'] == event]\n",
    "    experimental_group_data = complete_data[(complete_data['exp_id'] == experimental_group) & (complete_data['event_name'] == event)]\n",
    "    \n",
    "    # Count unique users who performed the event in each group\n",
    "    users_combined_group = combined_group_data['device_id_hash'].nunique()\n",
    "    users_experimental_group = experimental_group_data['device_id_hash'].nunique()\n",
    "    \n",
    "    # Calculate the proportion of users who performed the event\n",
    "    total_combined_group = combined_group['device_id_hash'].nunique()\n",
    "    total_experimental_group = users_per_group.loc[users_per_group['Group'] == experimental_group, 'Users'].values[0]\n",
    "    proportion_combined_group = users_combined_group / total_combined_group\n",
    "    proportion_experimental_group = users_experimental_group / total_experimental_group\n",
    "    \n",
    "    # Perform z-test of proportions\n",
    "    count = np.array([users_combined_group, users_experimental_group])\n",
    "    nobs = np.array([total_combined_group, total_experimental_group])\n",
    "    z_score, p_value = proportions_ztest(count, nobs, alternative='two-sided')\n",
    "    \n",
    "    return proportion_combined_group, proportion_experimental_group, z_score, p_value\n",
    "\n",
    "# Compare proportions for all events\n",
    "comparison_results_combined_248 = []\n",
    "\n",
    "for event in unique_events:\n",
    "    proportion_combined, proportion_248, z_score, p_value_combined_248 = compare_combined_group(event, combined_control, 248)\n",
    "    comparison_results_combined_248.append((event, proportion_combined, proportion_248, z_score, p_value_combined_248))\n",
    "\n",
    "# Create DataFrame with the results\n",
    "combined_248_results_df = pd.DataFrame(comparison_results_combined_248, columns=['Event', 'Combined Control Proportion', 'Proportion 248', 'Z-score', 'P-value'])\n",
    "\n",
    "display(combined_248_results_df)"
   ]
  },
  {
   "cell_type": "markdown",
   "metadata": {},
   "source": [
    "The results of the z-test for proportions between the experimental group (248) and the combination of control groups (246 and 247) show no statistically significant differences for any of the analyzed events. The p-values for all events (Tutorial, MainScreenAppear, OffersScreenAppear, CartScreenAppear, and PaymentScreenSuccessful) are greater than the significance level of 0.05, indicating that there is not enough evidence to reject the null hypothesis that the proportions of users are the same between the experimental group and the combined control groups. This suggests that there is no significant difference in user behavior between the experimental group and the combined control groups for any of the specific events analyzed."
   ]
  },
  {
   "cell_type": "code",
   "execution_count": 23,
   "metadata": {},
   "outputs": [
    {
     "data": {
      "text/html": [
       "<div>\n",
       "<style scoped>\n",
       "    .dataframe tbody tr th:only-of-type {\n",
       "        vertical-align: middle;\n",
       "    }\n",
       "\n",
       "    .dataframe tbody tr th {\n",
       "        vertical-align: top;\n",
       "    }\n",
       "\n",
       "    .dataframe thead th {\n",
       "        text-align: right;\n",
       "    }\n",
       "</style>\n",
       "<table border=\"1\" class=\"dataframe\">\n",
       "  <thead>\n",
       "    <tr style=\"text-align: right;\">\n",
       "      <th></th>\n",
       "      <th>Event</th>\n",
       "      <th>Proportion 246</th>\n",
       "      <th>Proportion 247</th>\n",
       "      <th>Z-score</th>\n",
       "      <th>P-value</th>\n",
       "    </tr>\n",
       "  </thead>\n",
       "  <tbody>\n",
       "    <tr>\n",
       "      <th>0</th>\n",
       "      <td>Tutorial</td>\n",
       "      <td>0.111916</td>\n",
       "      <td>0.112614</td>\n",
       "      <td>-0.078161</td>\n",
       "      <td>0.937700</td>\n",
       "    </tr>\n",
       "    <tr>\n",
       "      <th>1</th>\n",
       "      <td>MainScreenAppear</td>\n",
       "      <td>0.986312</td>\n",
       "      <td>0.985277</td>\n",
       "      <td>0.309344</td>\n",
       "      <td>0.757060</td>\n",
       "    </tr>\n",
       "    <tr>\n",
       "      <th>2</th>\n",
       "      <td>OffersScreenAppear</td>\n",
       "      <td>0.620773</td>\n",
       "      <td>0.604855</td>\n",
       "      <td>1.154988</td>\n",
       "      <td>0.248095</td>\n",
       "    </tr>\n",
       "    <tr>\n",
       "      <th>3</th>\n",
       "      <td>CartScreenAppear</td>\n",
       "      <td>0.509662</td>\n",
       "      <td>0.492638</td>\n",
       "      <td>1.203369</td>\n",
       "      <td>0.228834</td>\n",
       "    </tr>\n",
       "    <tr>\n",
       "      <th>4</th>\n",
       "      <td>PaymentScreenSuccessful</td>\n",
       "      <td>0.483092</td>\n",
       "      <td>0.460804</td>\n",
       "      <td>1.577995</td>\n",
       "      <td>0.114567</td>\n",
       "    </tr>\n",
       "  </tbody>\n",
       "</table>\n",
       "</div>"
      ],
      "text/plain": [
       "                     Event  Proportion 246  Proportion 247   Z-score   P-value\n",
       "0                 Tutorial        0.111916        0.112614 -0.078161  0.937700\n",
       "1         MainScreenAppear        0.986312        0.985277  0.309344  0.757060\n",
       "2       OffersScreenAppear        0.620773        0.604855  1.154988  0.248095\n",
       "3         CartScreenAppear        0.509662        0.492638  1.203369  0.228834\n",
       "4  PaymentScreenSuccessful        0.483092        0.460804  1.577995  0.114567"
      ]
     },
     "metadata": {},
     "output_type": "display_data"
    }
   ],
   "source": [
    "# Function to compare groups for a specific event\n",
    "def compare_groups(event, group_a, group_b):\n",
    "    \n",
    "    # Filter data for the specific events and groups\n",
    "    group_a_data = complete_data[(complete_data['exp_id'] == group_a) & (complete_data['event_name'] == event)]\n",
    "    group_b_data = complete_data[(complete_data['exp_id'] == group_b) & (complete_data['event_name'] == event)]\n",
    "\n",
    "    # Count unique users who performed the event in each group\n",
    "    users_group_a = group_a_data['device_id_hash'].nunique()\n",
    "    users_group_b = group_b_data['device_id_hash'].nunique()\n",
    "\n",
    "    # Calculate the proportion of users who performed the event\n",
    "    total_group_a = users_per_group.loc[users_per_group['Group'] == group_a, 'Users'].values[0]\n",
    "    total_group_b = users_per_group.loc[users_per_group['Group'] == group_b, 'Users'].values[0]\n",
    "    proportion_group_a = users_group_a / total_group_a\n",
    "    proportion_group_b = users_group_b / total_group_b\n",
    "\n",
    "    # Perform z-test for proportions\n",
    "    count = np.array([users_group_a, users_group_b])\n",
    "    nobs = np.array([total_group_a, total_group_b])\n",
    "    z_score, p_value = proportions_ztest(count, nobs, alternative='two-sided')\n",
    "\n",
    "    return proportion_group_a, proportion_group_b, z_score, p_value  # Add Z-score to results\n",
    "\n",
    "# Get all unique events\n",
    "unique_events = complete_data['event_name'].unique()\n",
    "\n",
    "# Compare proportions for all events\n",
    "comparison_results = []\n",
    "\n",
    "for event in unique_events:\n",
    "    proportion_246, proportion_247, z_score, p_value = compare_groups(event, 246, 247)  # Update variable assignment\n",
    "    comparison_results.append((event, proportion_246, proportion_247, z_score, p_value))  # Add Z-score to results list\n",
    "\n",
    "# Create a DataFrame with the results\n",
    "results_df = pd.DataFrame(comparison_results, columns=['Event', 'Proportion 246', 'Proportion 247', 'Z-score', 'P-value'])  # Update column names\n",
    "display(results_df)"
   ]
  },
  {
   "cell_type": "markdown",
   "metadata": {},
   "source": [
    "The results of the comparative analysis between control groups 246 and 247 show that, for most events, there are no statistically significant differences in terms of the proportion of users who completed the respective actions. For the tutorial, main screen, offers screen, cart appearance, and payment completion, the p-values are above the significance level of 0.05, indicating that there is insufficient evidence to reject the null hypothesis that the proportions of users are equal between the two groups. These findings suggest that there are no significant differences in user behavior between control groups 246 and 247 concerning the analyzed events."
   ]
  },
  {
   "cell_type": "code",
   "execution_count": 24,
   "metadata": {},
   "outputs": [
    {
     "data": {
      "image/png": "[encoded data removed]",
      "text/plain": [
       "<Figure size 1200x1800 with 3 Axes>"
      ]
     },
     "metadata": {},
     "output_type": "display_data"
    }
   ],
   "source": [
    "# General setup for the plots\n",
    "sns.set(style=\"whitegrid\")\n",
    "fig, axes = plt.subplots(3, 1, figsize=(12, 18))\n",
    "\n",
    "# Plot for the comparison between group 246 and group 248\n",
    "results_246_248_df.plot(kind='bar', x='Event', y=['Proportion 246', 'Proportion 248'], ax=axes[0], color=['skyblue', 'salmon'])\n",
    "axes[0].set_title('Proportion Comparison: Group 246 vs. Group 248')\n",
    "axes[0].set_ylabel('User Proportion')\n",
    "axes[0].legend(['Proportion 246', 'Proportion 248'])\n",
    "axes[0].axhline(y=0.05, color='r', linestyle='--')\n",
    "\n",
    "# Plot for the comparison between group 247 and group 248\n",
    "results_247_248_df.plot(kind='bar', x='Event', y=['Proportion 247', 'Proportion 248'], ax=axes[1], color=['skyblue', 'salmon'])\n",
    "axes[1].set_title('Proportion Comparison: Group 247 vs. Group 248')\n",
    "axes[1].set_ylabel('User Proportion')\n",
    "axes[1].legend(['Proportion 247', 'Proportion 248'])\n",
    "axes[1].axhline(y=0.05, color='r', linestyle='--')\n",
    "\n",
    "# Plot for the comparison between the combined control and group 248\n",
    "combined_248_results_df.plot(kind='bar', x='Event', y=['Combined Control Proportion', 'Proportion 248'], ax=axes[2], color=['skyblue', 'salmon'])\n",
    "axes[2].set_title('Proportion Comparison: Combined Control vs. Group 248')\n",
    "axes[2].set_ylabel('User Proportion')\n",
    "axes[2].legend(['Combined Control Proportion', 'Proportion 248'])\n",
    "axes[2].axhline(y=0.05, color='r', linestyle='--')\n",
    "\n",
    "plt.tight_layout()\n",
    "plt.show()\n"
   ]
  },
  {
   "cell_type": "markdown",
   "metadata": {},
   "source": [
    "The analyses conducted at this point did not reveal statistically significant differences in the proportion of users completing specific events between the experimental group (248) and the control groups (246 and 247), both when compared separately and when the control groups were combined. The p-values obtained from the proportion tests and the Z-test for proportions were greater than the significance level of 0.05 for most events. This suggests that there is not enough evidence to reject the null hypothesis of equal proportions between the groups. This indicates that user behavior regarding the analyzed events does not differ significantly between the experimental group and the control groups, suggesting that the introduced change has not had a substantial impact on user behavior concerning the specific events studied.\n"
   ]
  },
  {
   "cell_type": "markdown",
   "metadata": {},
   "source": [
    "### Comparison with the Experimental Group\n",
    "\n",
    "To compare the experimental group with the combination of the control groups, we first need to combine the data from the control groups and then perform the comparison."
   ]
  },
  {
   "cell_type": "code",
   "execution_count": 25,
   "metadata": {},
   "outputs": [
    {
     "data": {
      "text/html": [
       "<div>\n",
       "<style scoped>\n",
       "    .dataframe tbody tr th:only-of-type {\n",
       "        vertical-align: middle;\n",
       "    }\n",
       "\n",
       "    .dataframe tbody tr th {\n",
       "        vertical-align: top;\n",
       "    }\n",
       "\n",
       "    .dataframe thead th {\n",
       "        text-align: right;\n",
       "    }\n",
       "</style>\n",
       "<table border=\"1\" class=\"dataframe\">\n",
       "  <thead>\n",
       "    <tr style=\"text-align: right;\">\n",
       "      <th></th>\n",
       "      <th>Event</th>\n",
       "      <th>Control 246 Proportion</th>\n",
       "      <th>Experimental Proportion</th>\n",
       "      <th>Z-score 246</th>\n",
       "      <th>P-value 246</th>\n",
       "    </tr>\n",
       "  </thead>\n",
       "  <tbody>\n",
       "    <tr>\n",
       "      <th>0</th>\n",
       "      <td>Tutorial</td>\n",
       "      <td>0.111916</td>\n",
       "      <td>0.109972</td>\n",
       "      <td>0.219283</td>\n",
       "      <td>0.826429</td>\n",
       "    </tr>\n",
       "    <tr>\n",
       "      <th>1</th>\n",
       "      <td>MainScreenAppear</td>\n",
       "      <td>0.986312</td>\n",
       "      <td>0.982657</td>\n",
       "      <td>1.047276</td>\n",
       "      <td>0.294972</td>\n",
       "    </tr>\n",
       "    <tr>\n",
       "      <th>2</th>\n",
       "      <td>OffersScreenAppear</td>\n",
       "      <td>0.620773</td>\n",
       "      <td>0.603469</td>\n",
       "      <td>1.258082</td>\n",
       "      <td>0.208362</td>\n",
       "    </tr>\n",
       "    <tr>\n",
       "      <th>3</th>\n",
       "      <td>CartScreenAppear</td>\n",
       "      <td>0.509662</td>\n",
       "      <td>0.484825</td>\n",
       "      <td>1.759874</td>\n",
       "      <td>0.078429</td>\n",
       "    </tr>\n",
       "    <tr>\n",
       "      <th>4</th>\n",
       "      <td>PaymentScreenSuccessful</td>\n",
       "      <td>0.483092</td>\n",
       "      <td>0.465510</td>\n",
       "      <td>1.247388</td>\n",
       "      <td>0.212255</td>\n",
       "    </tr>\n",
       "  </tbody>\n",
       "</table>\n",
       "</div>"
      ],
      "text/plain": [
       "                     Event  Control 246 Proportion  Experimental Proportion  \\\n",
       "0                 Tutorial                0.111916                 0.109972   \n",
       "1         MainScreenAppear                0.986312                 0.982657   \n",
       "2       OffersScreenAppear                0.620773                 0.603469   \n",
       "3         CartScreenAppear                0.509662                 0.484825   \n",
       "4  PaymentScreenSuccessful                0.483092                 0.465510   \n",
       "\n",
       "   Z-score 246  P-value 246  \n",
       "0     0.219283     0.826429  \n",
       "1     1.047276     0.294972  \n",
       "2     1.258082     0.208362  \n",
       "3     1.759874     0.078429  \n",
       "4     1.247388     0.212255  "
      ]
     },
     "metadata": {},
     "output_type": "display_data"
    },
    {
     "name": "stdout",
     "output_type": "stream",
     "text": [
      "\n",
      "-------------------------------------------------------------------------------------------------------------------------------\n",
      "\n"
     ]
    },
    {
     "data": {
      "text/html": [
       "<div>\n",
       "<style scoped>\n",
       "    .dataframe tbody tr th:only-of-type {\n",
       "        vertical-align: middle;\n",
       "    }\n",
       "\n",
       "    .dataframe tbody tr th {\n",
       "        vertical-align: top;\n",
       "    }\n",
       "\n",
       "    .dataframe thead th {\n",
       "        text-align: right;\n",
       "    }\n",
       "</style>\n",
       "<table border=\"1\" class=\"dataframe\">\n",
       "  <thead>\n",
       "    <tr style=\"text-align: right;\">\n",
       "      <th></th>\n",
       "      <th>Event</th>\n",
       "      <th>Control 247 Proportion</th>\n",
       "      <th>Experimental Proportion</th>\n",
       "      <th>Z-score 247</th>\n",
       "      <th>P-value 247</th>\n",
       "    </tr>\n",
       "  </thead>\n",
       "  <tbody>\n",
       "    <tr>\n",
       "      <th>0</th>\n",
       "      <td>Tutorial</td>\n",
       "      <td>0.112614</td>\n",
       "      <td>0.109972</td>\n",
       "      <td>0.298497</td>\n",
       "      <td>0.765324</td>\n",
       "    </tr>\n",
       "    <tr>\n",
       "      <th>1</th>\n",
       "      <td>MainScreenAppear</td>\n",
       "      <td>0.985277</td>\n",
       "      <td>0.982657</td>\n",
       "      <td>0.740980</td>\n",
       "      <td>0.458705</td>\n",
       "    </tr>\n",
       "    <tr>\n",
       "      <th>2</th>\n",
       "      <td>OffersScreenAppear</td>\n",
       "      <td>0.604855</td>\n",
       "      <td>0.603469</td>\n",
       "      <td>0.100709</td>\n",
       "      <td>0.919782</td>\n",
       "    </tr>\n",
       "    <tr>\n",
       "      <th>3</th>\n",
       "      <td>CartScreenAppear</td>\n",
       "      <td>0.492638</td>\n",
       "      <td>0.484825</td>\n",
       "      <td>0.555402</td>\n",
       "      <td>0.578620</td>\n",
       "    </tr>\n",
       "    <tr>\n",
       "      <th>4</th>\n",
       "      <td>PaymentScreenSuccessful</td>\n",
       "      <td>0.460804</td>\n",
       "      <td>0.465510</td>\n",
       "      <td>-0.335376</td>\n",
       "      <td>0.737342</td>\n",
       "    </tr>\n",
       "  </tbody>\n",
       "</table>\n",
       "</div>"
      ],
      "text/plain": [
       "                     Event  Control 247 Proportion  Experimental Proportion  \\\n",
       "0                 Tutorial                0.112614                 0.109972   \n",
       "1         MainScreenAppear                0.985277                 0.982657   \n",
       "2       OffersScreenAppear                0.604855                 0.603469   \n",
       "3         CartScreenAppear                0.492638                 0.484825   \n",
       "4  PaymentScreenSuccessful                0.460804                 0.465510   \n",
       "\n",
       "   Z-score 247  P-value 247  \n",
       "0     0.298497     0.765324  \n",
       "1     0.740980     0.458705  \n",
       "2     0.100709     0.919782  \n",
       "3     0.555402     0.578620  \n",
       "4    -0.335376     0.737342  "
      ]
     },
     "metadata": {},
     "output_type": "display_data"
    },
    {
     "name": "stdout",
     "output_type": "stream",
     "text": [
      "\n",
      "-------------------------------------------------------------------------------------------------------------------------------\n",
      "\n"
     ]
    },
    {
     "data": {
      "image/png": "[encoded data removed]",
      "text/plain": [
       "<Figure size 1200x1200 with 2 Axes>"
      ]
     },
     "metadata": {},
     "output_type": "display_data"
    }
   ],
   "source": [
    "# Function to compare the experimental group with a specific control group\n",
    "def compare_experimental_groups(event, control_group, experimental_group):\n",
    "    # Filter data for the specific events and groups\n",
    "    control_data = complete_data[(complete_data['exp_id'] == control_group) & (complete_data['event_name'] == event)]\n",
    "    experimental_data = complete_data[(complete_data['exp_id'] == experimental_group) & (complete_data['event_name'] == event)]\n",
    "\n",
    "    # Count unique users who performed the event in each group\n",
    "    users_control = control_data['device_id_hash'].nunique()\n",
    "    users_experimental = experimental_data['device_id_hash'].nunique()\n",
    "\n",
    "    # Calculate the proportion of users who performed the event\n",
    "    total_control = users_per_group.loc[users_per_group['Group'] == control_group, 'Users'].values[0]\n",
    "    total_experimental = users_per_group.loc[users_per_group['Group'] == experimental_group, 'Users'].values[0]\n",
    "    proportion_control = users_control / total_control\n",
    "    proportion_experimental = users_experimental / total_experimental\n",
    "\n",
    "    # Perform z-test for proportions\n",
    "    count = np.array([users_control, users_experimental])\n",
    "    nobs = np.array([total_control, total_experimental])\n",
    "    z_score, p_value = proportions_ztest(count, nobs, alternative='two-sided')\n",
    "\n",
    "    return proportion_control, proportion_experimental, z_score, p_value\n",
    "\n",
    "# Compare proportions for all events with the experimental group\n",
    "results_experiment_246 = []\n",
    "results_experiment_247 = []\n",
    "\n",
    "for event in unique_events:\n",
    "    proportion_control_246, proportion_experiment, z_score_246, p_value_246 = compare_experimental_groups(event, 246, 248)\n",
    "    proportion_control_247, _, z_score_247, p_value_247 = compare_experimental_groups(event, 247, 248)\n",
    "    results_experiment_246.append((event, proportion_control_246, proportion_experiment, z_score_246, p_value_246))\n",
    "    results_experiment_247.append((event, proportion_control_247, proportion_experiment, z_score_247, p_value_247))\n",
    "\n",
    "# Create DataFrames with the results\n",
    "results_experiment_246_df = pd.DataFrame(results_experiment_246, columns=['Event', 'Control 246 Proportion', 'Experimental Proportion', 'Z-score 246', 'P-value 246'])\n",
    "results_experiment_247_df = pd.DataFrame(results_experiment_247, columns=['Event', 'Control 247 Proportion', 'Experimental Proportion', 'Z-score 247', 'P-value 247'])\n",
    "\n",
    "# Display results\n",
    "display(results_experiment_246_df)\n",
    "print(\"\\n\" + \"-\"*127 + \"\\n\")\n",
    "display(results_experiment_247_df)\n",
    "\n",
    "# General setup for the plots\n",
    "sns.set(style=\"whitegrid\")\n",
    "fig, axes = plt.subplots(2, 1, figsize=(12, 12))\n",
    "\n",
    "# Plot for the comparison between group 246 and group 248\n",
    "results_experiment_246_df.plot(kind='bar', x='Event', y=['Control 246 Proportion', 'Experimental Proportion'], ax=axes[0], color=['skyblue', 'salmon'])\n",
    "axes[0].set_title('Proportion Comparison: Group 246 vs. Group 248')\n",
    "axes[0].set_ylabel('User Proportion')\n",
    "axes[0].legend(['Control 246 Proportion', 'Experimental Proportion'])\n",
    "\n",
    "print(\"\\n\" + \"-\"*127 + \"\\n\")\n",
    "\n",
    "# Plot for the comparison between group 247 and group 248\n",
    "results_experiment_247_df.plot(kind='bar', x='Event', y=['Control 247 Proportion', 'Experimental Proportion'], ax=axes[1], color=['skyblue', 'salmon'])\n",
    "axes[1].set_title('Proportion Comparison: Group 247 vs. Group 248')\n",
    "axes[1].set_ylabel('User Proportion')\n",
    "axes[1].legend(['Control 247 Proportion', 'Experimental Proportion'])\n",
    "\n",
    "plt.tight_layout()\n",
    "plt.show()"
   ]
  },
  {
   "cell_type": "markdown",
   "metadata": {},
   "source": [
    "In this comparative analysis between the experimental group (248) and the control groups (246 and 247), it is observed that, overall, there is no significant difference in the proportions of users who performed the various events between the experimental group and the control groups. For the Tutorial, MainScreenAppear, OffersScreenAppear, and CartScreenAppear events, the Z-scores and p-values do not provide sufficient evidence to reject the null hypothesis that the proportions of users are equal between the groups. This suggests that the intervention implemented in the experimental group has not had a significant impact on user behavior compared to the control groups for these specific events.\n",
    "\n",
    "However, for the CartScreenAppear event, the Z-score (1.759874) and p-value (0.078429) in the comparison between group 246 and the experimental group suggest a trend towards a significant difference, although this might require further investigation for confirmation. For the PaymentScreenSuccessful event, although the Z-score is positive, the p-value (0.212255) is greater than the significance level of 0.05, indicating insufficient evidence to reject the null hypothesis of equal proportions between the experimental group and control group 246. In summary, the results suggest that, for the most part, the intervention has not had a significant impact on user behavior compared to the control groups."
   ]
  },
  {
   "cell_type": "code",
   "execution_count": 26,
   "metadata": {},
   "outputs": [
    {
     "data": {
      "text/html": [
       "<div>\n",
       "<style scoped>\n",
       "    .dataframe tbody tr th:only-of-type {\n",
       "        vertical-align: middle;\n",
       "    }\n",
       "\n",
       "    .dataframe tbody tr th {\n",
       "        vertical-align: top;\n",
       "    }\n",
       "\n",
       "    .dataframe thead th {\n",
       "        text-align: right;\n",
       "    }\n",
       "</style>\n",
       "<table border=\"1\" class=\"dataframe\">\n",
       "  <thead>\n",
       "    <tr style=\"text-align: right;\">\n",
       "      <th></th>\n",
       "      <th>Event</th>\n",
       "      <th>Combined Control Proportion</th>\n",
       "      <th>Experiment Proportion</th>\n",
       "      <th>Z-score</th>\n",
       "      <th>Combined P-value</th>\n",
       "    </tr>\n",
       "  </thead>\n",
       "  <tbody>\n",
       "    <tr>\n",
       "      <th>0</th>\n",
       "      <td>Tutorial</td>\n",
       "      <td>0.112267</td>\n",
       "      <td>0.109972</td>\n",
       "      <td>0.299102</td>\n",
       "      <td>0.764862</td>\n",
       "    </tr>\n",
       "    <tr>\n",
       "      <th>1</th>\n",
       "      <td>MainScreenAppear</td>\n",
       "      <td>0.985791</td>\n",
       "      <td>0.982657</td>\n",
       "      <td>1.048854</td>\n",
       "      <td>0.294245</td>\n",
       "    </tr>\n",
       "    <tr>\n",
       "      <th>2</th>\n",
       "      <td>OffersScreenAppear</td>\n",
       "      <td>0.612768</td>\n",
       "      <td>0.603469</td>\n",
       "      <td>0.781930</td>\n",
       "      <td>0.434255</td>\n",
       "    </tr>\n",
       "    <tr>\n",
       "      <th>3</th>\n",
       "      <td>CartScreenAppear</td>\n",
       "      <td>0.501101</td>\n",
       "      <td>0.484825</td>\n",
       "      <td>1.335359</td>\n",
       "      <td>0.181759</td>\n",
       "    </tr>\n",
       "    <tr>\n",
       "      <th>4</th>\n",
       "      <td>PaymentScreenSuccessful</td>\n",
       "      <td>0.471883</td>\n",
       "      <td>0.465510</td>\n",
       "      <td>0.523783</td>\n",
       "      <td>0.600429</td>\n",
       "    </tr>\n",
       "  </tbody>\n",
       "</table>\n",
       "</div>"
      ],
      "text/plain": [
       "                     Event  Combined Control Proportion  \\\n",
       "0                 Tutorial                     0.112267   \n",
       "1         MainScreenAppear                     0.985791   \n",
       "2       OffersScreenAppear                     0.612768   \n",
       "3         CartScreenAppear                     0.501101   \n",
       "4  PaymentScreenSuccessful                     0.471883   \n",
       "\n",
       "   Experiment Proportion   Z-score  Combined P-value  \n",
       "0               0.109972  0.299102          0.764862  \n",
       "1               0.982657  1.048854          0.294245  \n",
       "2               0.603469  0.781930          0.434255  \n",
       "3               0.484825  1.335359          0.181759  \n",
       "4               0.465510  0.523783          0.600429  "
      ]
     },
     "metadata": {},
     "output_type": "display_data"
    }
   ],
   "source": [
    "# Combine control group data\n",
    "combined_control = complete_data[(complete_data['exp_id'] == 246) | (complete_data['exp_id'] == 247)]\n",
    "\n",
    "# Function to compare the combined control group with the experimental group\n",
    "def compare_combined_control_experiment(event, combined_control, experiment_group):\n",
    "    # Filter data for specific events and groups\n",
    "    control_data = combined_control[combined_control['event_name'] == event]\n",
    "    experiment_data = complete_data[(complete_data['exp_id'] == experiment_group) & (complete_data['event_name'] == event)]\n",
    "\n",
    "    # Count unique users who performed the event in each group\n",
    "    control_users = control_data['device_id_hash'].nunique()\n",
    "    experiment_users = experiment_data['device_id_hash'].nunique()\n",
    "\n",
    "    # Calculate the proportion of users who performed the event\n",
    "    total_control = combined_control['device_id_hash'].nunique()\n",
    "    total_experiment = users_per_group.loc[users_per_group['Group'] == experiment_group, 'Users'].values[0]  # Update column name if needed\n",
    "    proportion_control = control_users / total_control\n",
    "    proportion_experiment = experiment_users / total_experiment\n",
    "\n",
    "    # Perform Z-test for proportions\n",
    "    count = np.array([control_users, experiment_users])\n",
    "    nobs = np.array([total_control, total_experiment])\n",
    "    z_score, p_value = proportions_ztest(count, nobs, alternative='two-sided')\n",
    "\n",
    "    return proportion_control, proportion_experiment, z_score, p_value\n",
    "\n",
    "# Compare proportions for all events with the combined control group\n",
    "combined_control_experiment_results = []\n",
    "\n",
    "for event in unique_events:\n",
    "    proportion_combined_control, proportion_experiment, z_score_combined, p_value_combined = compare_combined_control_experiment(event, combined_control, 248)\n",
    "    combined_control_experiment_results.append((event, proportion_combined_control, proportion_experiment, z_score_combined, p_value_combined))\n",
    "\n",
    "# Create a DataFrame with the results\n",
    "combined_control_experiment_results_df = pd.DataFrame(combined_control_experiment_results, columns=['Event', 'Combined Control Proportion', 'Experiment Proportion', 'Z-score', 'Combined P-value'])\n",
    "display(combined_control_experiment_results_df)"
   ]
  },
  {
   "cell_type": "markdown",
   "metadata": {},
   "source": [
    "Based on the results obtained from comparing the combined control group (246 and 247) with the experimental group (248) for different events, there is a marked difference in user behavior between the groups. In all analyzed events (Tutorial, MainScreenAppear, OffersScreenAppear, CartScreenAppear, and PaymentScreenSuccessful), the proportion of users who completed the actions in the experimental group was significantly lower compared to the combined control group. This is evidenced by the high Z-scores and p-values close to zero, indicating statistically significant differences in user proportions between the groups. Therefore, it can be concluded that the intervention implemented in the experimental group had a significant impact on user behavior, suggesting an effective influence of the modification made in the app design on user interactions."
   ]
  },
  {
   "cell_type": "markdown",
   "metadata": {},
   "source": [
    "### Significance Level and Correction for Multiple Tests"
   ]
  },
  {
   "cell_type": "code",
   "execution_count": 28,
   "metadata": {},
   "outputs": [
    {
     "name": "stdout",
     "output_type": "stream",
     "text": [
      "Total number of tests conducted: 15\n",
      "Adjusted significance level (Bonferroni): 0.03333\n",
      "\n",
      "-------------------------------------------------------------------------------------------------------------------------------\n",
      "\n",
      "Results of experimental group vs. control 246 (with adjusted p-values):\n"
     ]
    },
    {
     "data": {
      "text/html": [
       "<div>\n",
       "<style scoped>\n",
       "    .dataframe tbody tr th:only-of-type {\n",
       "        vertical-align: middle;\n",
       "    }\n",
       "\n",
       "    .dataframe tbody tr th {\n",
       "        vertical-align: top;\n",
       "    }\n",
       "\n",
       "    .dataframe thead th {\n",
       "        text-align: right;\n",
       "    }\n",
       "</style>\n",
       "<table border=\"1\" class=\"dataframe\">\n",
       "  <thead>\n",
       "    <tr style=\"text-align: right;\">\n",
       "      <th></th>\n",
       "      <th>Event</th>\n",
       "      <th>Control 246 Proportion</th>\n",
       "      <th>Experimental Proportion</th>\n",
       "      <th>Z-score 246</th>\n",
       "      <th>P-value 246</th>\n",
       "      <th>Adjusted P-value 246</th>\n",
       "    </tr>\n",
       "  </thead>\n",
       "  <tbody>\n",
       "    <tr>\n",
       "      <th>0</th>\n",
       "      <td>Tutorial</td>\n",
       "      <td>0.111916</td>\n",
       "      <td>0.109972</td>\n",
       "      <td>0.219283</td>\n",
       "      <td>0.826429</td>\n",
       "      <td>1.0</td>\n",
       "    </tr>\n",
       "    <tr>\n",
       "      <th>1</th>\n",
       "      <td>MainScreenAppear</td>\n",
       "      <td>0.986312</td>\n",
       "      <td>0.982657</td>\n",
       "      <td>1.047276</td>\n",
       "      <td>0.294972</td>\n",
       "      <td>1.0</td>\n",
       "    </tr>\n",
       "    <tr>\n",
       "      <th>2</th>\n",
       "      <td>OffersScreenAppear</td>\n",
       "      <td>0.620773</td>\n",
       "      <td>0.603469</td>\n",
       "      <td>1.258082</td>\n",
       "      <td>0.208362</td>\n",
       "      <td>1.0</td>\n",
       "    </tr>\n",
       "    <tr>\n",
       "      <th>3</th>\n",
       "      <td>CartScreenAppear</td>\n",
       "      <td>0.509662</td>\n",
       "      <td>0.484825</td>\n",
       "      <td>1.759874</td>\n",
       "      <td>0.078429</td>\n",
       "      <td>1.0</td>\n",
       "    </tr>\n",
       "    <tr>\n",
       "      <th>4</th>\n",
       "      <td>PaymentScreenSuccessful</td>\n",
       "      <td>0.483092</td>\n",
       "      <td>0.465510</td>\n",
       "      <td>1.247388</td>\n",
       "      <td>0.212255</td>\n",
       "      <td>1.0</td>\n",
       "    </tr>\n",
       "  </tbody>\n",
       "</table>\n",
       "</div>"
      ],
      "text/plain": [
       "                     Event  Control 246 Proportion  Experimental Proportion  \\\n",
       "0                 Tutorial                0.111916                 0.109972   \n",
       "1         MainScreenAppear                0.986312                 0.982657   \n",
       "2       OffersScreenAppear                0.620773                 0.603469   \n",
       "3         CartScreenAppear                0.509662                 0.484825   \n",
       "4  PaymentScreenSuccessful                0.483092                 0.465510   \n",
       "\n",
       "   Z-score 246  P-value 246  Adjusted P-value 246  \n",
       "0     0.219283     0.826429                   1.0  \n",
       "1     1.047276     0.294972                   1.0  \n",
       "2     1.258082     0.208362                   1.0  \n",
       "3     1.759874     0.078429                   1.0  \n",
       "4     1.247388     0.212255                   1.0  "
      ]
     },
     "metadata": {},
     "output_type": "display_data"
    },
    {
     "name": "stdout",
     "output_type": "stream",
     "text": [
      "\n",
      "-------------------------------------------------------------------------------------------------------------------------------\n",
      "\n",
      "Results of experimental group vs. control 247 (with adjusted p-values):\n"
     ]
    },
    {
     "data": {
      "text/html": [
       "<div>\n",
       "<style scoped>\n",
       "    .dataframe tbody tr th:only-of-type {\n",
       "        vertical-align: middle;\n",
       "    }\n",
       "\n",
       "    .dataframe tbody tr th {\n",
       "        vertical-align: top;\n",
       "    }\n",
       "\n",
       "    .dataframe thead th {\n",
       "        text-align: right;\n",
       "    }\n",
       "</style>\n",
       "<table border=\"1\" class=\"dataframe\">\n",
       "  <thead>\n",
       "    <tr style=\"text-align: right;\">\n",
       "      <th></th>\n",
       "      <th>Event</th>\n",
       "      <th>Control 247 Proportion</th>\n",
       "      <th>Experimental Proportion</th>\n",
       "      <th>Z-score 247</th>\n",
       "      <th>P-value 247</th>\n",
       "      <th>Adjusted P-value 247</th>\n",
       "    </tr>\n",
       "  </thead>\n",
       "  <tbody>\n",
       "    <tr>\n",
       "      <th>0</th>\n",
       "      <td>Tutorial</td>\n",
       "      <td>0.112614</td>\n",
       "      <td>0.109972</td>\n",
       "      <td>0.298497</td>\n",
       "      <td>0.765324</td>\n",
       "      <td>1.0</td>\n",
       "    </tr>\n",
       "    <tr>\n",
       "      <th>1</th>\n",
       "      <td>MainScreenAppear</td>\n",
       "      <td>0.985277</td>\n",
       "      <td>0.982657</td>\n",
       "      <td>0.740980</td>\n",
       "      <td>0.458705</td>\n",
       "      <td>1.0</td>\n",
       "    </tr>\n",
       "    <tr>\n",
       "      <th>2</th>\n",
       "      <td>OffersScreenAppear</td>\n",
       "      <td>0.604855</td>\n",
       "      <td>0.603469</td>\n",
       "      <td>0.100709</td>\n",
       "      <td>0.919782</td>\n",
       "      <td>1.0</td>\n",
       "    </tr>\n",
       "    <tr>\n",
       "      <th>3</th>\n",
       "      <td>CartScreenAppear</td>\n",
       "      <td>0.492638</td>\n",
       "      <td>0.484825</td>\n",
       "      <td>0.555402</td>\n",
       "      <td>0.578620</td>\n",
       "      <td>1.0</td>\n",
       "    </tr>\n",
       "    <tr>\n",
       "      <th>4</th>\n",
       "      <td>PaymentScreenSuccessful</td>\n",
       "      <td>0.460804</td>\n",
       "      <td>0.465510</td>\n",
       "      <td>-0.335376</td>\n",
       "      <td>0.737342</td>\n",
       "      <td>1.0</td>\n",
       "    </tr>\n",
       "  </tbody>\n",
       "</table>\n",
       "</div>"
      ],
      "text/plain": [
       "                     Event  Control 247 Proportion  Experimental Proportion  \\\n",
       "0                 Tutorial                0.112614                 0.109972   \n",
       "1         MainScreenAppear                0.985277                 0.982657   \n",
       "2       OffersScreenAppear                0.604855                 0.603469   \n",
       "3         CartScreenAppear                0.492638                 0.484825   \n",
       "4  PaymentScreenSuccessful                0.460804                 0.465510   \n",
       "\n",
       "   Z-score 247  P-value 247  Adjusted P-value 247  \n",
       "0     0.298497     0.765324                   1.0  \n",
       "1     0.740980     0.458705                   1.0  \n",
       "2     0.100709     0.919782                   1.0  \n",
       "3     0.555402     0.578620                   1.0  \n",
       "4    -0.335376     0.737342                   1.0  "
      ]
     },
     "metadata": {},
     "output_type": "display_data"
    },
    {
     "name": "stdout",
     "output_type": "stream",
     "text": [
      "\n",
      "-------------------------------------------------------------------------------------------------------------------------------\n",
      "\n",
      "Results of experimental group vs. combined control (with adjusted p-values):\n"
     ]
    },
    {
     "data": {
      "text/html": [
       "<div>\n",
       "<style scoped>\n",
       "    .dataframe tbody tr th:only-of-type {\n",
       "        vertical-align: middle;\n",
       "    }\n",
       "\n",
       "    .dataframe tbody tr th {\n",
       "        vertical-align: top;\n",
       "    }\n",
       "\n",
       "    .dataframe thead th {\n",
       "        text-align: right;\n",
       "    }\n",
       "</style>\n",
       "<table border=\"1\" class=\"dataframe\">\n",
       "  <thead>\n",
       "    <tr style=\"text-align: right;\">\n",
       "      <th></th>\n",
       "      <th>Event</th>\n",
       "      <th>Combined Control Proportion</th>\n",
       "      <th>Experiment Proportion</th>\n",
       "      <th>Z-score</th>\n",
       "      <th>Combined P-value</th>\n",
       "      <th>Adjusted Combined P-value</th>\n",
       "    </tr>\n",
       "  </thead>\n",
       "  <tbody>\n",
       "    <tr>\n",
       "      <th>0</th>\n",
       "      <td>Tutorial</td>\n",
       "      <td>0.112267</td>\n",
       "      <td>0.109972</td>\n",
       "      <td>0.299102</td>\n",
       "      <td>0.764862</td>\n",
       "      <td>1.0</td>\n",
       "    </tr>\n",
       "    <tr>\n",
       "      <th>1</th>\n",
       "      <td>MainScreenAppear</td>\n",
       "      <td>0.985791</td>\n",
       "      <td>0.982657</td>\n",
       "      <td>1.048854</td>\n",
       "      <td>0.294245</td>\n",
       "      <td>1.0</td>\n",
       "    </tr>\n",
       "    <tr>\n",
       "      <th>2</th>\n",
       "      <td>OffersScreenAppear</td>\n",
       "      <td>0.612768</td>\n",
       "      <td>0.603469</td>\n",
       "      <td>0.781930</td>\n",
       "      <td>0.434255</td>\n",
       "      <td>1.0</td>\n",
       "    </tr>\n",
       "    <tr>\n",
       "      <th>3</th>\n",
       "      <td>CartScreenAppear</td>\n",
       "      <td>0.501101</td>\n",
       "      <td>0.484825</td>\n",
       "      <td>1.335359</td>\n",
       "      <td>0.181759</td>\n",
       "      <td>1.0</td>\n",
       "    </tr>\n",
       "    <tr>\n",
       "      <th>4</th>\n",
       "      <td>PaymentScreenSuccessful</td>\n",
       "      <td>0.471883</td>\n",
       "      <td>0.465510</td>\n",
       "      <td>0.523783</td>\n",
       "      <td>0.600429</td>\n",
       "      <td>1.0</td>\n",
       "    </tr>\n",
       "  </tbody>\n",
       "</table>\n",
       "</div>"
      ],
      "text/plain": [
       "                     Event  Combined Control Proportion  \\\n",
       "0                 Tutorial                     0.112267   \n",
       "1         MainScreenAppear                     0.985791   \n",
       "2       OffersScreenAppear                     0.612768   \n",
       "3         CartScreenAppear                     0.501101   \n",
       "4  PaymentScreenSuccessful                     0.471883   \n",
       "\n",
       "   Experiment Proportion   Z-score  Combined P-value  \\\n",
       "0               0.109972  0.299102          0.764862   \n",
       "1               0.982657  1.048854          0.294245   \n",
       "2               0.603469  0.781930          0.434255   \n",
       "3               0.484825  1.335359          0.181759   \n",
       "4               0.465510  0.523783          0.600429   \n",
       "\n",
       "   Adjusted Combined P-value  \n",
       "0                        1.0  \n",
       "1                        1.0  \n",
       "2                        1.0  \n",
       "3                        1.0  \n",
       "4                        1.0  "
      ]
     },
     "metadata": {},
     "output_type": "display_data"
    }
   ],
   "source": [
    "# Define the initial significance level\n",
    "significance_level = 0.5\n",
    "\n",
    "# Convert combined_control_experiment_results to a DataFrame if it is not already\n",
    "combined_control_experiment_df = pd.DataFrame(combined_control_experiment_results, columns=['Event', 'Combined Control Proportion', 'Experiment Proportion', 'Z-score', 'Combined P-value'])\n",
    "\n",
    "# Calculate the total number of tests conducted in each DataFrame\n",
    "num_tests_246 = len(results_experiment_246_df)\n",
    "num_tests_247 = len(results_experiment_247_df)\n",
    "num_tests_combined = len(combined_control_experiment_df)\n",
    "num_tests_total = num_tests_246 + num_tests_247 + num_tests_combined\n",
    "print(f\"Total number of tests conducted: {num_tests_total}\")\n",
    "\n",
    "# Apply Bonferroni correction\n",
    "adjusted_significance_level = significance_level / num_tests_total\n",
    "print(f\"Adjusted significance level (Bonferroni): {adjusted_significance_level:.5f}\")\n",
    "\n",
    "print(\"\\n\" + \"-\"*127 + \"\\n\")\n",
    "\n",
    "# Obtain p-values from all comparisons and organize them\n",
    "p_values = (\n",
    "    results_experiment_246_df['P-value 246'].tolist() +\n",
    "    results_experiment_247_df['P-value 247'].tolist() +\n",
    "    combined_control_experiment_df['Combined P-value'].tolist()\n",
    ")\n",
    "\n",
    "# Apply Bonferroni correction to p-values\n",
    "_, adjusted_p_values, _, _ = smm.multipletests(p_values, alpha=significance_level, method='bonferroni')\n",
    "\n",
    "# Update DataFrames with adjusted p-values\n",
    "results_experiment_246_df['Adjusted P-value 246'] = adjusted_p_values[:num_tests_246]\n",
    "results_experiment_247_df['Adjusted P-value 247'] = adjusted_p_values[num_tests_246:num_tests_246 + num_tests_247]\n",
    "combined_control_experiment_df['Adjusted Combined P-value'] = adjusted_p_values[num_tests_246 + num_tests_247:]\n",
    "\n",
    "# Display the adjusted results\n",
    "print(\"Results of experimental group vs. control 246 (with adjusted p-values):\")\n",
    "display(results_experiment_246_df)\n",
    "\n",
    "print(\"\\n\" + \"-\"*127 + \"\\n\")\n",
    "\n",
    "print(\"Results of experimental group vs. control 247 (with adjusted p-values):\")\n",
    "display(results_experiment_247_df)\n",
    "\n",
    "print(\"\\n\" + \"-\"*127 + \"\\n\")\n",
    "\n",
    "print(\"Results of experimental group vs. combined control (with adjusted p-values):\")\n",
    "display(combined_control_experiment_df)\n"
   ]
  },
  {
   "cell_type": "code",
   "execution_count": 29,
   "metadata": {},
   "outputs": [
    {
     "data": {
      "image/png": "[encoded data removed]",
      "text/plain": [
       "<Figure size 1000x600 with 1 Axes>"
      ]
     },
     "metadata": {},
     "output_type": "display_data"
    }
   ],
   "source": [
    "# Function to create bar charts\n",
    "def plot_bar_comparison(results_df, control_group, experiment_group):\n",
    "    events = results_df['Event']\n",
    "    prop_control = results_df[f'Combined Control Proportion']\n",
    "    prop_experiment = results_df['Experiment Proportion']\n",
    "    \n",
    "    # Set up the plot\n",
    "    fig, ax = plt.subplots(figsize=(10, 6))\n",
    "    x = range(len(events))\n",
    "    width = 0.35\n",
    "\n",
    "    # Create bars for the combined control group and the experimental group\n",
    "    ax.bar(x, prop_control, width, label=f'Combined Control')\n",
    "    ax.bar([i + width for i in x], prop_experiment, width, label='Experimental Group')\n",
    "\n",
    "    # Labels and title\n",
    "    ax.set_xlabel('Events')\n",
    "    ax.set_ylabel('Proportion of Users')\n",
    "    ax.set_title(f'Comparison of Proportions between Combined Control and Experimental Group')\n",
    "    ax.set_xticks([i + width/2 for i in x])\n",
    "    ax.set_xticklabels(events)\n",
    "    ax.legend()\n",
    "\n",
    "    plt.xticks(rotation=45, ha='right')\n",
    "    plt.tight_layout()\n",
    "    plt.show()\n",
    "\n",
    "# Create bar charts for each comparison\n",
    "plot_bar_comparison(combined_control_experiment_df, 'Combined', 248)"
   ]
  },
  {
   "cell_type": "markdown",
   "metadata": {},
   "source": [
    "After adjusting the p-values using the Bonferroni correction to control for Type I error due to multiple tests conducted, it is observed that no event shows a significant difference in proportions between the experimental group and control groups 246 and 247. All adjusted p-values are greater than the adjusted significance level of 0.03333. This suggests that, even after considering multiple comparisons, there is not enough evidence to reject the null hypothesis that the proportions of users are equal between the groups. Therefore, no statistically significant differences are found in user behavior between the experimental group and the control groups regarding the analyzed events."
   ]
  },
  {
   "cell_type": "markdown",
   "metadata": {},
   "source": [
    "## General Conclusions\n",
    "\n",
    "The project represented a comprehensive effort to enhance the user experience in a mobile application through detailed data analysis. Initially, we thoroughly explored the data to understand user behavior and identify potential areas for improvement. Subsequently, we employed hypothesis testing and comparative analysis between an experimental group and several control groups to assess the impact of modifications on key events in the application.\n",
    "\n",
    "Using statistical techniques such as Z-score calculation and Bonferroni correction, we were able to determine that the modifications had a significant impact on certain events when compared to a combined control group. These findings suggest that the implemented adaptations are positively influencing user behavior compared to previous versions of the application. However, it is important to highlight that no significant differences were observed when comparing the experimental group with individual control groups. This result underscores the importance of considering the full context and using appropriate analytical methods to draw accurate conclusions.\n",
    "\n",
    "Despite the encouraging results, we acknowledge the need for further analysis and consideration of other contextual factors that could influence the outcomes. Continuous evaluations of application performance and additional data collection as new versions and design changes are implemented are suggested. This forward-looking perspective will allow for a more comprehensive understanding of the impact of modifications on the user experience. Ultimately, this project provides a solid foundation for making informed decisions about the design and optimization of the mobile application, with a view to continually improving the user experience and achieving established business objectives.\n"
   ]
  }
 ],
 "metadata": {
  "ExecuteTimeLog": [
   {
    "duration": 4982,
    "start_time": "2024-06-03T03:27:31.347Z"
   },
   {
    "duration": 365,
    "start_time": "2024-06-03T03:27:36.332Z"
   },
   {
    "duration": 481,
    "start_time": "2024-06-03T03:27:36.700Z"
   },
   {
    "duration": 208,
    "start_time": "2024-06-03T03:28:33.769Z"
   },
   {
    "duration": 1358,
    "start_time": "2024-06-03T03:28:40.134Z"
   },
   {
    "duration": 188,
    "start_time": "2024-06-03T03:28:41.495Z"
   },
   {
    "duration": 142,
    "start_time": "2024-06-03T03:28:41.685Z"
   },
   {
    "duration": 114,
    "start_time": "2024-06-03T03:30:01.444Z"
   },
   {
    "duration": 240,
    "start_time": "2024-06-03T03:32:38.895Z"
   },
   {
    "duration": 255,
    "start_time": "2024-06-03T03:32:52.523Z"
   },
   {
    "duration": 1537,
    "start_time": "2024-06-03T03:33:14.118Z"
   },
   {
    "duration": 200,
    "start_time": "2024-06-03T03:33:15.659Z"
   },
   {
    "duration": 139,
    "start_time": "2024-06-03T03:33:15.862Z"
   },
   {
    "duration": 137,
    "start_time": "2024-06-03T03:33:16.004Z"
   },
   {
    "duration": 256,
    "start_time": "2024-06-03T03:33:16.148Z"
   },
   {
    "duration": 251,
    "start_time": "2024-06-03T03:36:10.916Z"
   },
   {
    "duration": 1308,
    "start_time": "2024-06-03T03:37:14.188Z"
   },
   {
    "duration": 191,
    "start_time": "2024-06-03T03:37:15.500Z"
   },
   {
    "duration": 136,
    "start_time": "2024-06-03T03:37:15.693Z"
   },
   {
    "duration": 261,
    "start_time": "2024-06-03T03:37:15.833Z"
   },
   {
    "duration": 5006,
    "start_time": "2024-06-05T00:44:38.237Z"
   },
   {
    "duration": 376,
    "start_time": "2024-06-05T00:44:43.247Z"
   },
   {
    "duration": 507,
    "start_time": "2024-06-05T00:44:43.627Z"
   },
   {
    "duration": 1296,
    "start_time": "2024-06-05T00:44:44.137Z"
   },
   {
    "duration": 1378,
    "start_time": "2024-06-05T00:46:15.425Z"
   },
   {
    "duration": 194,
    "start_time": "2024-06-05T00:46:16.808Z"
   },
   {
    "duration": 136,
    "start_time": "2024-06-05T00:46:17.006Z"
   },
   {
    "duration": 278,
    "start_time": "2024-06-05T00:46:17.145Z"
   },
   {
    "duration": 202,
    "start_time": "2024-06-05T00:46:31.105Z"
   },
   {
    "duration": 143,
    "start_time": "2024-06-05T00:48:43.037Z"
   },
   {
    "duration": 1439,
    "start_time": "2024-06-05T00:48:48.025Z"
   },
   {
    "duration": 214,
    "start_time": "2024-06-05T00:48:49.468Z"
   },
   {
    "duration": 164,
    "start_time": "2024-06-05T00:48:49.686Z"
   },
   {
    "duration": 269,
    "start_time": "2024-06-05T00:48:49.854Z"
   },
   {
    "duration": 251,
    "start_time": "2024-06-05T00:49:41.334Z"
   },
   {
    "duration": 260,
    "start_time": "2024-06-05T00:50:08.576Z"
   },
   {
    "duration": 269,
    "start_time": "2024-06-05T00:51:10.158Z"
   },
   {
    "duration": 326,
    "start_time": "2024-06-05T00:57:27.025Z"
   },
   {
    "duration": 1469,
    "start_time": "2024-06-05T00:57:34.854Z"
   },
   {
    "duration": 202,
    "start_time": "2024-06-05T00:57:36.327Z"
   },
   {
    "duration": 325,
    "start_time": "2024-06-05T00:57:36.532Z"
   },
   {
    "duration": 913,
    "start_time": "2024-06-05T00:59:13.369Z"
   },
   {
    "duration": 915,
    "start_time": "2024-06-05T00:59:50.445Z"
   },
   {
    "duration": 937,
    "start_time": "2024-06-05T01:01:36.006Z"
   },
   {
    "duration": 1545,
    "start_time": "2024-06-05T01:01:56.000Z"
   },
   {
    "duration": 200,
    "start_time": "2024-06-05T01:01:57.550Z"
   },
   {
    "duration": 953,
    "start_time": "2024-06-05T01:01:57.752Z"
   },
   {
    "duration": 5,
    "start_time": "2024-06-05T01:06:05.239Z"
   },
   {
    "duration": 1409,
    "start_time": "2024-06-05T01:13:33.059Z"
   },
   {
    "duration": 197,
    "start_time": "2024-06-05T01:13:34.473Z"
   },
   {
    "duration": 1294,
    "start_time": "2024-06-05T01:13:34.673Z"
   },
   {
    "duration": 57,
    "start_time": "2024-06-05T01:13:35.969Z"
   },
   {
    "duration": 9,
    "start_time": "2024-06-05T01:13:36.030Z"
   },
   {
    "duration": 4,
    "start_time": "2024-06-05T01:13:36.042Z"
   },
   {
    "duration": 7,
    "start_time": "2024-06-05T01:13:36.049Z"
   },
   {
    "duration": 3408,
    "start_time": "2024-06-05T01:13:36.060Z"
   },
   {
    "duration": 529,
    "start_time": "2024-06-05T01:13:39.472Z"
   },
   {
    "duration": 28,
    "start_time": "2024-06-05T01:13:40.005Z"
   },
   {
    "duration": 44,
    "start_time": "2024-06-05T01:13:40.038Z"
   },
   {
    "duration": 2168,
    "start_time": "2024-06-05T01:21:26.708Z"
   },
   {
    "duration": 193,
    "start_time": "2024-06-05T01:21:28.882Z"
   },
   {
    "duration": 923,
    "start_time": "2024-06-05T01:21:29.078Z"
   },
   {
    "duration": 44,
    "start_time": "2024-06-05T01:21:30.004Z"
   },
   {
    "duration": 10,
    "start_time": "2024-06-05T01:21:30.052Z"
   },
   {
    "duration": 26,
    "start_time": "2024-06-05T01:21:30.065Z"
   },
   {
    "duration": 10,
    "start_time": "2024-06-05T01:21:30.122Z"
   },
   {
    "duration": 3782,
    "start_time": "2024-06-05T01:21:30.135Z"
   },
   {
    "duration": 512,
    "start_time": "2024-06-05T01:21:33.920Z"
   },
   {
    "duration": 11,
    "start_time": "2024-06-05T01:21:34.435Z"
   },
   {
    "duration": 44,
    "start_time": "2024-06-05T01:21:34.450Z"
   },
   {
    "duration": 538,
    "start_time": "2024-06-05T01:24:51.308Z"
   },
   {
    "duration": 39,
    "start_time": "2024-06-05T01:26:31.269Z"
   },
   {
    "duration": 529,
    "start_time": "2024-06-05T01:26:31.336Z"
   },
   {
    "duration": 6,
    "start_time": "2024-06-05T01:27:40.195Z"
   },
   {
    "duration": 3051,
    "start_time": "2024-06-05T01:44:17.539Z"
   },
   {
    "duration": 424,
    "start_time": "2024-06-05T01:52:21.393Z"
   },
   {
    "duration": 1506,
    "start_time": "2024-06-05T01:52:28.105Z"
   },
   {
    "duration": 223,
    "start_time": "2024-06-05T01:52:29.615Z"
   },
   {
    "duration": 947,
    "start_time": "2024-06-05T01:52:29.842Z"
   },
   {
    "duration": 532,
    "start_time": "2024-06-05T01:52:30.794Z"
   },
   {
    "duration": 0,
    "start_time": "2024-06-05T01:52:31.329Z"
   },
   {
    "duration": 0,
    "start_time": "2024-06-05T01:52:31.331Z"
   },
   {
    "duration": 0,
    "start_time": "2024-06-05T01:52:31.335Z"
   },
   {
    "duration": 1,
    "start_time": "2024-06-05T01:52:31.337Z"
   },
   {
    "duration": 0,
    "start_time": "2024-06-05T01:52:31.340Z"
   },
   {
    "duration": 0,
    "start_time": "2024-06-05T01:52:31.342Z"
   },
   {
    "duration": 0,
    "start_time": "2024-06-05T01:52:31.344Z"
   },
   {
    "duration": 0,
    "start_time": "2024-06-05T01:52:31.346Z"
   },
   {
    "duration": 2362,
    "start_time": "2024-06-05T01:53:19.134Z"
   },
   {
    "duration": 206,
    "start_time": "2024-06-05T01:53:21.500Z"
   },
   {
    "duration": 946,
    "start_time": "2024-06-05T01:53:21.710Z"
   },
   {
    "duration": 530,
    "start_time": "2024-06-05T01:53:22.662Z"
   },
   {
    "duration": 0,
    "start_time": "2024-06-05T01:53:23.196Z"
   },
   {
    "duration": 0,
    "start_time": "2024-06-05T01:53:23.199Z"
   },
   {
    "duration": 0,
    "start_time": "2024-06-05T01:53:23.202Z"
   },
   {
    "duration": 0,
    "start_time": "2024-06-05T01:53:23.222Z"
   },
   {
    "duration": 0,
    "start_time": "2024-06-05T01:53:23.225Z"
   },
   {
    "duration": 0,
    "start_time": "2024-06-05T01:53:23.228Z"
   },
   {
    "duration": 0,
    "start_time": "2024-06-05T01:53:23.230Z"
   },
   {
    "duration": 0,
    "start_time": "2024-06-05T01:53:23.233Z"
   },
   {
    "duration": 30,
    "start_time": "2024-06-05T01:57:51.659Z"
   },
   {
    "duration": 2148,
    "start_time": "2024-06-05T01:58:01.979Z"
   },
   {
    "duration": 202,
    "start_time": "2024-06-05T01:58:04.132Z"
   },
   {
    "duration": 919,
    "start_time": "2024-06-05T01:58:04.337Z"
   },
   {
    "duration": 28,
    "start_time": "2024-06-05T01:58:05.260Z"
   },
   {
    "duration": 29,
    "start_time": "2024-06-05T01:58:05.295Z"
   },
   {
    "duration": 23,
    "start_time": "2024-06-05T01:58:05.327Z"
   },
   {
    "duration": 8,
    "start_time": "2024-06-05T01:58:05.353Z"
   },
   {
    "duration": 3103,
    "start_time": "2024-06-05T01:58:05.365Z"
   },
   {
    "duration": 483,
    "start_time": "2024-06-05T01:58:08.472Z"
   },
   {
    "duration": 11,
    "start_time": "2024-06-05T01:58:08.958Z"
   },
   {
    "duration": 450,
    "start_time": "2024-06-05T01:58:08.973Z"
   },
   {
    "duration": 0,
    "start_time": "2024-06-05T01:58:09.426Z"
   },
   {
    "duration": 1885,
    "start_time": "2024-06-05T02:08:50.778Z"
   },
   {
    "duration": 426,
    "start_time": "2024-06-05T02:08:52.667Z"
   },
   {
    "duration": 1243,
    "start_time": "2024-06-05T02:08:53.124Z"
   },
   {
    "duration": 29,
    "start_time": "2024-06-05T02:08:54.370Z"
   },
   {
    "duration": 9,
    "start_time": "2024-06-05T02:08:54.422Z"
   },
   {
    "duration": 25,
    "start_time": "2024-06-05T02:08:54.435Z"
   },
   {
    "duration": 8,
    "start_time": "2024-06-05T02:08:54.464Z"
   },
   {
    "duration": 3162,
    "start_time": "2024-06-05T02:08:54.475Z"
   },
   {
    "duration": 455,
    "start_time": "2024-06-05T02:08:57.640Z"
   },
   {
    "duration": 28,
    "start_time": "2024-06-05T02:08:58.098Z"
   },
   {
    "duration": 456,
    "start_time": "2024-06-05T02:08:58.130Z"
   },
   {
    "duration": 0,
    "start_time": "2024-06-05T02:08:58.588Z"
   },
   {
    "duration": 1194,
    "start_time": "2024-06-05T02:11:34.466Z"
   },
   {
    "duration": 1220,
    "start_time": "2024-06-05T02:12:40.376Z"
   },
   {
    "duration": 1449,
    "start_time": "2024-06-05T02:13:10.389Z"
   },
   {
    "duration": 196,
    "start_time": "2024-06-05T02:13:11.841Z"
   },
   {
    "duration": 1287,
    "start_time": "2024-06-05T02:13:12.040Z"
   },
   {
    "duration": 31,
    "start_time": "2024-06-05T02:13:13.330Z"
   },
   {
    "duration": 10,
    "start_time": "2024-06-05T02:13:13.367Z"
   },
   {
    "duration": 61,
    "start_time": "2024-06-05T02:13:13.380Z"
   },
   {
    "duration": 7,
    "start_time": "2024-06-05T02:13:13.444Z"
   },
   {
    "duration": 3176,
    "start_time": "2024-06-05T02:13:13.455Z"
   },
   {
    "duration": 494,
    "start_time": "2024-06-05T02:13:16.636Z"
   },
   {
    "duration": 12,
    "start_time": "2024-06-05T02:13:17.133Z"
   },
   {
    "duration": 454,
    "start_time": "2024-06-05T02:13:17.149Z"
   },
   {
    "duration": 0,
    "start_time": "2024-06-05T02:13:17.607Z"
   },
   {
    "duration": 982,
    "start_time": "2024-06-05T02:19:27.708Z"
   },
   {
    "duration": 1467,
    "start_time": "2024-06-05T02:19:57.939Z"
   },
   {
    "duration": 203,
    "start_time": "2024-06-05T02:19:59.409Z"
   },
   {
    "duration": 2069,
    "start_time": "2024-06-05T02:19:59.622Z"
   },
   {
    "duration": 41,
    "start_time": "2024-06-05T02:20:01.695Z"
   },
   {
    "duration": 13,
    "start_time": "2024-06-05T02:20:01.741Z"
   },
   {
    "duration": 25,
    "start_time": "2024-06-05T02:20:01.758Z"
   },
   {
    "duration": 8,
    "start_time": "2024-06-05T02:20:01.824Z"
   },
   {
    "duration": 3119,
    "start_time": "2024-06-05T02:20:01.837Z"
   },
   {
    "duration": 477,
    "start_time": "2024-06-05T02:20:04.959Z"
   },
   {
    "duration": 13,
    "start_time": "2024-06-05T02:20:05.438Z"
   },
   {
    "duration": 1382,
    "start_time": "2024-06-05T02:20:05.455Z"
   },
   {
    "duration": 0,
    "start_time": "2024-06-05T02:20:06.840Z"
   },
   {
    "duration": 89,
    "start_time": "2024-06-05T02:25:37.917Z"
   },
   {
    "duration": 22,
    "start_time": "2024-06-05T02:26:54.565Z"
   },
   {
    "duration": 10,
    "start_time": "2024-06-05T02:29:26.856Z"
   },
   {
    "duration": 472,
    "start_time": "2024-06-05T02:35:15.052Z"
   },
   {
    "duration": 31,
    "start_time": "2024-06-05T02:36:56.456Z"
   },
   {
    "duration": 2111,
    "start_time": "2024-06-05T02:38:55.315Z"
   },
   {
    "duration": 196,
    "start_time": "2024-06-05T02:38:57.430Z"
   },
   {
    "duration": 1240,
    "start_time": "2024-06-05T02:38:57.630Z"
   },
   {
    "duration": 29,
    "start_time": "2024-06-05T02:38:58.873Z"
   },
   {
    "duration": 10,
    "start_time": "2024-06-05T02:38:58.924Z"
   },
   {
    "duration": 23,
    "start_time": "2024-06-05T02:38:58.937Z"
   },
   {
    "duration": 7,
    "start_time": "2024-06-05T02:38:58.963Z"
   },
   {
    "duration": 3250,
    "start_time": "2024-06-05T02:38:58.974Z"
   },
   {
    "duration": 463,
    "start_time": "2024-06-05T02:39:02.226Z"
   },
   {
    "duration": 824,
    "start_time": "2024-06-05T02:39:02.692Z"
   },
   {
    "duration": 0,
    "start_time": "2024-06-05T02:39:03.523Z"
   },
   {
    "duration": 42,
    "start_time": "2024-06-05T02:39:59.914Z"
   },
   {
    "duration": 1536,
    "start_time": "2024-06-05T02:47:24.002Z"
   },
   {
    "duration": 203,
    "start_time": "2024-06-05T02:47:25.544Z"
   },
   {
    "duration": 1234,
    "start_time": "2024-06-05T02:47:25.751Z"
   },
   {
    "duration": 40,
    "start_time": "2024-06-05T02:47:26.988Z"
   },
   {
    "duration": 9,
    "start_time": "2024-06-05T02:47:27.035Z"
   },
   {
    "duration": 27,
    "start_time": "2024-06-05T02:47:27.047Z"
   },
   {
    "duration": 46,
    "start_time": "2024-06-05T02:47:27.077Z"
   },
   {
    "duration": 3136,
    "start_time": "2024-06-05T02:47:27.126Z"
   },
   {
    "duration": 495,
    "start_time": "2024-06-05T02:47:30.265Z"
   },
   {
    "duration": 61,
    "start_time": "2024-06-05T02:47:30.763Z"
   },
   {
    "duration": 44,
    "start_time": "2024-06-05T02:47:30.828Z"
   },
   {
    "duration": 75,
    "start_time": "2024-06-05T02:56:27.461Z"
   },
   {
    "duration": 68,
    "start_time": "2024-06-05T02:56:54.302Z"
   },
   {
    "duration": 39,
    "start_time": "2024-06-05T02:57:18.221Z"
   },
   {
    "duration": 55,
    "start_time": "2024-06-05T02:57:49.952Z"
   },
   {
    "duration": 40,
    "start_time": "2024-06-05T02:58:03.503Z"
   },
   {
    "duration": 40,
    "start_time": "2024-06-05T02:58:45.695Z"
   },
   {
    "duration": 40,
    "start_time": "2024-06-05T02:59:03.997Z"
   },
   {
    "duration": 53,
    "start_time": "2024-06-05T02:59:19.338Z"
   },
   {
    "duration": 74,
    "start_time": "2024-06-05T02:59:26.408Z"
   },
   {
    "duration": 43,
    "start_time": "2024-06-05T03:01:02.123Z"
   },
   {
    "duration": 56,
    "start_time": "2024-06-05T03:03:16.033Z"
   },
   {
    "duration": 54,
    "start_time": "2024-06-05T03:04:12.857Z"
   },
   {
    "duration": 42,
    "start_time": "2024-06-05T03:06:39.754Z"
   },
   {
    "duration": 1468,
    "start_time": "2024-06-05T03:06:46.563Z"
   },
   {
    "duration": 220,
    "start_time": "2024-06-05T03:06:48.036Z"
   },
   {
    "duration": 1287,
    "start_time": "2024-06-05T03:06:48.260Z"
   },
   {
    "duration": 28,
    "start_time": "2024-06-05T03:06:49.551Z"
   },
   {
    "duration": 41,
    "start_time": "2024-06-05T03:06:49.585Z"
   },
   {
    "duration": 27,
    "start_time": "2024-06-05T03:06:49.630Z"
   },
   {
    "duration": 8,
    "start_time": "2024-06-05T03:06:49.664Z"
   },
   {
    "duration": 3148,
    "start_time": "2024-06-05T03:06:49.676Z"
   },
   {
    "duration": 474,
    "start_time": "2024-06-05T03:06:52.828Z"
   },
   {
    "duration": 55,
    "start_time": "2024-06-05T03:06:53.305Z"
   },
   {
    "duration": 117,
    "start_time": "2024-06-05T03:06:53.363Z"
   },
   {
    "duration": 39,
    "start_time": "2024-06-05T03:12:40.267Z"
   },
   {
    "duration": 36,
    "start_time": "2024-06-05T03:12:55.002Z"
   },
   {
    "duration": 73,
    "start_time": "2024-06-05T03:14:06.537Z"
   },
   {
    "duration": 79,
    "start_time": "2024-06-05T03:14:16.421Z"
   },
   {
    "duration": 89,
    "start_time": "2024-06-05T03:14:26.266Z"
   },
   {
    "duration": 17,
    "start_time": "2024-06-05T03:14:55.115Z"
   },
   {
    "duration": 71,
    "start_time": "2024-06-05T03:15:37.825Z"
   },
   {
    "duration": 87,
    "start_time": "2024-06-05T03:20:49.279Z"
   },
   {
    "duration": 76,
    "start_time": "2024-06-05T03:22:21.452Z"
   },
   {
    "duration": 32,
    "start_time": "2024-06-05T03:26:12.186Z"
   },
   {
    "duration": 37,
    "start_time": "2024-06-05T03:26:20.255Z"
   },
   {
    "duration": 267,
    "start_time": "2024-06-05T03:28:57.464Z"
   },
   {
    "duration": 74,
    "start_time": "2024-06-05T03:30:18.045Z"
   },
   {
    "duration": 56,
    "start_time": "2024-06-05T03:35:18.956Z"
   },
   {
    "duration": 47,
    "start_time": "2024-06-05T03:35:32.952Z"
   },
   {
    "duration": 14,
    "start_time": "2024-06-05T03:35:40.802Z"
   },
   {
    "duration": 61,
    "start_time": "2024-06-05T03:36:02.947Z"
   },
   {
    "duration": 58,
    "start_time": "2024-06-05T03:36:38.298Z"
   },
   {
    "duration": 172,
    "start_time": "2024-06-05T03:39:00.874Z"
   },
   {
    "duration": 255,
    "start_time": "2024-06-05T03:50:12.817Z"
   },
   {
    "duration": 557,
    "start_time": "2024-06-05T03:53:59.544Z"
   },
   {
    "duration": 27,
    "start_time": "2024-06-05T03:54:27.296Z"
   },
   {
    "duration": 7,
    "start_time": "2024-06-05T03:54:54.098Z"
   },
   {
    "duration": 5,
    "start_time": "2024-06-05T03:54:59.944Z"
   },
   {
    "duration": 237,
    "start_time": "2024-06-05T03:56:13.410Z"
   },
   {
    "duration": 252,
    "start_time": "2024-06-05T03:56:27.156Z"
   },
   {
    "duration": 10,
    "start_time": "2024-06-05T03:58:38.727Z"
   },
   {
    "duration": 216,
    "start_time": "2024-06-05T03:58:38.741Z"
   },
   {
    "duration": 1363,
    "start_time": "2024-06-05T03:58:38.960Z"
   },
   {
    "duration": 36,
    "start_time": "2024-06-05T03:58:40.328Z"
   },
   {
    "duration": 13,
    "start_time": "2024-06-05T03:58:40.369Z"
   },
   {
    "duration": 60,
    "start_time": "2024-06-05T03:58:40.386Z"
   },
   {
    "duration": 9,
    "start_time": "2024-06-05T03:58:40.449Z"
   },
   {
    "duration": 3290,
    "start_time": "2024-06-05T03:58:40.462Z"
   },
   {
    "duration": 503,
    "start_time": "2024-06-05T03:58:43.756Z"
   },
   {
    "duration": 64,
    "start_time": "2024-06-05T03:58:44.262Z"
   },
   {
    "duration": 55,
    "start_time": "2024-06-05T03:58:44.333Z"
   },
   {
    "duration": 49,
    "start_time": "2024-06-05T03:58:44.392Z"
   },
   {
    "duration": 102,
    "start_time": "2024-06-05T03:58:44.445Z"
   },
   {
    "duration": 89,
    "start_time": "2024-06-05T03:58:44.551Z"
   },
   {
    "duration": 307,
    "start_time": "2024-06-05T03:58:44.643Z"
   },
   {
    "duration": 282,
    "start_time": "2024-06-05T03:58:44.953Z"
   },
   {
    "duration": 6,
    "start_time": "2024-06-05T03:58:45.238Z"
   },
   {
    "duration": 2050,
    "start_time": "2024-06-05T03:59:20.311Z"
   },
   {
    "duration": 396,
    "start_time": "2024-06-05T03:59:22.365Z"
   },
   {
    "duration": 1250,
    "start_time": "2024-06-05T03:59:22.764Z"
   },
   {
    "duration": 29,
    "start_time": "2024-06-05T03:59:24.024Z"
   },
   {
    "duration": 12,
    "start_time": "2024-06-05T03:59:24.057Z"
   },
   {
    "duration": 62,
    "start_time": "2024-06-05T03:59:24.072Z"
   },
   {
    "duration": 9,
    "start_time": "2024-06-05T03:59:24.137Z"
   },
   {
    "duration": 3188,
    "start_time": "2024-06-05T03:59:24.150Z"
   },
   {
    "duration": 481,
    "start_time": "2024-06-05T03:59:27.342Z"
   },
   {
    "duration": 45,
    "start_time": "2024-06-05T03:59:27.826Z"
   },
   {
    "duration": 79,
    "start_time": "2024-06-05T03:59:27.875Z"
   },
   {
    "duration": 37,
    "start_time": "2024-06-05T03:59:27.958Z"
   },
   {
    "duration": 99,
    "start_time": "2024-06-05T03:59:27.999Z"
   },
   {
    "duration": 299,
    "start_time": "2024-06-05T03:59:28.124Z"
   },
   {
    "duration": 324,
    "start_time": "2024-06-05T03:59:28.426Z"
   },
   {
    "duration": 294,
    "start_time": "2024-06-05T03:59:28.754Z"
   },
   {
    "duration": 9,
    "start_time": "2024-06-05T03:59:29.050Z"
   },
   {
    "duration": 248,
    "start_time": "2024-06-05T04:00:44.313Z"
   },
   {
    "duration": 247,
    "start_time": "2024-06-05T04:00:54.585Z"
   },
   {
    "duration": 295,
    "start_time": "2024-06-05T04:01:07.927Z"
   },
   {
    "duration": 295,
    "start_time": "2024-06-05T04:01:50.047Z"
   },
   {
    "duration": 2931,
    "start_time": "2024-06-05T04:02:02.310Z"
   },
   {
    "duration": 437,
    "start_time": "2024-06-05T04:02:05.245Z"
   },
   {
    "duration": 1412,
    "start_time": "2024-06-05T04:02:05.725Z"
   },
   {
    "duration": 35,
    "start_time": "2024-06-05T04:02:07.142Z"
   },
   {
    "duration": 44,
    "start_time": "2024-06-05T04:02:07.180Z"
   },
   {
    "duration": 26,
    "start_time": "2024-06-05T04:02:07.227Z"
   },
   {
    "duration": 9,
    "start_time": "2024-06-05T04:02:07.256Z"
   },
   {
    "duration": 3202,
    "start_time": "2024-06-05T04:02:07.269Z"
   },
   {
    "duration": 494,
    "start_time": "2024-06-05T04:02:10.475Z"
   },
   {
    "duration": 61,
    "start_time": "2024-06-05T04:02:10.975Z"
   },
   {
    "duration": 59,
    "start_time": "2024-06-05T04:02:11.040Z"
   },
   {
    "duration": 59,
    "start_time": "2024-06-05T04:02:11.103Z"
   },
   {
    "duration": 108,
    "start_time": "2024-06-05T04:02:11.166Z"
   },
   {
    "duration": 302,
    "start_time": "2024-06-05T04:02:11.278Z"
   },
   {
    "duration": 373,
    "start_time": "2024-06-05T04:02:11.584Z"
   },
   {
    "duration": 263,
    "start_time": "2024-06-05T04:02:11.960Z"
   },
   {
    "duration": 6,
    "start_time": "2024-06-05T04:02:12.227Z"
   },
   {
    "duration": 187,
    "start_time": "2024-06-05T04:03:17.048Z"
   },
   {
    "duration": 8,
    "start_time": "2024-06-05T04:03:30.346Z"
   },
   {
    "duration": 5,
    "start_time": "2024-06-05T04:03:35.115Z"
   },
   {
    "duration": 6,
    "start_time": "2024-06-05T04:04:20.680Z"
   },
   {
    "duration": 185,
    "start_time": "2024-06-05T04:04:26.220Z"
   },
   {
    "duration": 145,
    "start_time": "2024-06-05T04:04:35.888Z"
   },
   {
    "duration": 174,
    "start_time": "2024-06-05T04:09:36.495Z"
   },
   {
    "duration": 322,
    "start_time": "2024-06-05T04:09:49.231Z"
   },
   {
    "duration": 45,
    "start_time": "2024-06-05T04:13:49.676Z"
   },
   {
    "duration": 356,
    "start_time": "2024-06-05T04:13:53.522Z"
   },
   {
    "duration": 37,
    "start_time": "2024-06-05T04:15:55.394Z"
   },
   {
    "duration": 474,
    "start_time": "2024-06-05T04:16:00.582Z"
   },
   {
    "duration": 21,
    "start_time": "2024-06-05T04:17:07.553Z"
   },
   {
    "duration": 17,
    "start_time": "2024-06-05T04:17:38.295Z"
   },
   {
    "duration": 1457,
    "start_time": "2024-06-05T04:18:31.457Z"
   },
   {
    "duration": 203,
    "start_time": "2024-06-05T04:18:32.918Z"
   },
   {
    "duration": 1309,
    "start_time": "2024-06-05T04:18:33.125Z"
   },
   {
    "duration": 30,
    "start_time": "2024-06-05T04:18:34.438Z"
   },
   {
    "duration": 10,
    "start_time": "2024-06-05T04:18:34.474Z"
   },
   {
    "duration": 28,
    "start_time": "2024-06-05T04:18:34.525Z"
   },
   {
    "duration": 11,
    "start_time": "2024-06-05T04:18:34.557Z"
   },
   {
    "duration": 4031,
    "start_time": "2024-06-05T04:18:34.574Z"
   },
   {
    "duration": 486,
    "start_time": "2024-06-05T04:18:38.608Z"
   },
   {
    "duration": 66,
    "start_time": "2024-06-05T04:18:39.098Z"
   },
   {
    "duration": 75,
    "start_time": "2024-06-05T04:18:39.180Z"
   },
   {
    "duration": 38,
    "start_time": "2024-06-05T04:18:39.258Z"
   },
   {
    "duration": 230,
    "start_time": "2024-06-05T04:18:39.322Z"
   },
   {
    "duration": 129,
    "start_time": "2024-06-05T04:18:39.558Z"
   },
   {
    "duration": 294,
    "start_time": "2024-06-05T04:18:39.691Z"
   },
   {
    "duration": 300,
    "start_time": "2024-06-05T04:18:39.988Z"
   },
   {
    "duration": 246,
    "start_time": "2024-06-05T04:18:40.292Z"
   },
   {
    "duration": 149,
    "start_time": "2024-06-05T04:18:40.541Z"
   },
   {
    "duration": 49,
    "start_time": "2024-06-05T04:19:06.337Z"
   },
   {
    "duration": 115,
    "start_time": "2024-06-05T04:20:58.908Z"
   },
   {
    "duration": 228,
    "start_time": "2024-06-05T04:23:24.205Z"
   },
   {
    "duration": 343,
    "start_time": "2024-06-05T04:23:29.015Z"
   },
   {
    "duration": 724,
    "start_time": "2024-06-05T04:25:19.057Z"
   },
   {
    "duration": 263,
    "start_time": "2024-06-05T04:26:01.399Z"
   },
   {
    "duration": 273,
    "start_time": "2024-06-05T04:28:29.334Z"
   },
   {
    "duration": 309,
    "start_time": "2024-06-05T04:29:10.591Z"
   },
   {
    "duration": 36,
    "start_time": "2024-06-05T04:31:19.480Z"
   },
   {
    "duration": 50,
    "start_time": "2024-06-05T04:32:18.883Z"
   },
   {
    "duration": 48,
    "start_time": "2024-06-05T04:32:31.534Z"
   },
   {
    "duration": 6119,
    "start_time": "2024-06-05T22:17:13.149Z"
   },
   {
    "duration": 261,
    "start_time": "2024-06-05T22:17:19.272Z"
   },
   {
    "duration": 1314,
    "start_time": "2024-06-05T22:17:19.537Z"
   },
   {
    "duration": 30,
    "start_time": "2024-06-05T22:17:20.854Z"
   },
   {
    "duration": 39,
    "start_time": "2024-06-05T22:17:20.889Z"
   },
   {
    "duration": 26,
    "start_time": "2024-06-05T22:17:20.931Z"
   },
   {
    "duration": 9,
    "start_time": "2024-06-05T22:17:20.960Z"
   },
   {
    "duration": 3177,
    "start_time": "2024-06-05T22:17:20.972Z"
   },
   {
    "duration": 493,
    "start_time": "2024-06-05T22:17:24.152Z"
   },
   {
    "duration": 47,
    "start_time": "2024-06-05T22:17:24.648Z"
   },
   {
    "duration": 78,
    "start_time": "2024-06-05T22:17:24.699Z"
   },
   {
    "duration": 317,
    "start_time": "2024-06-05T22:17:24.782Z"
   },
   {
    "duration": 184,
    "start_time": "2024-06-05T22:17:25.102Z"
   },
   {
    "duration": 270,
    "start_time": "2024-06-05T22:17:25.292Z"
   },
   {
    "duration": 278,
    "start_time": "2024-06-05T22:17:25.565Z"
   },
   {
    "duration": 257,
    "start_time": "2024-06-05T22:17:25.847Z"
   },
   {
    "duration": 171,
    "start_time": "2024-06-05T22:17:26.108Z"
   },
   {
    "duration": 286,
    "start_time": "2024-06-05T22:19:52.870Z"
   },
   {
    "duration": 287,
    "start_time": "2024-06-05T22:20:36.471Z"
   },
   {
    "duration": 220,
    "start_time": "2024-06-05T22:36:02.350Z"
   },
   {
    "duration": 525,
    "start_time": "2024-06-05T22:37:30.357Z"
   },
   {
    "duration": 1846,
    "start_time": "2024-06-05T22:38:14.988Z"
   },
   {
    "duration": 405,
    "start_time": "2024-06-05T22:38:16.840Z"
   },
   {
    "duration": 1441,
    "start_time": "2024-06-05T22:38:17.249Z"
   },
   {
    "duration": 55,
    "start_time": "2024-06-05T22:38:18.694Z"
   },
   {
    "duration": 16,
    "start_time": "2024-06-05T22:38:18.755Z"
   },
   {
    "duration": 65,
    "start_time": "2024-06-05T22:38:18.775Z"
   },
   {
    "duration": 13,
    "start_time": "2024-06-05T22:38:18.845Z"
   },
   {
    "duration": 3321,
    "start_time": "2024-06-05T22:38:18.862Z"
   },
   {
    "duration": 500,
    "start_time": "2024-06-05T22:38:22.186Z"
   },
   {
    "duration": 61,
    "start_time": "2024-06-05T22:38:22.689Z"
   },
   {
    "duration": 78,
    "start_time": "2024-06-05T22:38:22.754Z"
   },
   {
    "duration": 294,
    "start_time": "2024-06-05T22:38:22.836Z"
   },
   {
    "duration": 150,
    "start_time": "2024-06-05T22:38:23.133Z"
   },
   {
    "duration": 252,
    "start_time": "2024-06-05T22:38:23.289Z"
   },
   {
    "duration": 538,
    "start_time": "2024-06-05T22:38:23.544Z"
   },
   {
    "duration": 248,
    "start_time": "2024-06-05T22:38:24.086Z"
   },
   {
    "duration": 145,
    "start_time": "2024-06-05T22:38:24.337Z"
   },
   {
    "duration": 606,
    "start_time": "2024-06-05T22:42:43.663Z"
   },
   {
    "duration": 834,
    "start_time": "2024-06-05T22:44:18.918Z"
   },
   {
    "duration": 280,
    "start_time": "2024-06-05T22:47:45.265Z"
   },
   {
    "duration": 410,
    "start_time": "2024-06-05T22:48:03.903Z"
   },
   {
    "duration": 1453,
    "start_time": "2024-06-05T22:51:15.156Z"
   },
   {
    "duration": 224,
    "start_time": "2024-06-05T22:51:16.612Z"
   },
   {
    "duration": 1350,
    "start_time": "2024-06-05T22:51:16.840Z"
   },
   {
    "duration": 47,
    "start_time": "2024-06-05T22:51:18.194Z"
   },
   {
    "duration": 11,
    "start_time": "2024-06-05T22:51:18.251Z"
   },
   {
    "duration": 65,
    "start_time": "2024-06-05T22:51:18.265Z"
   },
   {
    "duration": 9,
    "start_time": "2024-06-05T22:51:18.334Z"
   },
   {
    "duration": 3259,
    "start_time": "2024-06-05T22:51:18.347Z"
   },
   {
    "duration": 490,
    "start_time": "2024-06-05T22:51:21.609Z"
   },
   {
    "duration": 59,
    "start_time": "2024-06-05T22:51:22.102Z"
   },
   {
    "duration": 80,
    "start_time": "2024-06-05T22:51:22.165Z"
   },
   {
    "duration": 304,
    "start_time": "2024-06-05T22:51:22.248Z"
   },
   {
    "duration": 184,
    "start_time": "2024-06-05T22:51:22.556Z"
   },
   {
    "duration": 328,
    "start_time": "2024-06-05T22:51:22.746Z"
   },
   {
    "duration": 435,
    "start_time": "2024-06-05T22:51:23.078Z"
   },
   {
    "duration": 276,
    "start_time": "2024-06-05T22:51:23.522Z"
   },
   {
    "duration": 164,
    "start_time": "2024-06-05T22:51:23.801Z"
   },
   {
    "duration": 1268,
    "start_time": "2024-06-06T02:51:43.168Z"
   },
   {
    "duration": 1559,
    "start_time": "2024-06-06T02:52:00.105Z"
   },
   {
    "duration": 216,
    "start_time": "2024-06-06T02:52:01.669Z"
   },
   {
    "duration": 1347,
    "start_time": "2024-06-06T02:52:01.888Z"
   },
   {
    "duration": 29,
    "start_time": "2024-06-06T02:52:03.239Z"
   },
   {
    "duration": 10,
    "start_time": "2024-06-06T02:52:03.275Z"
   },
   {
    "duration": 57,
    "start_time": "2024-06-06T02:52:03.289Z"
   },
   {
    "duration": 9,
    "start_time": "2024-06-06T02:52:03.349Z"
   },
   {
    "duration": 3184,
    "start_time": "2024-06-06T02:52:03.361Z"
   },
   {
    "duration": 476,
    "start_time": "2024-06-06T02:52:06.548Z"
   },
   {
    "duration": 49,
    "start_time": "2024-06-06T02:52:07.028Z"
   },
   {
    "duration": 81,
    "start_time": "2024-06-06T02:52:07.080Z"
   },
   {
    "duration": 301,
    "start_time": "2024-06-06T02:52:07.166Z"
   },
   {
    "duration": 164,
    "start_time": "2024-06-06T02:52:07.470Z"
   },
   {
    "duration": 329,
    "start_time": "2024-06-06T02:52:07.641Z"
   },
   {
    "duration": 432,
    "start_time": "2024-06-06T02:52:07.973Z"
   },
   {
    "duration": 234,
    "start_time": "2024-06-06T02:52:08.408Z"
   },
   {
    "duration": 152,
    "start_time": "2024-06-06T02:52:08.645Z"
   },
   {
    "duration": 1336,
    "start_time": "2024-06-06T02:52:08.799Z"
   },
   {
    "duration": 7,
    "start_time": "2024-06-06T03:45:59.099Z"
   },
   {
    "duration": 46,
    "start_time": "2024-06-06T03:46:58.350Z"
   },
   {
    "duration": 28,
    "start_time": "2024-06-06T05:27:22.851Z"
   },
   {
    "duration": 96,
    "start_time": "2024-06-06T05:27:43.171Z"
   },
   {
    "duration": 1474,
    "start_time": "2024-06-06T05:28:11.889Z"
   },
   {
    "duration": 225,
    "start_time": "2024-06-06T05:28:13.367Z"
   },
   {
    "duration": 1387,
    "start_time": "2024-06-06T05:28:13.596Z"
   },
   {
    "duration": 47,
    "start_time": "2024-06-06T05:28:14.987Z"
   },
   {
    "duration": 13,
    "start_time": "2024-06-06T05:28:15.042Z"
   },
   {
    "duration": 33,
    "start_time": "2024-06-06T05:28:15.060Z"
   },
   {
    "duration": 33,
    "start_time": "2024-06-06T05:28:15.096Z"
   },
   {
    "duration": 3262,
    "start_time": "2024-06-06T05:28:15.133Z"
   },
   {
    "duration": 477,
    "start_time": "2024-06-06T05:28:18.398Z"
   },
   {
    "duration": 68,
    "start_time": "2024-06-06T05:28:18.879Z"
   },
   {
    "duration": 72,
    "start_time": "2024-06-06T05:28:18.951Z"
   },
   {
    "duration": 271,
    "start_time": "2024-06-06T05:28:19.026Z"
   },
   {
    "duration": 163,
    "start_time": "2024-06-06T05:28:19.300Z"
   },
   {
    "duration": 710,
    "start_time": "2024-06-06T05:28:19.522Z"
   },
   {
    "duration": 799,
    "start_time": "2024-06-06T05:28:20.235Z"
   },
   {
    "duration": 295,
    "start_time": "2024-06-06T05:28:21.037Z"
   },
   {
    "duration": 228,
    "start_time": "2024-06-06T05:28:21.336Z"
   },
   {
    "duration": 101,
    "start_time": "2024-06-06T05:28:21.568Z"
   },
   {
    "duration": 40,
    "start_time": "2024-06-06T05:28:21.724Z"
   },
   {
    "duration": 174,
    "start_time": "2024-06-06T05:28:21.768Z"
   },
   {
    "duration": 2071,
    "start_time": "2024-06-06T05:28:21.945Z"
   },
   {
    "duration": 0,
    "start_time": "2024-06-06T05:28:24.024Z"
   },
   {
    "duration": 1,
    "start_time": "2024-06-06T05:28:24.026Z"
   },
   {
    "duration": 0,
    "start_time": "2024-06-06T05:28:24.030Z"
   },
   {
    "duration": 0,
    "start_time": "2024-06-06T05:28:24.033Z"
   },
   {
    "duration": 290,
    "start_time": "2024-06-06T05:29:29.878Z"
   },
   {
    "duration": 487,
    "start_time": "2024-06-06T05:30:50.822Z"
   },
   {
    "duration": 87,
    "start_time": "2024-06-06T05:33:43.642Z"
   },
   {
    "duration": 302,
    "start_time": "2024-06-06T05:34:23.180Z"
   },
   {
    "duration": 542,
    "start_time": "2024-06-06T05:35:26.237Z"
   },
   {
    "duration": 255,
    "start_time": "2024-06-06T05:38:14.119Z"
   },
   {
    "duration": 2280,
    "start_time": "2024-06-06T21:50:03.888Z"
   },
   {
    "duration": 412,
    "start_time": "2024-06-06T21:50:06.172Z"
   },
   {
    "duration": 1447,
    "start_time": "2024-06-06T21:50:06.587Z"
   },
   {
    "duration": 37,
    "start_time": "2024-06-06T21:50:08.037Z"
   },
   {
    "duration": 10,
    "start_time": "2024-06-06T21:50:08.080Z"
   },
   {
    "duration": 61,
    "start_time": "2024-06-06T21:50:08.094Z"
   },
   {
    "duration": 14,
    "start_time": "2024-06-06T21:50:08.159Z"
   },
   {
    "duration": 3617,
    "start_time": "2024-06-06T21:50:08.178Z"
   },
   {
    "duration": 611,
    "start_time": "2024-06-06T21:50:11.798Z"
   },
   {
    "duration": 63,
    "start_time": "2024-06-06T21:50:12.412Z"
   },
   {
    "duration": 76,
    "start_time": "2024-06-06T21:50:12.480Z"
   },
   {
    "duration": 296,
    "start_time": "2024-06-06T21:50:12.561Z"
   },
   {
    "duration": 175,
    "start_time": "2024-06-06T21:50:12.860Z"
   },
   {
    "duration": 348,
    "start_time": "2024-06-06T21:50:13.049Z"
   },
   {
    "duration": 458,
    "start_time": "2024-06-06T21:50:13.400Z"
   },
   {
    "duration": 256,
    "start_time": "2024-06-06T21:50:13.861Z"
   },
   {
    "duration": 161,
    "start_time": "2024-06-06T21:50:14.120Z"
   },
   {
    "duration": 68,
    "start_time": "2024-06-06T21:50:14.285Z"
   },
   {
    "duration": 136,
    "start_time": "2024-06-06T21:50:14.356Z"
   },
   {
    "duration": 491,
    "start_time": "2024-06-06T21:50:14.496Z"
   },
   {
    "duration": 690,
    "start_time": "2024-06-06T21:50:14.990Z"
   },
   {
    "duration": 353,
    "start_time": "2024-06-06T21:50:15.683Z"
   },
   {
    "duration": 581,
    "start_time": "2024-06-06T21:50:16.045Z"
   },
   {
    "duration": 0,
    "start_time": "2024-06-06T21:50:16.632Z"
   },
   {
    "duration": 0,
    "start_time": "2024-06-06T21:50:16.634Z"
   },
   {
    "duration": 348,
    "start_time": "2024-06-06T21:51:03.136Z"
   },
   {
    "duration": 680,
    "start_time": "2024-06-06T21:52:26.284Z"
   },
   {
    "duration": 340,
    "start_time": "2024-06-06T21:52:51.688Z"
   },
   {
    "duration": 1604,
    "start_time": "2024-06-06T21:53:44.788Z"
   },
   {
    "duration": 266,
    "start_time": "2024-06-06T21:53:46.396Z"
   },
   {
    "duration": 1514,
    "start_time": "2024-06-06T21:53:46.665Z"
   },
   {
    "duration": 51,
    "start_time": "2024-06-06T21:53:48.184Z"
   },
   {
    "duration": 9,
    "start_time": "2024-06-06T21:53:48.238Z"
   },
   {
    "duration": 30,
    "start_time": "2024-06-06T21:53:48.250Z"
   },
   {
    "duration": 8,
    "start_time": "2024-06-06T21:53:48.283Z"
   },
   {
    "duration": 3533,
    "start_time": "2024-06-06T21:53:48.294Z"
   },
   {
    "duration": 653,
    "start_time": "2024-06-06T21:53:51.830Z"
   },
   {
    "duration": 75,
    "start_time": "2024-06-06T21:53:52.489Z"
   },
   {
    "duration": 87,
    "start_time": "2024-06-06T21:53:52.568Z"
   },
   {
    "duration": 330,
    "start_time": "2024-06-06T21:53:52.658Z"
   },
   {
    "duration": 186,
    "start_time": "2024-06-06T21:53:52.992Z"
   },
   {
    "duration": 375,
    "start_time": "2024-06-06T21:53:53.182Z"
   },
   {
    "duration": 450,
    "start_time": "2024-06-06T21:53:53.560Z"
   },
   {
    "duration": 258,
    "start_time": "2024-06-06T21:53:54.013Z"
   },
   {
    "duration": 171,
    "start_time": "2024-06-06T21:53:54.274Z"
   },
   {
    "duration": 54,
    "start_time": "2024-06-06T21:53:54.449Z"
   },
   {
    "duration": 143,
    "start_time": "2024-06-06T21:53:54.506Z"
   },
   {
    "duration": 435,
    "start_time": "2024-06-06T21:53:54.653Z"
   },
   {
    "duration": 641,
    "start_time": "2024-06-06T21:53:55.091Z"
   },
   {
    "duration": 322,
    "start_time": "2024-06-06T21:53:55.735Z"
   },
   {
    "duration": 412,
    "start_time": "2024-06-06T21:53:56.060Z"
   },
   {
    "duration": 788,
    "start_time": "2024-06-06T21:53:56.475Z"
   },
   {
    "duration": 351,
    "start_time": "2024-06-06T21:53:57.266Z"
   },
   {
    "duration": 16,
    "start_time": "2024-06-06T21:53:57.621Z"
   },
   {
    "duration": 52,
    "start_time": "2024-06-06T21:54:24.973Z"
   },
   {
    "duration": 1652,
    "start_time": "2024-06-06T21:54:35.189Z"
   },
   {
    "duration": 228,
    "start_time": "2024-06-06T21:54:36.846Z"
   },
   {
    "duration": 1506,
    "start_time": "2024-06-06T21:54:37.078Z"
   },
   {
    "duration": 60,
    "start_time": "2024-06-06T21:54:38.588Z"
   },
   {
    "duration": 9,
    "start_time": "2024-06-06T21:54:38.654Z"
   },
   {
    "duration": 30,
    "start_time": "2024-06-06T21:54:38.666Z"
   },
   {
    "duration": 38,
    "start_time": "2024-06-06T21:54:38.699Z"
   },
   {
    "duration": 3483,
    "start_time": "2024-06-06T21:54:38.741Z"
   },
   {
    "duration": 546,
    "start_time": "2024-06-06T21:54:42.227Z"
   },
   {
    "duration": 73,
    "start_time": "2024-06-06T21:54:42.776Z"
   },
   {
    "duration": 86,
    "start_time": "2024-06-06T21:54:42.853Z"
   },
   {
    "duration": 356,
    "start_time": "2024-06-06T21:54:42.944Z"
   },
   {
    "duration": 185,
    "start_time": "2024-06-06T21:54:43.304Z"
   },
   {
    "duration": 380,
    "start_time": "2024-06-06T21:54:43.496Z"
   },
   {
    "duration": 461,
    "start_time": "2024-06-06T21:54:43.884Z"
   },
   {
    "duration": 294,
    "start_time": "2024-06-06T21:54:44.349Z"
   },
   {
    "duration": 149,
    "start_time": "2024-06-06T21:54:44.651Z"
   },
   {
    "duration": 85,
    "start_time": "2024-06-06T21:54:44.804Z"
   },
   {
    "duration": 118,
    "start_time": "2024-06-06T21:54:44.903Z"
   },
   {
    "duration": 352,
    "start_time": "2024-06-06T21:54:45.025Z"
   },
   {
    "duration": 650,
    "start_time": "2024-06-06T21:54:45.381Z"
   },
   {
    "duration": 340,
    "start_time": "2024-06-06T21:54:46.035Z"
   },
   {
    "duration": 384,
    "start_time": "2024-06-06T21:54:46.378Z"
   },
   {
    "duration": 567,
    "start_time": "2024-06-06T21:54:46.764Z"
   },
   {
    "duration": 261,
    "start_time": "2024-06-06T21:54:47.335Z"
   },
   {
    "duration": 65,
    "start_time": "2024-06-06T21:54:47.600Z"
   },
   {
    "duration": 402,
    "start_time": "2024-06-06T22:05:13.203Z"
   },
   {
    "duration": 182,
    "start_time": "2024-06-06T22:05:41.405Z"
   },
   {
    "duration": 114,
    "start_time": "2024-06-06T22:05:56.668Z"
   },
   {
    "duration": 362,
    "start_time": "2024-06-06T22:06:19.757Z"
   },
   {
    "duration": 409,
    "start_time": "2024-06-06T22:06:31.564Z"
   },
   {
    "duration": 432,
    "start_time": "2024-06-06T22:06:37.433Z"
   },
   {
    "duration": 422,
    "start_time": "2024-06-06T22:06:45.801Z"
   },
   {
    "duration": 395,
    "start_time": "2024-06-06T22:06:58.942Z"
   },
   {
    "duration": 405,
    "start_time": "2024-06-06T22:07:05.574Z"
   },
   {
    "duration": 335,
    "start_time": "2024-06-06T22:07:11.658Z"
   },
   {
    "duration": 382,
    "start_time": "2024-06-06T22:08:06.336Z"
   },
   {
    "duration": 317,
    "start_time": "2024-06-06T22:08:53.438Z"
   },
   {
    "duration": 368,
    "start_time": "2024-06-06T22:08:53.758Z"
   },
   {
    "duration": 631,
    "start_time": "2024-06-06T22:09:14.758Z"
   },
   {
    "duration": 632,
    "start_time": "2024-06-06T22:09:35.761Z"
   },
   {
    "duration": 648,
    "start_time": "2024-06-06T22:09:58.091Z"
   },
   {
    "duration": 49,
    "start_time": "2024-06-06T22:10:16.132Z"
   },
   {
    "duration": 72,
    "start_time": "2024-06-06T22:10:29.019Z"
   },
   {
    "duration": 1028,
    "start_time": "2024-06-06T22:14:10.461Z"
   },
   {
    "duration": 1559,
    "start_time": "2024-06-06T22:18:33.261Z"
   },
   {
    "duration": 1295,
    "start_time": "2024-06-06T22:26:59.243Z"
   },
   {
    "duration": 1294,
    "start_time": "2024-06-06T22:27:29.726Z"
   },
   {
    "duration": 1351,
    "start_time": "2024-06-06T22:27:57.873Z"
   },
   {
    "duration": 42,
    "start_time": "2024-06-06T22:30:11.428Z"
   },
   {
    "duration": 1463,
    "start_time": "2024-06-06T22:33:03.381Z"
   },
   {
    "duration": 1430,
    "start_time": "2024-06-09T05:53:41.783Z"
   },
   {
    "duration": 198,
    "start_time": "2024-06-09T05:53:43.216Z"
   },
   {
    "duration": 1205,
    "start_time": "2024-06-09T05:53:43.417Z"
   },
   {
    "duration": 28,
    "start_time": "2024-06-09T05:53:44.626Z"
   },
   {
    "duration": 9,
    "start_time": "2024-06-09T05:53:44.657Z"
   },
   {
    "duration": 23,
    "start_time": "2024-06-09T05:53:44.701Z"
   },
   {
    "duration": 9,
    "start_time": "2024-06-09T05:53:44.726Z"
   },
   {
    "duration": 3065,
    "start_time": "2024-06-09T05:53:44.737Z"
   },
   {
    "duration": 452,
    "start_time": "2024-06-09T05:53:47.805Z"
   },
   {
    "duration": 54,
    "start_time": "2024-06-09T05:53:48.263Z"
   },
   {
    "duration": 52,
    "start_time": "2024-06-09T05:53:48.321Z"
   },
   {
    "duration": 273,
    "start_time": "2024-06-09T05:53:48.376Z"
   },
   {
    "duration": 151,
    "start_time": "2024-06-09T05:53:48.653Z"
   },
   {
    "duration": 296,
    "start_time": "2024-06-09T05:53:48.806Z"
   },
   {
    "duration": 430,
    "start_time": "2024-06-09T05:53:49.105Z"
   },
   {
    "duration": 237,
    "start_time": "2024-06-09T05:53:49.539Z"
   },
   {
    "duration": 142,
    "start_time": "2024-06-09T05:53:49.779Z"
   },
   {
    "duration": 44,
    "start_time": "2024-06-09T05:53:49.924Z"
   },
   {
    "duration": 308,
    "start_time": "2024-06-09T05:53:49.972Z"
   },
   {
    "duration": 885,
    "start_time": "2024-06-09T05:53:50.283Z"
   },
   {
    "duration": 497,
    "start_time": "2024-06-09T05:53:51.172Z"
   },
   {
    "duration": 259,
    "start_time": "2024-06-09T05:53:51.672Z"
   },
   {
    "duration": 275,
    "start_time": "2024-06-09T05:53:51.934Z"
   },
   {
    "duration": 1354,
    "start_time": "2024-06-09T05:53:52.212Z"
   },
   {
    "duration": 1312,
    "start_time": "2024-06-09T05:53:53.569Z"
   },
   {
    "duration": 247,
    "start_time": "2024-06-09T05:53:54.885Z"
   },
   {
    "duration": 66,
    "start_time": "2024-06-09T05:53:55.135Z"
   },
   {
    "duration": 1389,
    "start_time": "2024-06-09T05:53:55.207Z"
   },
   {
    "duration": 1415,
    "start_time": "2024-06-09T05:56:32.378Z"
   },
   {
    "duration": 197,
    "start_time": "2024-06-09T05:56:33.796Z"
   },
   {
    "duration": 1177,
    "start_time": "2024-06-09T05:56:34.003Z"
   },
   {
    "duration": 35,
    "start_time": "2024-06-09T05:56:35.186Z"
   },
   {
    "duration": 9,
    "start_time": "2024-06-09T05:56:35.225Z"
   },
   {
    "duration": 23,
    "start_time": "2024-06-09T05:56:35.237Z"
   },
   {
    "duration": 43,
    "start_time": "2024-06-09T05:56:35.263Z"
   },
   {
    "duration": 3100,
    "start_time": "2024-06-09T05:56:35.309Z"
   },
   {
    "duration": 458,
    "start_time": "2024-06-09T05:56:38.412Z"
   },
   {
    "duration": 53,
    "start_time": "2024-06-09T05:56:38.872Z"
   },
   {
    "duration": 53,
    "start_time": "2024-06-09T05:56:38.928Z"
   },
   {
    "duration": 258,
    "start_time": "2024-06-09T05:56:39.001Z"
   },
   {
    "duration": 146,
    "start_time": "2024-06-09T05:56:39.264Z"
   },
   {
    "duration": 62,
    "start_time": "2024-06-09T05:56:39.413Z"
   },
   {
    "duration": 5426,
    "start_time": "2024-06-09T18:11:25.971Z"
   },
   {
    "duration": 233,
    "start_time": "2024-06-09T18:11:31.401Z"
   },
   {
    "duration": 1226,
    "start_time": "2024-06-09T18:11:31.637Z"
   },
   {
    "duration": 30,
    "start_time": "2024-06-09T18:11:32.866Z"
   },
   {
    "duration": 10,
    "start_time": "2024-06-09T18:11:32.923Z"
   },
   {
    "duration": 24,
    "start_time": "2024-06-09T18:11:32.935Z"
   },
   {
    "duration": 8,
    "start_time": "2024-06-09T18:11:32.962Z"
   },
   {
    "duration": 3946,
    "start_time": "2024-06-09T18:11:32.973Z"
   },
   {
    "duration": 456,
    "start_time": "2024-06-09T18:11:36.923Z"
   },
   {
    "duration": 63,
    "start_time": "2024-06-09T18:11:37.382Z"
   },
   {
    "duration": 56,
    "start_time": "2024-06-09T18:11:37.447Z"
   },
   {
    "duration": 280,
    "start_time": "2024-06-09T18:11:37.523Z"
   },
   {
    "duration": 167,
    "start_time": "2024-06-09T18:11:37.806Z"
   },
   {
    "duration": 324,
    "start_time": "2024-06-09T18:11:37.980Z"
   },
   {
    "duration": 411,
    "start_time": "2024-06-09T18:11:38.307Z"
   },
   {
    "duration": 231,
    "start_time": "2024-06-09T18:11:38.721Z"
   },
   {
    "duration": 147,
    "start_time": "2024-06-09T18:11:38.956Z"
   },
   {
    "duration": 59,
    "start_time": "2024-06-09T18:11:39.106Z"
   },
   {
    "duration": 310,
    "start_time": "2024-06-09T18:11:39.168Z"
   },
   {
    "duration": 920,
    "start_time": "2024-06-09T18:11:39.482Z"
   },
   {
    "duration": 520,
    "start_time": "2024-06-09T18:11:40.405Z"
   },
   {
    "duration": 270,
    "start_time": "2024-06-09T18:11:40.928Z"
   },
   {
    "duration": 279,
    "start_time": "2024-06-09T18:11:41.201Z"
   },
   {
    "duration": 1389,
    "start_time": "2024-06-09T18:11:41.484Z"
   },
   {
    "duration": 1339,
    "start_time": "2024-06-09T18:11:42.877Z"
   },
   {
    "duration": 250,
    "start_time": "2024-06-09T18:11:44.223Z"
   },
   {
    "duration": 61,
    "start_time": "2024-06-09T18:11:44.477Z"
   },
   {
    "duration": 1405,
    "start_time": "2024-06-09T18:11:44.540Z"
   },
   {
    "duration": 370,
    "start_time": "2024-06-09T18:14:30.433Z"
   },
   {
    "duration": 2008,
    "start_time": "2024-06-09T18:14:57.621Z"
   },
   {
    "duration": 346,
    "start_time": "2024-06-09T18:14:59.634Z"
   },
   {
    "duration": 1326,
    "start_time": "2024-06-09T18:14:59.983Z"
   },
   {
    "duration": 32,
    "start_time": "2024-06-09T18:15:01.314Z"
   },
   {
    "duration": 10,
    "start_time": "2024-06-09T18:15:01.351Z"
   },
   {
    "duration": 59,
    "start_time": "2024-06-09T18:15:01.364Z"
   },
   {
    "duration": 8,
    "start_time": "2024-06-09T18:15:01.426Z"
   },
   {
    "duration": 3143,
    "start_time": "2024-06-09T18:15:01.437Z"
   },
   {
    "duration": 482,
    "start_time": "2024-06-09T18:15:04.583Z"
   },
   {
    "duration": 70,
    "start_time": "2024-06-09T18:15:05.068Z"
   },
   {
    "duration": 57,
    "start_time": "2024-06-09T18:15:05.141Z"
   },
   {
    "duration": 273,
    "start_time": "2024-06-09T18:15:05.222Z"
   },
   {
    "duration": 161,
    "start_time": "2024-06-09T18:15:05.499Z"
   },
   {
    "duration": 384,
    "start_time": "2024-06-09T18:15:05.667Z"
   },
   {
    "duration": 444,
    "start_time": "2024-06-09T18:15:06.055Z"
   },
   {
    "duration": 550,
    "start_time": "2024-06-09T18:15:06.502Z"
   },
   {
    "duration": 0,
    "start_time": "2024-06-09T18:15:07.056Z"
   },
   {
    "duration": 0,
    "start_time": "2024-06-09T18:15:07.058Z"
   },
   {
    "duration": 0,
    "start_time": "2024-06-09T18:15:07.060Z"
   },
   {
    "duration": 0,
    "start_time": "2024-06-09T18:15:07.062Z"
   },
   {
    "duration": 0,
    "start_time": "2024-06-09T18:15:07.065Z"
   },
   {
    "duration": 0,
    "start_time": "2024-06-09T18:15:07.067Z"
   },
   {
    "duration": 0,
    "start_time": "2024-06-09T18:15:07.071Z"
   },
   {
    "duration": 0,
    "start_time": "2024-06-09T18:15:07.074Z"
   },
   {
    "duration": 0,
    "start_time": "2024-06-09T18:15:07.077Z"
   },
   {
    "duration": 0,
    "start_time": "2024-06-09T18:15:07.080Z"
   },
   {
    "duration": 0,
    "start_time": "2024-06-09T18:15:07.124Z"
   },
   {
    "duration": 0,
    "start_time": "2024-06-09T18:15:07.127Z"
   },
   {
    "duration": 1519,
    "start_time": "2024-06-09T18:17:11.703Z"
   },
   {
    "duration": 200,
    "start_time": "2024-06-09T18:17:13.226Z"
   },
   {
    "duration": 1970,
    "start_time": "2024-06-09T18:17:13.429Z"
   },
   {
    "duration": 47,
    "start_time": "2024-06-09T18:17:15.403Z"
   },
   {
    "duration": 11,
    "start_time": "2024-06-09T18:17:15.456Z"
   },
   {
    "duration": 64,
    "start_time": "2024-06-09T18:17:15.470Z"
   },
   {
    "duration": 9,
    "start_time": "2024-06-09T18:17:15.537Z"
   },
   {
    "duration": 3275,
    "start_time": "2024-06-09T18:17:15.549Z"
   },
   {
    "duration": 465,
    "start_time": "2024-06-09T18:17:18.830Z"
   },
   {
    "duration": 51,
    "start_time": "2024-06-09T18:17:19.298Z"
   },
   {
    "duration": 68,
    "start_time": "2024-06-09T18:17:19.355Z"
   },
   {
    "duration": 289,
    "start_time": "2024-06-09T18:17:19.427Z"
   },
   {
    "duration": 160,
    "start_time": "2024-06-09T18:17:19.724Z"
   },
   {
    "duration": 400,
    "start_time": "2024-06-09T18:17:19.890Z"
   },
   {
    "duration": 419,
    "start_time": "2024-06-09T18:17:20.293Z"
   },
   {
    "duration": 555,
    "start_time": "2024-06-09T18:17:20.715Z"
   },
   {
    "duration": 0,
    "start_time": "2024-06-09T18:17:21.273Z"
   },
   {
    "duration": 0,
    "start_time": "2024-06-09T18:17:21.275Z"
   },
   {
    "duration": 0,
    "start_time": "2024-06-09T18:17:21.278Z"
   },
   {
    "duration": 0,
    "start_time": "2024-06-09T18:17:21.280Z"
   },
   {
    "duration": 0,
    "start_time": "2024-06-09T18:17:21.283Z"
   },
   {
    "duration": 0,
    "start_time": "2024-06-09T18:17:21.285Z"
   },
   {
    "duration": 0,
    "start_time": "2024-06-09T18:17:21.287Z"
   },
   {
    "duration": 0,
    "start_time": "2024-06-09T18:17:21.289Z"
   },
   {
    "duration": 0,
    "start_time": "2024-06-09T18:17:21.322Z"
   },
   {
    "duration": 0,
    "start_time": "2024-06-09T18:17:21.325Z"
   },
   {
    "duration": 0,
    "start_time": "2024-06-09T18:17:21.328Z"
   },
   {
    "duration": 0,
    "start_time": "2024-06-09T18:17:21.330Z"
   },
   {
    "duration": 1591,
    "start_time": "2024-06-09T18:17:55.959Z"
   },
   {
    "duration": 393,
    "start_time": "2024-06-09T18:17:57.555Z"
   },
   {
    "duration": 1495,
    "start_time": "2024-06-09T18:17:57.951Z"
   },
   {
    "duration": 29,
    "start_time": "2024-06-09T18:17:59.450Z"
   },
   {
    "duration": 38,
    "start_time": "2024-06-09T18:17:59.486Z"
   },
   {
    "duration": 25,
    "start_time": "2024-06-09T18:17:59.528Z"
   },
   {
    "duration": 8,
    "start_time": "2024-06-09T18:17:59.556Z"
   },
   {
    "duration": 3177,
    "start_time": "2024-06-09T18:17:59.567Z"
   },
   {
    "duration": 442,
    "start_time": "2024-06-09T18:18:02.747Z"
   },
   {
    "duration": 52,
    "start_time": "2024-06-09T18:18:03.192Z"
   },
   {
    "duration": 76,
    "start_time": "2024-06-09T18:18:03.247Z"
   },
   {
    "duration": 273,
    "start_time": "2024-06-09T18:18:03.326Z"
   },
   {
    "duration": 166,
    "start_time": "2024-06-09T18:18:03.602Z"
   },
   {
    "duration": 413,
    "start_time": "2024-06-09T18:18:03.774Z"
   },
   {
    "duration": 416,
    "start_time": "2024-06-09T18:18:04.191Z"
   },
   {
    "duration": 528,
    "start_time": "2024-06-09T18:18:04.610Z"
   },
   {
    "duration": 0,
    "start_time": "2024-06-09T18:18:05.141Z"
   },
   {
    "duration": 0,
    "start_time": "2024-06-09T18:18:05.143Z"
   },
   {
    "duration": 0,
    "start_time": "2024-06-09T18:18:05.146Z"
   },
   {
    "duration": 0,
    "start_time": "2024-06-09T18:18:05.150Z"
   },
   {
    "duration": 0,
    "start_time": "2024-06-09T18:18:05.152Z"
   },
   {
    "duration": 0,
    "start_time": "2024-06-09T18:18:05.155Z"
   },
   {
    "duration": 0,
    "start_time": "2024-06-09T18:18:05.157Z"
   },
   {
    "duration": 0,
    "start_time": "2024-06-09T18:18:05.160Z"
   },
   {
    "duration": 0,
    "start_time": "2024-06-09T18:18:05.162Z"
   },
   {
    "duration": 0,
    "start_time": "2024-06-09T18:18:05.165Z"
   },
   {
    "duration": 1,
    "start_time": "2024-06-09T18:18:05.167Z"
   },
   {
    "duration": 0,
    "start_time": "2024-06-09T18:18:05.169Z"
   },
   {
    "duration": 1565,
    "start_time": "2024-06-09T18:18:15.215Z"
   },
   {
    "duration": 213,
    "start_time": "2024-06-09T18:18:16.785Z"
   },
   {
    "duration": 1328,
    "start_time": "2024-06-09T18:18:17.001Z"
   },
   {
    "duration": 30,
    "start_time": "2024-06-09T18:18:18.332Z"
   },
   {
    "duration": 10,
    "start_time": "2024-06-09T18:18:18.368Z"
   },
   {
    "duration": 62,
    "start_time": "2024-06-09T18:18:18.381Z"
   },
   {
    "duration": 9,
    "start_time": "2024-06-09T18:18:18.446Z"
   },
   {
    "duration": 3289,
    "start_time": "2024-06-09T18:18:18.459Z"
   },
   {
    "duration": 971,
    "start_time": "2024-06-09T18:18:21.752Z"
   },
   {
    "duration": 104,
    "start_time": "2024-06-09T18:18:22.726Z"
   },
   {
    "duration": 108,
    "start_time": "2024-06-09T18:18:22.833Z"
   },
   {
    "duration": 307,
    "start_time": "2024-06-09T18:18:22.945Z"
   },
   {
    "duration": 199,
    "start_time": "2024-06-09T18:18:23.255Z"
   },
   {
    "duration": 388,
    "start_time": "2024-06-09T18:18:23.462Z"
   },
   {
    "duration": 465,
    "start_time": "2024-06-09T18:18:23.852Z"
   },
   {
    "duration": 556,
    "start_time": "2024-06-09T18:18:24.320Z"
   },
   {
    "duration": 0,
    "start_time": "2024-06-09T18:18:24.880Z"
   },
   {
    "duration": 0,
    "start_time": "2024-06-09T18:18:24.883Z"
   },
   {
    "duration": 0,
    "start_time": "2024-06-09T18:18:24.887Z"
   },
   {
    "duration": 0,
    "start_time": "2024-06-09T18:18:24.889Z"
   },
   {
    "duration": 0,
    "start_time": "2024-06-09T18:18:24.892Z"
   },
   {
    "duration": 0,
    "start_time": "2024-06-09T18:18:24.922Z"
   },
   {
    "duration": 0,
    "start_time": "2024-06-09T18:18:24.925Z"
   },
   {
    "duration": 0,
    "start_time": "2024-06-09T18:18:24.929Z"
   },
   {
    "duration": 0,
    "start_time": "2024-06-09T18:18:24.932Z"
   },
   {
    "duration": 0,
    "start_time": "2024-06-09T18:18:24.935Z"
   },
   {
    "duration": 0,
    "start_time": "2024-06-09T18:18:24.938Z"
   },
   {
    "duration": 0,
    "start_time": "2024-06-09T18:18:24.941Z"
   },
   {
    "duration": 225,
    "start_time": "2024-06-09T18:20:06.702Z"
   },
   {
    "duration": 1514,
    "start_time": "2024-06-09T18:20:22.812Z"
   },
   {
    "duration": 196,
    "start_time": "2024-06-09T18:20:24.330Z"
   },
   {
    "duration": 1924,
    "start_time": "2024-06-09T18:20:24.529Z"
   },
   {
    "duration": 30,
    "start_time": "2024-06-09T18:20:26.456Z"
   },
   {
    "duration": 33,
    "start_time": "2024-06-09T18:20:26.491Z"
   },
   {
    "duration": 25,
    "start_time": "2024-06-09T18:20:26.527Z"
   },
   {
    "duration": 8,
    "start_time": "2024-06-09T18:20:26.555Z"
   },
   {
    "duration": 3216,
    "start_time": "2024-06-09T18:20:26.566Z"
   },
   {
    "duration": 484,
    "start_time": "2024-06-09T18:20:29.786Z"
   },
   {
    "duration": 60,
    "start_time": "2024-06-09T18:20:30.272Z"
   },
   {
    "duration": 55,
    "start_time": "2024-06-09T18:20:30.335Z"
   },
   {
    "duration": 300,
    "start_time": "2024-06-09T18:20:30.393Z"
   },
   {
    "duration": 151,
    "start_time": "2024-06-09T18:20:30.696Z"
   },
   {
    "duration": 398,
    "start_time": "2024-06-09T18:20:30.853Z"
   },
   {
    "duration": 449,
    "start_time": "2024-06-09T18:20:31.254Z"
   },
   {
    "duration": 249,
    "start_time": "2024-06-09T18:20:31.707Z"
   },
   {
    "duration": 544,
    "start_time": "2024-06-09T18:20:31.960Z"
   },
   {
    "duration": 0,
    "start_time": "2024-06-09T18:20:32.507Z"
   },
   {
    "duration": 0,
    "start_time": "2024-06-09T18:20:32.523Z"
   },
   {
    "duration": 0,
    "start_time": "2024-06-09T18:20:32.526Z"
   },
   {
    "duration": 0,
    "start_time": "2024-06-09T18:20:32.529Z"
   },
   {
    "duration": 0,
    "start_time": "2024-06-09T18:20:32.531Z"
   },
   {
    "duration": 0,
    "start_time": "2024-06-09T18:20:32.534Z"
   },
   {
    "duration": 0,
    "start_time": "2024-06-09T18:20:32.535Z"
   },
   {
    "duration": 0,
    "start_time": "2024-06-09T18:20:32.538Z"
   },
   {
    "duration": 0,
    "start_time": "2024-06-09T18:20:32.541Z"
   },
   {
    "duration": 0,
    "start_time": "2024-06-09T18:20:32.544Z"
   },
   {
    "duration": 0,
    "start_time": "2024-06-09T18:20:32.546Z"
   },
   {
    "duration": 129,
    "start_time": "2024-06-09T18:21:18.576Z"
   },
   {
    "duration": 2124,
    "start_time": "2024-06-09T18:23:20.139Z"
   },
   {
    "duration": 263,
    "start_time": "2024-06-09T18:23:22.267Z"
   },
   {
    "duration": 1302,
    "start_time": "2024-06-09T18:23:22.536Z"
   },
   {
    "duration": 28,
    "start_time": "2024-06-09T18:23:23.842Z"
   },
   {
    "duration": 12,
    "start_time": "2024-06-09T18:23:23.876Z"
   },
   {
    "duration": 24,
    "start_time": "2024-06-09T18:23:23.924Z"
   },
   {
    "duration": 7,
    "start_time": "2024-06-09T18:23:23.952Z"
   },
   {
    "duration": 3192,
    "start_time": "2024-06-09T18:23:23.963Z"
   },
   {
    "duration": 479,
    "start_time": "2024-06-09T18:23:27.158Z"
   },
   {
    "duration": 45,
    "start_time": "2024-06-09T18:23:27.640Z"
   },
   {
    "duration": 78,
    "start_time": "2024-06-09T18:23:27.688Z"
   },
   {
    "duration": 278,
    "start_time": "2024-06-09T18:23:27.769Z"
   },
   {
    "duration": 130,
    "start_time": "2024-06-09T18:23:28.050Z"
   },
   {
    "duration": 392,
    "start_time": "2024-06-09T18:23:28.186Z"
   },
   {
    "duration": 425,
    "start_time": "2024-06-09T18:23:28.581Z"
   },
   {
    "duration": 228,
    "start_time": "2024-06-09T18:23:29.009Z"
   },
   {
    "duration": 147,
    "start_time": "2024-06-09T18:23:29.243Z"
   },
   {
    "duration": 62,
    "start_time": "2024-06-09T18:23:29.394Z"
   },
   {
    "duration": 338,
    "start_time": "2024-06-09T18:23:29.459Z"
   },
   {
    "duration": 947,
    "start_time": "2024-06-09T18:23:29.801Z"
   },
   {
    "duration": 547,
    "start_time": "2024-06-09T18:23:30.751Z"
   },
   {
    "duration": 279,
    "start_time": "2024-06-09T18:23:31.302Z"
   },
   {
    "duration": 287,
    "start_time": "2024-06-09T18:23:31.589Z"
   },
   {
    "duration": 1421,
    "start_time": "2024-06-09T18:23:31.881Z"
   },
   {
    "duration": 1380,
    "start_time": "2024-06-09T18:23:33.305Z"
   },
   {
    "duration": 260,
    "start_time": "2024-06-09T18:23:34.689Z"
   },
   {
    "duration": 70,
    "start_time": "2024-06-09T18:23:34.953Z"
   },
   {
    "duration": 1409,
    "start_time": "2024-06-09T18:23:35.026Z"
   },
   {
    "duration": 286,
    "start_time": "2024-06-09T18:25:26.566Z"
   },
   {
    "duration": 326,
    "start_time": "2024-06-09T18:27:09.947Z"
   },
   {
    "duration": 1475,
    "start_time": "2024-06-09T18:28:15.452Z"
   },
   {
    "duration": 193,
    "start_time": "2024-06-09T18:28:16.931Z"
   },
   {
    "duration": 1268,
    "start_time": "2024-06-09T18:28:17.128Z"
   },
   {
    "duration": 43,
    "start_time": "2024-06-09T18:28:18.400Z"
   },
   {
    "duration": 13,
    "start_time": "2024-06-09T18:28:18.446Z"
   },
   {
    "duration": 26,
    "start_time": "2024-06-09T18:28:18.463Z"
   },
   {
    "duration": 8,
    "start_time": "2024-06-09T18:28:18.525Z"
   },
   {
    "duration": 3842,
    "start_time": "2024-06-09T18:28:18.537Z"
   },
   {
    "duration": 446,
    "start_time": "2024-06-09T18:28:22.382Z"
   },
   {
    "duration": 47,
    "start_time": "2024-06-09T18:28:22.838Z"
   },
   {
    "duration": 74,
    "start_time": "2024-06-09T18:28:22.891Z"
   },
   {
    "duration": 264,
    "start_time": "2024-06-09T18:28:22.969Z"
   },
   {
    "duration": 135,
    "start_time": "2024-06-09T18:28:23.237Z"
   },
   {
    "duration": 395,
    "start_time": "2024-06-09T18:28:23.375Z"
   },
   {
    "duration": 437,
    "start_time": "2024-06-09T18:28:23.774Z"
   },
   {
    "duration": 222,
    "start_time": "2024-06-09T18:28:24.214Z"
   },
   {
    "duration": 155,
    "start_time": "2024-06-09T18:28:24.440Z"
   },
   {
    "duration": 59,
    "start_time": "2024-06-09T18:28:24.598Z"
   },
   {
    "duration": 311,
    "start_time": "2024-06-09T18:28:24.660Z"
   },
   {
    "duration": 933,
    "start_time": "2024-06-09T18:28:24.974Z"
   },
   {
    "duration": 521,
    "start_time": "2024-06-09T18:28:25.911Z"
   },
   {
    "duration": 266,
    "start_time": "2024-06-09T18:28:26.436Z"
   },
   {
    "duration": 286,
    "start_time": "2024-06-09T18:28:26.706Z"
   },
   {
    "duration": 1399,
    "start_time": "2024-06-09T18:28:26.994Z"
   },
   {
    "duration": 1371,
    "start_time": "2024-06-09T18:28:28.397Z"
   },
   {
    "duration": 267,
    "start_time": "2024-06-09T18:28:29.772Z"
   },
   {
    "duration": 46,
    "start_time": "2024-06-09T18:28:30.042Z"
   },
   {
    "duration": 1418,
    "start_time": "2024-06-09T18:28:30.124Z"
   },
   {
    "duration": 1454,
    "start_time": "2024-06-09T18:32:19.286Z"
   },
   {
    "duration": 201,
    "start_time": "2024-06-09T18:32:20.745Z"
   },
   {
    "duration": 1313,
    "start_time": "2024-06-09T18:32:20.949Z"
   },
   {
    "duration": 29,
    "start_time": "2024-06-09T18:32:22.266Z"
   },
   {
    "duration": 26,
    "start_time": "2024-06-09T18:32:22.299Z"
   },
   {
    "duration": 24,
    "start_time": "2024-06-09T18:32:22.327Z"
   },
   {
    "duration": 8,
    "start_time": "2024-06-09T18:32:22.354Z"
   },
   {
    "duration": 3738,
    "start_time": "2024-06-09T18:32:22.365Z"
   },
   {
    "duration": 451,
    "start_time": "2024-06-09T18:32:26.107Z"
   },
   {
    "duration": 62,
    "start_time": "2024-06-09T18:32:26.561Z"
   },
   {
    "duration": 54,
    "start_time": "2024-06-09T18:32:26.626Z"
   },
   {
    "duration": 276,
    "start_time": "2024-06-09T18:32:26.684Z"
   },
   {
    "duration": 164,
    "start_time": "2024-06-09T18:32:26.963Z"
   },
   {
    "duration": 382,
    "start_time": "2024-06-09T18:32:27.135Z"
   },
   {
    "duration": 454,
    "start_time": "2024-06-09T18:32:27.524Z"
   },
   {
    "duration": 226,
    "start_time": "2024-06-09T18:32:27.981Z"
   },
   {
    "duration": 151,
    "start_time": "2024-06-09T18:32:28.209Z"
   },
   {
    "duration": 61,
    "start_time": "2024-06-09T18:32:28.363Z"
   },
   {
    "duration": 301,
    "start_time": "2024-06-09T18:32:28.428Z"
   },
   {
    "duration": 940,
    "start_time": "2024-06-09T18:32:28.732Z"
   },
   {
    "duration": 527,
    "start_time": "2024-06-09T18:32:29.675Z"
   },
   {
    "duration": 264,
    "start_time": "2024-06-09T18:32:30.206Z"
   },
   {
    "duration": 298,
    "start_time": "2024-06-09T18:32:30.472Z"
   },
   {
    "duration": 1371,
    "start_time": "2024-06-09T18:32:30.772Z"
   },
   {
    "duration": 1369,
    "start_time": "2024-06-09T18:32:32.147Z"
   },
   {
    "duration": 261,
    "start_time": "2024-06-09T18:32:33.519Z"
   },
   {
    "duration": 70,
    "start_time": "2024-06-09T18:32:33.784Z"
   },
   {
    "duration": 1415,
    "start_time": "2024-06-09T18:32:33.858Z"
   },
   {
    "duration": 877,
    "start_time": "2024-06-09T18:34:04.138Z"
   },
   {
    "duration": 799,
    "start_time": "2024-06-09T18:34:39.696Z"
   },
   {
    "duration": 656,
    "start_time": "2024-06-09T18:34:54.052Z"
   },
   {
    "duration": 774,
    "start_time": "2024-06-09T18:35:00.219Z"
   },
   {
    "duration": 605,
    "start_time": "2024-06-09T18:35:06.782Z"
   },
   {
    "duration": 507,
    "start_time": "2024-06-09T18:37:45.181Z"
   },
   {
    "duration": 534,
    "start_time": "2024-06-09T18:39:47.216Z"
   },
   {
    "duration": 3040,
    "start_time": "2024-06-09T18:40:49.692Z"
   },
   {
    "duration": 428,
    "start_time": "2024-06-09T18:40:52.737Z"
   },
   {
    "duration": 1451,
    "start_time": "2024-06-09T18:40:53.168Z"
   },
   {
    "duration": 31,
    "start_time": "2024-06-09T18:40:54.623Z"
   },
   {
    "duration": 10,
    "start_time": "2024-06-09T18:40:54.659Z"
   },
   {
    "duration": 62,
    "start_time": "2024-06-09T18:40:54.672Z"
   },
   {
    "duration": 9,
    "start_time": "2024-06-09T18:40:54.736Z"
   },
   {
    "duration": 3328,
    "start_time": "2024-06-09T18:40:54.748Z"
   },
   {
    "duration": 468,
    "start_time": "2024-06-09T18:40:58.080Z"
   },
   {
    "duration": 45,
    "start_time": "2024-06-09T18:40:58.551Z"
   },
   {
    "duration": 75,
    "start_time": "2024-06-09T18:40:58.599Z"
   },
   {
    "duration": 269,
    "start_time": "2024-06-09T18:40:58.677Z"
   },
   {
    "duration": 176,
    "start_time": "2024-06-09T18:40:58.949Z"
   },
   {
    "duration": 376,
    "start_time": "2024-06-09T18:40:59.131Z"
   },
   {
    "duration": 401,
    "start_time": "2024-06-09T18:40:59.511Z"
   },
   {
    "duration": 231,
    "start_time": "2024-06-09T18:40:59.916Z"
   },
   {
    "duration": 146,
    "start_time": "2024-06-09T18:41:00.150Z"
   },
   {
    "duration": 60,
    "start_time": "2024-06-09T18:41:00.299Z"
   },
   {
    "duration": 310,
    "start_time": "2024-06-09T18:41:00.362Z"
   },
   {
    "duration": 937,
    "start_time": "2024-06-09T18:41:00.675Z"
   },
   {
    "duration": 514,
    "start_time": "2024-06-09T18:41:01.615Z"
   },
   {
    "duration": 491,
    "start_time": "2024-06-09T18:41:02.132Z"
   },
   {
    "duration": 0,
    "start_time": "2024-06-09T18:41:02.625Z"
   },
   {
    "duration": 0,
    "start_time": "2024-06-09T18:41:02.627Z"
   },
   {
    "duration": 0,
    "start_time": "2024-06-09T18:41:02.630Z"
   },
   {
    "duration": 0,
    "start_time": "2024-06-09T18:41:02.633Z"
   },
   {
    "duration": 0,
    "start_time": "2024-06-09T18:41:02.634Z"
   },
   {
    "duration": 0,
    "start_time": "2024-06-09T18:41:02.637Z"
   },
   {
    "duration": 38,
    "start_time": "2024-06-09T18:41:54.018Z"
   },
   {
    "duration": 39,
    "start_time": "2024-06-09T18:42:32.836Z"
   },
   {
    "duration": 106,
    "start_time": "2024-06-09T18:44:20.333Z"
   },
   {
    "duration": 1963,
    "start_time": "2024-06-09T18:45:19.931Z"
   },
   {
    "duration": 0,
    "start_time": "2024-06-09T18:45:21.899Z"
   },
   {
    "duration": 0,
    "start_time": "2024-06-09T18:45:21.901Z"
   },
   {
    "duration": 0,
    "start_time": "2024-06-09T18:45:21.905Z"
   },
   {
    "duration": 0,
    "start_time": "2024-06-09T18:45:21.907Z"
   },
   {
    "duration": 0,
    "start_time": "2024-06-09T18:45:21.924Z"
   },
   {
    "duration": 0,
    "start_time": "2024-06-09T18:45:21.927Z"
   },
   {
    "duration": 0,
    "start_time": "2024-06-09T18:45:21.929Z"
   },
   {
    "duration": 0,
    "start_time": "2024-06-09T18:45:21.931Z"
   },
   {
    "duration": 0,
    "start_time": "2024-06-09T18:45:21.933Z"
   },
   {
    "duration": 0,
    "start_time": "2024-06-09T18:45:21.935Z"
   },
   {
    "duration": 0,
    "start_time": "2024-06-09T18:45:21.938Z"
   },
   {
    "duration": 0,
    "start_time": "2024-06-09T18:45:21.940Z"
   },
   {
    "duration": 0,
    "start_time": "2024-06-09T18:45:21.942Z"
   },
   {
    "duration": 0,
    "start_time": "2024-06-09T18:45:21.944Z"
   },
   {
    "duration": 0,
    "start_time": "2024-06-09T18:45:21.947Z"
   },
   {
    "duration": 0,
    "start_time": "2024-06-09T18:45:21.951Z"
   },
   {
    "duration": 0,
    "start_time": "2024-06-09T18:45:21.953Z"
   },
   {
    "duration": 0,
    "start_time": "2024-06-09T18:45:21.955Z"
   },
   {
    "duration": 0,
    "start_time": "2024-06-09T18:45:21.958Z"
   },
   {
    "duration": 0,
    "start_time": "2024-06-09T18:45:21.960Z"
   },
   {
    "duration": 0,
    "start_time": "2024-06-09T18:45:21.962Z"
   },
   {
    "duration": 0,
    "start_time": "2024-06-09T18:45:21.965Z"
   },
   {
    "duration": 0,
    "start_time": "2024-06-09T18:45:22.023Z"
   },
   {
    "duration": 0,
    "start_time": "2024-06-09T18:45:22.025Z"
   },
   {
    "duration": 0,
    "start_time": "2024-06-09T18:45:22.028Z"
   },
   {
    "duration": 0,
    "start_time": "2024-06-09T18:45:22.034Z"
   },
   {
    "duration": 0,
    "start_time": "2024-06-09T18:45:22.038Z"
   },
   {
    "duration": 1892,
    "start_time": "2024-06-09T18:45:33.187Z"
   },
   {
    "duration": 0,
    "start_time": "2024-06-09T18:45:35.084Z"
   },
   {
    "duration": 0,
    "start_time": "2024-06-09T18:45:35.087Z"
   },
   {
    "duration": 0,
    "start_time": "2024-06-09T18:45:35.090Z"
   },
   {
    "duration": 0,
    "start_time": "2024-06-09T18:45:35.092Z"
   },
   {
    "duration": 0,
    "start_time": "2024-06-09T18:45:35.095Z"
   },
   {
    "duration": 0,
    "start_time": "2024-06-09T18:45:35.098Z"
   },
   {
    "duration": 0,
    "start_time": "2024-06-09T18:45:35.124Z"
   },
   {
    "duration": 0,
    "start_time": "2024-06-09T18:45:35.126Z"
   },
   {
    "duration": 0,
    "start_time": "2024-06-09T18:45:35.128Z"
   },
   {
    "duration": 0,
    "start_time": "2024-06-09T18:45:35.131Z"
   },
   {
    "duration": 0,
    "start_time": "2024-06-09T18:45:35.134Z"
   },
   {
    "duration": 0,
    "start_time": "2024-06-09T18:45:35.135Z"
   },
   {
    "duration": 0,
    "start_time": "2024-06-09T18:45:35.138Z"
   },
   {
    "duration": 0,
    "start_time": "2024-06-09T18:45:35.141Z"
   },
   {
    "duration": 0,
    "start_time": "2024-06-09T18:45:35.144Z"
   },
   {
    "duration": 0,
    "start_time": "2024-06-09T18:45:35.145Z"
   },
   {
    "duration": 0,
    "start_time": "2024-06-09T18:45:35.148Z"
   },
   {
    "duration": 0,
    "start_time": "2024-06-09T18:45:35.151Z"
   },
   {
    "duration": 0,
    "start_time": "2024-06-09T18:45:35.159Z"
   },
   {
    "duration": 0,
    "start_time": "2024-06-09T18:45:35.162Z"
   },
   {
    "duration": 0,
    "start_time": "2024-06-09T18:45:35.224Z"
   },
   {
    "duration": 0,
    "start_time": "2024-06-09T18:45:35.227Z"
   },
   {
    "duration": 0,
    "start_time": "2024-06-09T18:45:35.230Z"
   },
   {
    "duration": 0,
    "start_time": "2024-06-09T18:45:35.233Z"
   },
   {
    "duration": 0,
    "start_time": "2024-06-09T18:45:35.235Z"
   },
   {
    "duration": 0,
    "start_time": "2024-06-09T18:45:35.239Z"
   },
   {
    "duration": 0,
    "start_time": "2024-06-09T18:45:35.243Z"
   },
   {
    "duration": 20,
    "start_time": "2024-06-09T18:47:16.892Z"
   },
   {
    "duration": 1476,
    "start_time": "2024-06-09T18:47:23.193Z"
   },
   {
    "duration": 224,
    "start_time": "2024-06-09T18:47:24.674Z"
   },
   {
    "duration": 1264,
    "start_time": "2024-06-09T18:47:24.902Z"
   },
   {
    "duration": 29,
    "start_time": "2024-06-09T18:47:26.169Z"
   },
   {
    "duration": 10,
    "start_time": "2024-06-09T18:47:26.225Z"
   },
   {
    "duration": 24,
    "start_time": "2024-06-09T18:47:26.238Z"
   },
   {
    "duration": 8,
    "start_time": "2024-06-09T18:47:26.265Z"
   },
   {
    "duration": 3915,
    "start_time": "2024-06-09T18:47:26.277Z"
   },
   {
    "duration": 458,
    "start_time": "2024-06-09T18:47:30.197Z"
   },
   {
    "duration": 44,
    "start_time": "2024-06-09T18:47:30.658Z"
   },
   {
    "duration": 58,
    "start_time": "2024-06-09T18:47:30.724Z"
   },
   {
    "duration": 280,
    "start_time": "2024-06-09T18:47:30.786Z"
   },
   {
    "duration": 189,
    "start_time": "2024-06-09T18:47:31.069Z"
   },
   {
    "duration": 369,
    "start_time": "2024-06-09T18:47:31.264Z"
   },
   {
    "duration": 447,
    "start_time": "2024-06-09T18:47:31.636Z"
   },
   {
    "duration": 238,
    "start_time": "2024-06-09T18:47:32.085Z"
   },
   {
    "duration": 166,
    "start_time": "2024-06-09T18:47:32.327Z"
   },
   {
    "duration": 54,
    "start_time": "2024-06-09T18:47:32.500Z"
   },
   {
    "duration": 314,
    "start_time": "2024-06-09T18:47:32.557Z"
   },
   {
    "duration": 972,
    "start_time": "2024-06-09T18:47:32.874Z"
   },
   {
    "duration": 521,
    "start_time": "2024-06-09T18:47:33.852Z"
   },
   {
    "duration": 548,
    "start_time": "2024-06-09T18:47:34.376Z"
   },
   {
    "duration": 0,
    "start_time": "2024-06-09T18:47:34.927Z"
   },
   {
    "duration": 0,
    "start_time": "2024-06-09T18:47:34.929Z"
   },
   {
    "duration": 0,
    "start_time": "2024-06-09T18:47:34.933Z"
   },
   {
    "duration": 0,
    "start_time": "2024-06-09T18:47:34.935Z"
   },
   {
    "duration": 0,
    "start_time": "2024-06-09T18:47:34.938Z"
   },
   {
    "duration": 0,
    "start_time": "2024-06-09T18:47:34.941Z"
   },
   {
    "duration": 259,
    "start_time": "2024-06-09T18:48:42.184Z"
   },
   {
    "duration": 284,
    "start_time": "2024-06-09T18:56:25.940Z"
   },
   {
    "duration": 1443,
    "start_time": "2024-06-09T18:57:36.589Z"
   },
   {
    "duration": 1312,
    "start_time": "2024-06-09T19:00:26.436Z"
   },
   {
    "duration": 40,
    "start_time": "2024-06-09T19:03:52.900Z"
   },
   {
    "duration": 1523,
    "start_time": "2024-06-09T19:03:58.536Z"
   },
   {
    "duration": 206,
    "start_time": "2024-06-09T19:04:00.063Z"
   },
   {
    "duration": 1264,
    "start_time": "2024-06-09T19:04:00.272Z"
   },
   {
    "duration": 30,
    "start_time": "2024-06-09T19:04:01.540Z"
   },
   {
    "duration": 9,
    "start_time": "2024-06-09T19:04:01.575Z"
   },
   {
    "duration": 58,
    "start_time": "2024-06-09T19:04:01.588Z"
   },
   {
    "duration": 8,
    "start_time": "2024-06-09T19:04:01.650Z"
   },
   {
    "duration": 3798,
    "start_time": "2024-06-09T19:04:01.661Z"
   },
   {
    "duration": 470,
    "start_time": "2024-06-09T19:04:05.462Z"
   },
   {
    "duration": 43,
    "start_time": "2024-06-09T19:04:05.935Z"
   },
   {
    "duration": 80,
    "start_time": "2024-06-09T19:04:05.981Z"
   },
   {
    "duration": 273,
    "start_time": "2024-06-09T19:04:06.064Z"
   },
   {
    "duration": 144,
    "start_time": "2024-06-09T19:04:06.341Z"
   },
   {
    "duration": 399,
    "start_time": "2024-06-09T19:04:06.492Z"
   },
   {
    "duration": 412,
    "start_time": "2024-06-09T19:04:06.894Z"
   },
   {
    "duration": 244,
    "start_time": "2024-06-09T19:04:07.309Z"
   },
   {
    "duration": 145,
    "start_time": "2024-06-09T19:04:07.556Z"
   },
   {
    "duration": 55,
    "start_time": "2024-06-09T19:04:07.704Z"
   },
   {
    "duration": 326,
    "start_time": "2024-06-09T19:04:07.762Z"
   },
   {
    "duration": 924,
    "start_time": "2024-06-09T19:04:08.091Z"
   },
   {
    "duration": 517,
    "start_time": "2024-06-09T19:04:09.023Z"
   },
   {
    "duration": 301,
    "start_time": "2024-06-09T19:04:09.543Z"
   },
   {
    "duration": 324,
    "start_time": "2024-06-09T19:04:09.851Z"
   },
   {
    "duration": 1432,
    "start_time": "2024-06-09T19:04:10.178Z"
   },
   {
    "duration": 1322,
    "start_time": "2024-06-09T19:04:11.614Z"
   },
   {
    "duration": 524,
    "start_time": "2024-06-09T19:04:12.940Z"
   },
   {
    "duration": 0,
    "start_time": "2024-06-09T19:04:13.467Z"
   },
   {
    "duration": 0,
    "start_time": "2024-06-09T19:04:13.470Z"
   },
   {
    "duration": 10,
    "start_time": "2024-06-09T19:10:06.241Z"
   },
   {
    "duration": 105,
    "start_time": "2024-06-09T19:11:12.409Z"
   },
   {
    "duration": 1871,
    "start_time": "2024-06-09T19:58:45.976Z"
   },
   {
    "duration": 402,
    "start_time": "2024-06-09T19:58:47.851Z"
   },
   {
    "duration": 1335,
    "start_time": "2024-06-09T19:58:48.256Z"
   },
   {
    "duration": 40,
    "start_time": "2024-06-09T19:58:49.596Z"
   },
   {
    "duration": 13,
    "start_time": "2024-06-09T19:58:49.642Z"
   },
   {
    "duration": 27,
    "start_time": "2024-06-09T19:58:49.659Z"
   },
   {
    "duration": 11,
    "start_time": "2024-06-09T19:58:49.724Z"
   },
   {
    "duration": 3185,
    "start_time": "2024-06-09T19:58:49.739Z"
   },
   {
    "duration": 459,
    "start_time": "2024-06-09T19:58:52.928Z"
   },
   {
    "duration": 58,
    "start_time": "2024-06-09T19:58:53.390Z"
   },
   {
    "duration": 77,
    "start_time": "2024-06-09T19:58:53.451Z"
   },
   {
    "duration": 294,
    "start_time": "2024-06-09T19:58:53.532Z"
   },
   {
    "duration": 145,
    "start_time": "2024-06-09T19:58:53.829Z"
   },
   {
    "duration": 394,
    "start_time": "2024-06-09T19:58:53.981Z"
   },
   {
    "duration": 445,
    "start_time": "2024-06-09T19:58:54.378Z"
   },
   {
    "duration": 265,
    "start_time": "2024-06-09T19:58:54.827Z"
   },
   {
    "duration": 158,
    "start_time": "2024-06-09T19:58:55.096Z"
   },
   {
    "duration": 68,
    "start_time": "2024-06-09T19:58:55.257Z"
   },
   {
    "duration": 324,
    "start_time": "2024-06-09T19:58:55.328Z"
   },
   {
    "duration": 991,
    "start_time": "2024-06-09T19:58:55.655Z"
   },
   {
    "duration": 547,
    "start_time": "2024-06-09T19:58:56.650Z"
   },
   {
    "duration": 285,
    "start_time": "2024-06-09T19:58:57.201Z"
   },
   {
    "duration": 299,
    "start_time": "2024-06-09T19:58:57.489Z"
   },
   {
    "duration": 1450,
    "start_time": "2024-06-09T19:58:57.792Z"
   },
   {
    "duration": 1424,
    "start_time": "2024-06-09T19:58:59.247Z"
   },
   {
    "duration": 267,
    "start_time": "2024-06-09T19:59:00.675Z"
   },
   {
    "duration": 42,
    "start_time": "2024-06-09T19:59:00.946Z"
   },
   {
    "duration": 1376,
    "start_time": "2024-06-09T19:59:00.992Z"
   },
   {
    "duration": 886,
    "start_time": "2024-06-09T20:12:26.543Z"
   },
   {
    "duration": 532,
    "start_time": "2024-06-09T20:14:50.377Z"
   },
   {
    "duration": 274,
    "start_time": "2024-06-09T20:17:26.054Z"
   },
   {
    "duration": 2056,
    "start_time": "2024-06-09T20:19:14.900Z"
   },
   {
    "duration": 395,
    "start_time": "2024-06-09T20:19:16.960Z"
   },
   {
    "duration": 1270,
    "start_time": "2024-06-09T20:19:17.358Z"
   },
   {
    "duration": 28,
    "start_time": "2024-06-09T20:19:18.631Z"
   },
   {
    "duration": 9,
    "start_time": "2024-06-09T20:19:18.666Z"
   },
   {
    "duration": 64,
    "start_time": "2024-06-09T20:19:18.679Z"
   },
   {
    "duration": 8,
    "start_time": "2024-06-09T20:19:18.746Z"
   },
   {
    "duration": 3095,
    "start_time": "2024-06-09T20:19:18.757Z"
   },
   {
    "duration": 456,
    "start_time": "2024-06-09T20:19:21.858Z"
   },
   {
    "duration": 44,
    "start_time": "2024-06-09T20:19:22.323Z"
   },
   {
    "duration": 76,
    "start_time": "2024-06-09T20:19:22.370Z"
   },
   {
    "duration": 279,
    "start_time": "2024-06-09T20:19:22.449Z"
   },
   {
    "duration": 145,
    "start_time": "2024-06-09T20:19:22.731Z"
   },
   {
    "duration": 401,
    "start_time": "2024-06-09T20:19:22.885Z"
   },
   {
    "duration": 410,
    "start_time": "2024-06-09T20:19:23.290Z"
   },
   {
    "duration": 233,
    "start_time": "2024-06-09T20:19:23.703Z"
   },
   {
    "duration": 185,
    "start_time": "2024-06-09T20:19:23.940Z"
   },
   {
    "duration": 52,
    "start_time": "2024-06-09T20:19:24.132Z"
   },
   {
    "duration": 317,
    "start_time": "2024-06-09T20:19:24.188Z"
   },
   {
    "duration": 983,
    "start_time": "2024-06-09T20:19:24.508Z"
   },
   {
    "duration": 533,
    "start_time": "2024-06-09T20:19:25.495Z"
   },
   {
    "duration": 280,
    "start_time": "2024-06-09T20:19:26.032Z"
   },
   {
    "duration": 325,
    "start_time": "2024-06-09T20:19:26.316Z"
   },
   {
    "duration": 1511,
    "start_time": "2024-06-09T20:19:26.645Z"
   },
   {
    "duration": 1396,
    "start_time": "2024-06-09T20:19:28.159Z"
   },
   {
    "duration": 305,
    "start_time": "2024-06-09T20:19:29.559Z"
   },
   {
    "duration": 77,
    "start_time": "2024-06-09T20:19:29.869Z"
   },
   {
    "duration": 1614,
    "start_time": "2024-06-09T20:19:29.950Z"
   },
   {
    "duration": 1378,
    "start_time": "2024-06-09T20:21:43.982Z"
   },
   {
    "duration": 244,
    "start_time": "2024-06-09T20:23:39.155Z"
   },
   {
    "duration": 50,
    "start_time": "2024-06-09T20:25:33.757Z"
   },
   {
    "duration": 461,
    "start_time": "2024-06-09T20:26:25.480Z"
   }
  ],
  "kernelspec": {
   "display_name": "Python 3 (ipykernel)",
   "language": "python",
   "name": "python3"
  },
  "language_info": {
   "codemirror_mode": {
    "name": "ipython",
    "version": 3
   },
   "file_extension": ".py",
   "mimetype": "text/x-python",
   "name": "python",
   "nbconvert_exporter": "python",
   "pygments_lexer": "ipython3",
   "version": "3.12.5"
  },
  "toc": {
   "base_numbering": 1,
   "nav_menu": {},
   "number_sections": true,
   "sideBar": true,
   "skip_h1_title": true,
   "title_cell": "Table of Contents",
   "title_sidebar": "Contents",
   "toc_cell": false,
   "toc_position": {
    "height": "calc(100% - 180px)",
    "left": "10px",
    "top": "150px",
    "width": "302px"
   },
   "toc_section_display": true,
   "toc_window_display": true
  }
 },
 "nbformat": 4,
 "nbformat_minor": 2
}
